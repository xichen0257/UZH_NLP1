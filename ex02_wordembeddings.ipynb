{
  "nbformat": 4,
  "nbformat_minor": 0,
  "metadata": {
    "kernelspec": {
      "display_name": "Python 3",
      "name": "python3"
    },
    "language_info": {
      "codemirror_mode": {
        "name": "ipython",
        "version": 3
      },
      "file_extension": ".py",
      "mimetype": "text/x-python",
      "name": "python",
      "nbconvert_exporter": "python",
      "pygments_lexer": "ipython3",
      "version": "3.6.6"
    },
    "colab": {
      "provenance": [],
      "gpuType": "T4"
    },
    "accelerator": "GPU"
  },
  "cells": [
    {
      "cell_type": "code",
      "metadata": {
        "id": "Wvrt-REqt5ez"
      },
      "source": [
        "%matplotlib inline"
      ],
      "execution_count": 1,
      "outputs": []
    },
    {
      "cell_type": "markdown",
      "metadata": {
        "id": "rMv2k-eFt5e5"
      },
      "source": [
        "Source: [https://pytorch.org/tutorials/beginner/nlp/word_embeddings_tutorial.html#exercise-computing-word-embeddings-continuous-bag-of-words](https://pytorch.org/tutorials/beginner/nlp/word_embeddings_tutorial.html#exercise-computing-word-embeddings-continuous-bag-of-words)\n",
        "\n",
        "# Word Embeddings: Encoding Lexical Semantics\n",
        "\n",
        "Word embeddings are dense vectors of real numbers, one per word in your\n",
        "vocabulary. In NLP, it is almost always the case that your features are\n",
        "words! But how should you represent a word in a computer? You could\n",
        "store its ascii character representation, but that only tells you what\n",
        "the word *is*, it doesn't say much about what it *means* (you might be\n",
        "able to derive its part of speech from its affixes, or properties from\n",
        "its capitalization, but not much). Even more, in what sense could you\n",
        "combine these representations? We often want dense outputs from our\n",
        "neural networks, where the inputs are $|V|$ dimensional, where\n",
        "$V$ is our vocabulary, but often the outputs are only a few\n",
        "dimensional (if we are only predicting a handful of labels, for\n",
        "instance). How do we get from a massive dimensional space to a smaller\n",
        "dimensional space?\n",
        "\n",
        "How about instead of ascii representations, we use a one-hot encoding?\n",
        "That is, we represent the word $w$ by\n",
        "\n",
        "\\begin{align}\\overbrace{\\left[ 0, 0, \\dots, 1, \\dots, 0, 0 \\right]}^\\text{|V| elements}\\end{align}\n",
        "\n",
        "where the 1 is in a location unique to $w$. Any other word will\n",
        "have a 1 in some other location, and a 0 everywhere else.\n",
        "\n",
        "There is an enormous drawback to this representation, besides just how\n",
        "huge it is. It basically treats all words as independent entities with\n",
        "no relation to each other. What we really want is some notion of\n",
        "*similarity* between words. Why? Let's see an example.\n",
        "\n",
        "Suppose we are building a language model. Suppose we have seen the\n",
        "sentences\n",
        "\n",
        "* The mathematician ran to the store.\n",
        "* The physicist ran to the store.\n",
        "* The mathematician solved the open problem.\n",
        "\n",
        "in our training data. Now suppose we get a new sentence never before\n",
        "seen in our training data:\n",
        "\n",
        "* The physicist solved the open problem.\n",
        "\n",
        "Our language model might do OK on this sentence, but wouldn't it be much\n",
        "better if we could use the following two facts:\n",
        "\n",
        "* We have seen  mathematician and physicist in the same role in a sentence. Somehow they\n",
        "  have a semantic relation.\n",
        "* We have seen mathematician in the same role  in this new unseen sentence\n",
        "  as we are now seeing physicist.\n",
        "\n",
        "and then infer that physicist is actually a good fit in the new unseen\n",
        "sentence? This is what we mean by a notion of similarity: we mean\n",
        "*semantic similarity*, not simply having similar orthographic\n",
        "representations. It is a technique to combat the sparsity of linguistic\n",
        "data, by connecting the dots between what we have seen and what we\n",
        "haven't. This example of course relies on a fundamental linguistic\n",
        "assumption: that words appearing in similar contexts are related to each\n",
        "other semantically. This is called the `distributional\n",
        "hypothesis <https://en.wikipedia.org/wiki/Distributional_semantics>`__.\n",
        "\n",
        "\n",
        "# Getting Dense Word Embeddings\n",
        "\n",
        "How can we solve this problem? That is, how could we actually encode\n",
        "semantic similarity in words? Maybe we think up some semantic\n",
        "attributes. For example, we see that both mathematicians and physicists\n",
        "can run, so maybe we give these words a high score for the \"is able to\n",
        "run\" semantic attribute. Think of some other attributes, and imagine\n",
        "what you might score some common words on those attributes.\n",
        "\n",
        "If each attribute is a dimension, then we might give each word a vector,\n",
        "like this:\n",
        "\n",
        "\\begin{align}q_\\text{mathematician} = \\left[ \\overbrace{2.3}^\\text{can run},\n",
        "   \\overbrace{9.4}^\\text{likes coffee}, \\overbrace{-5.5}^\\text{majored in Physics}, \\dots \\right]\\end{align}\n",
        "\n",
        "\\begin{align}q_\\text{physicist} = \\left[ \\overbrace{2.5}^\\text{can run},\n",
        "   \\overbrace{9.1}^\\text{likes coffee}, \\overbrace{6.4}^\\text{majored in Physics}, \\dots \\right]\\end{align}\n",
        "\n",
        "Then we can get a measure of similarity between these words by doing:\n",
        "\n",
        "\\begin{align}\\text{Similarity}(\\text{physicist}, \\text{mathematician}) = q_\\text{physicist} \\cdot q_\\text{mathematician}\\end{align}\n",
        "\n",
        "Although it is more common to normalize by the lengths:\n",
        "\n",
        "\\begin{align}\\text{Similarity}(\\text{physicist}, \\text{mathematician}) = \\frac{q_\\text{physicist} \\cdot q_\\text{mathematician}}\n",
        "   {\\| q_\\text{\\physicist} \\| \\| q_\\text{mathematician} \\|} = \\cos (\\phi)\\end{align}\n",
        "\n",
        "Where $\\phi$ is the angle between the two vectors. That way,\n",
        "extremely similar words (words whose embeddings point in the same\n",
        "direction) will have similarity 1. Extremely dissimilar words should\n",
        "have similarity -1.\n",
        "\n",
        "\n",
        "You can think of the sparse one-hot vectors from the beginning of this\n",
        "section as a special case of these new vectors we have defined, where\n",
        "each word basically has similarity 0, and we gave each word some unique\n",
        "semantic attribute. These new vectors are *dense*, which is to say their\n",
        "entries are (typically) non-zero.\n",
        "\n",
        "But these new vectors are a big pain: you could think of thousands of\n",
        "different semantic attributes that might be relevant to determining\n",
        "similarity, and how on earth would you set the values of the different\n",
        "attributes? Central to the idea of deep learning is that the neural\n",
        "network learns representations of the features, rather than requiring\n",
        "the programmer to design them herself. So why not just let the word\n",
        "embeddings be parameters in our model, and then be updated during\n",
        "training? This is exactly what we will do. We will have some *latent\n",
        "semantic attributes* that the network can, in principle, learn. Note\n",
        "that the word embeddings will probably not be interpretable. That is,\n",
        "although with our hand-crafted vectors above we can see that\n",
        "mathematicians and physicists are similar in that they both like coffee,\n",
        "if we allow a neural network to learn the embeddings and see that both\n",
        "mathematicians and physicists have a large value in the second\n",
        "dimension, it is not clear what that means. They are similar in some\n",
        "latent semantic dimension, but this probably has no interpretation to\n",
        "us.\n",
        "\n",
        "\n",
        "In summary, **word embeddings are a representation of the *semantics* of\n",
        "a word, efficiently encoding semantic information that might be relevant\n",
        "to the task at hand**. You can embed other things too: part of speech\n",
        "tags, parse trees, anything! The idea of feature embeddings is central\n",
        "to the field.\n",
        "\n",
        "\n",
        "# Word Embeddings in Pytorch\n",
        "\n",
        "Before we get to a worked example and an exercise, a few quick notes\n",
        "about how to use embeddings in Pytorch and in deep learning programming\n",
        "in general. Similar to how we defined a unique index for each word when\n",
        "making one-hot vectors, we also need to define an index for each word\n",
        "when using embeddings. These will be keys into a lookup table. That is,\n",
        "embeddings are stored as a $|V| \\times D$ matrix, where $D$\n",
        "is the dimensionality of the embeddings, such that the word assigned\n",
        "index $i$ has its embedding stored in the $i$'th row of the\n",
        "matrix. In all of my code, the mapping from words to indices is a\n",
        "dictionary named word\\_to\\_ix.\n",
        "\n",
        "The module that allows you to use embeddings is torch.nn.Embedding,\n",
        "which takes two arguments: the vocabulary size, and the dimensionality\n",
        "of the embeddings.\n",
        "\n",
        "To index into this table, you must use torch.LongTensor (since the\n",
        "indices are integers, not floats).\n",
        "\n",
        "\n"
      ]
    },
    {
      "cell_type": "code",
      "metadata": {
        "id": "ELBc1ntbt5e8",
        "colab": {
          "base_uri": "https://localhost:8080/"
        },
        "outputId": "a07fc9f1-3fd6-4c70-9172-47aa8ad0038c"
      },
      "source": [
        "# Author: Robert Guthrie\n",
        "\n",
        "import torch\n",
        "import torch.nn as nn\n",
        "import torch.nn.functional as F\n",
        "import torch.optim as optim\n",
        "\n",
        "torch.manual_seed(1)"
      ],
      "execution_count": 2,
      "outputs": [
        {
          "output_type": "execute_result",
          "data": {
            "text/plain": [
              "<torch._C.Generator at 0x7c2002c9fe90>"
            ]
          },
          "metadata": {},
          "execution_count": 2
        }
      ]
    },
    {
      "cell_type": "code",
      "metadata": {
        "id": "qcvzqik4t5e9",
        "colab": {
          "base_uri": "https://localhost:8080/"
        },
        "outputId": "63e7b841-3690-4342-ce25-3353958e058b"
      },
      "source": [
        "word_to_ix = {\"hello\": 0, \"world\": 1}\n",
        "embeds = nn.Embedding(2, 5)  # 2 words in vocab, 5 dimensional embeddings\n",
        "lookup_tensor = torch.tensor([word_to_ix[\"hello\"]], dtype=torch.long)\n",
        "hello_embed = embeds(lookup_tensor)\n",
        "print(hello_embed)"
      ],
      "execution_count": 3,
      "outputs": [
        {
          "output_type": "stream",
          "name": "stdout",
          "text": [
            "tensor([[ 0.6614,  0.2669,  0.0617,  0.6213, -0.4519]],\n",
            "       grad_fn=<EmbeddingBackward0>)\n"
          ]
        }
      ]
    },
    {
      "cell_type": "markdown",
      "metadata": {
        "id": "es54fI4yt5e-"
      },
      "source": [
        "# An Example: N-Gram Language Modeling\n",
        "\n",
        "Recall that in an n-gram language model, given a sequence of words\n",
        "$w$, we want to compute\n",
        "\n",
        "\\begin{align}P(w_i | w_{i-1}, w_{i-2}, \\dots, w_{i-n+1} )\\end{align}\n",
        "\n",
        "Where $w_i$ is the ith word of the sequence.\n",
        "\n",
        "In this example, we will compute the loss function on some training\n",
        "examples and update the parameters with backpropagation.\n",
        "\n",
        "\n"
      ]
    },
    {
      "cell_type": "code",
      "metadata": {
        "id": "WKEd73J5t5e_",
        "colab": {
          "base_uri": "https://localhost:8080/"
        },
        "outputId": "549353a5-f8c5-434f-c957-2dd5d110dbe9"
      },
      "source": [
        "CONTEXT_SIZE = 2\n",
        "EMBEDDING_DIM = 10\n",
        "# We will use Shakespeare Sonnet 2\n",
        "test_sentence = \"\"\"When forty winters shall besiege thy brow,\n",
        "And dig deep trenches in thy beauty's field,\n",
        "Thy youth's proud livery so gazed on now,\n",
        "Will be a totter'd weed of small worth held:\n",
        "Then being asked, where all thy beauty lies,\n",
        "Where all the treasure of thy lusty days;\n",
        "To say, within thine own deep sunken eyes,\n",
        "Were an all-eating shame, and thriftless praise.\n",
        "How much more praise deserv'd thy beauty's use,\n",
        "If thou couldst answer 'This fair child of mine\n",
        "Shall sum my count, and make my old excuse,'\n",
        "Proving his beauty by succession thine!\n",
        "This were to be new made when thou art old,\n",
        "And see thy blood warm when thou feel'st it cold.\"\"\".split()\n",
        "# we should tokenize the input, but we will ignore that for now\n",
        "# build a list of tuples.  Each tuple is ([ word_i-2, word_i-1 ], target word)\n",
        "trigrams = [([test_sentence[i], test_sentence[i + 1]], test_sentence[i + 2])\n",
        "            for i in range(len(test_sentence) - 2)]\n",
        "# print the first 3, just so you can see what they look like\n",
        "print(trigrams[:3])\n",
        "\n",
        "vocab = set(test_sentence)\n",
        "word_to_ix = {word: i for i, word in enumerate(vocab)}\n",
        "\n",
        "\n",
        "class NGramLanguageModeler(nn.Module):\n",
        "\n",
        "    def __init__(self, vocab_size, embedding_dim, context_size):\n",
        "        super(NGramLanguageModeler, self).__init__()\n",
        "        self.embeddings = nn.Embedding(vocab_size, embedding_dim)\n",
        "        self.linear1 = nn.Linear(context_size * embedding_dim, 128)\n",
        "        self.linear2 = nn.Linear(128, vocab_size)\n",
        "\n",
        "    def forward(self, inputs):\n",
        "        embeds = self.embeddings(inputs).view((1, -1))\n",
        "        out = F.relu(self.linear1(embeds))\n",
        "        out = self.linear2(out)\n",
        "        log_probs = F.log_softmax(out, dim=1)\n",
        "        return log_probs\n",
        "\n",
        "\n",
        "losses = []\n",
        "loss_function = nn.NLLLoss()\n",
        "model = NGramLanguageModeler(len(vocab), EMBEDDING_DIM, CONTEXT_SIZE)\n",
        "optimizer = optim.SGD(model.parameters(), lr=0.001)\n",
        "\n",
        "for epoch in range(10):\n",
        "    total_loss = 0\n",
        "    for context, target in trigrams:\n",
        "\n",
        "        # Step 1. Prepare the inputs to be passed to the model (i.e, turn the words\n",
        "        # into integer indices and wrap them in tensors)\n",
        "        context_idxs = torch.tensor([word_to_ix[w] for w in context], dtype=torch.long)\n",
        "\n",
        "        # Step 2. Recall that torch *accumulates* gradients. Before passing in a\n",
        "        # new instance, you need to zero out the gradients from the old\n",
        "        # instance\n",
        "        model.zero_grad()\n",
        "\n",
        "        # Step 3. Run the forward pass, getting log probabilities over next\n",
        "        # words\n",
        "        log_probs = model(context_idxs)\n",
        "\n",
        "        # Step 4. Compute your loss function. (Again, Torch wants the target\n",
        "        # word wrapped in a tensor)\n",
        "        loss = loss_function(log_probs, torch.tensor([word_to_ix[target]], dtype=torch.long))\n",
        "\n",
        "        # Step 5. Do the backward pass and update the gradient\n",
        "        loss.backward()\n",
        "        optimizer.step()\n",
        "\n",
        "        # Get the Python number from a 1-element Tensor by calling tensor.item()\n",
        "        total_loss += loss.item()\n",
        "    losses.append(total_loss)\n",
        "print(losses)  # The loss decreased every iteration over the training data!"
      ],
      "execution_count": 4,
      "outputs": [
        {
          "output_type": "stream",
          "name": "stdout",
          "text": [
            "[(['When', 'forty'], 'winters'), (['forty', 'winters'], 'shall'), (['winters', 'shall'], 'besiege')]\n",
            "[519.7060680389404, 517.0581159591675, 514.4285066127777, 511.81494069099426, 509.21706771850586, 506.63392329216003, 504.063987493515, 501.50686407089233, 498.9624342918396, 496.4288454055786]\n"
          ]
        }
      ]
    },
    {
      "cell_type": "markdown",
      "metadata": {
        "id": "lO-_4P3mt5e_"
      },
      "source": [
        "# Exercise: Computing Word Embeddings: Continuous Bag-of-Words\n",
        "\n",
        "The Continuous Bag-of-Words model (CBOW) is frequently used in NLP deep\n",
        "learning. It is a model that tries to predict words given the context of\n",
        "a few words before and a few words after the target word. This is\n",
        "distinct from language modeling, since CBOW is not sequential and does\n",
        "not have to be probabilistic. Typcially, CBOW is used to quickly train\n",
        "word embeddings, and these embeddings are used to initialize the\n",
        "embeddings of some more complicated model. Usually, this is referred to\n",
        "as *pretraining embeddings*. It almost always helps performance a couple\n",
        "of percent.\n",
        "\n",
        "The CBOW model is as follows. Given a target word $w_i$ and an\n",
        "$N$ context window on each side, $w_{i-1}, \\dots, w_{i-N}$\n",
        "and $w_{i+1}, \\dots, w_{i+N}$, referring to all context words\n",
        "collectively as $C$, CBOW tries to minimize\n",
        "\n",
        "\\begin{align}-\\log p(w_i | C) = -\\log \\text{Softmax}(A(\\sum_{w \\in C} q_w) + b)\\end{align}\n",
        "\n",
        "where $q_w$ is the embedding for word $w$.\n",
        "\n",
        "Implement this model in Pytorch by filling in the class below. Some\n",
        "tips:\n",
        "\n",
        "* Think about which parameters you need to define.\n",
        "* Make sure you know what shape each operation expects. Use .view() if you need to\n",
        "  reshape.\n",
        "\n",
        "\n"
      ]
    },
    {
      "cell_type": "code",
      "metadata": {
        "id": "gXbt-utMt5fA",
        "colab": {
          "base_uri": "https://localhost:8080/"
        },
        "outputId": "ff029f64-1961-4a46-c898-28f369a48e3e"
      },
      "source": [
        "CONTEXT_SIZE = 2  # 2 words to the left, 2 to the right\n",
        "raw_text = \"\"\"We are about to study the idea of a computational process.\n",
        "Computational processes are abstract beings that inhabit computers.\n",
        "As they evolve, processes manipulate other abstract things called data.\n",
        "The evolution of a process is directed by a pattern of rules\n",
        "called a program. People create programs to direct processes. In effect,\n",
        "we conjure the spirits of the computer with our spells.\"\"\".split()\n",
        "\n",
        "# By deriving a set from `raw_text`, we deduplicate the array\n",
        "vocab = set(raw_text)\n",
        "vocab_size = len(vocab)\n",
        "\n",
        "word_to_ix = {word: i for i, word in enumerate(vocab)}\n",
        "data = []\n",
        "for i in range(2, len(raw_text) - 2):\n",
        "    context = [raw_text[i - 2], raw_text[i - 1],\n",
        "               raw_text[i + 1], raw_text[i + 2]]\n",
        "    target = raw_text[i]\n",
        "    data.append((context, target))\n",
        "print(data[:5])\n",
        "\n",
        "\n",
        "class CBOW(nn.Module):\n",
        "\n",
        "    def __init__(self,vocab_size,embedding_dim, context_size):\n",
        "        super(CBOW,self).__init__()\n",
        "        #set embbedings\n",
        "        self.embeddings=nn.Embedding(vocab_size, embedding_dim)\n",
        "        #set linear\n",
        "        self.linear = nn.Linear(context_size * embedding_dim, vocab_size)\n",
        "\n",
        "    def forward(self, inputs):\n",
        "        batch_size = inputs.shape[0]\n",
        "        embedded_context  = self.embeddings(inputs)\n",
        "        embedded_context  = embedded_context.view(batch_size,-1)\n",
        "        output = self.linear(embedded_context)\n",
        "        log_probs = F.log_softmax(output,dim=-1)\n",
        "        return log_probs\n",
        "\n",
        "EMBEDDING_DIM=10\n",
        "losses = []\n",
        "# Define loss function (e.g., negative log likelihood)\n",
        "loss_function = nn.NLLLoss()\n",
        "model = CBOW(len(vocab), EMBEDDING_DIM, CONTEXT_SIZE * 2)\n",
        "# Define optimizer (e.g., stochastic gradient descent)\n",
        "optimizer = optim.SGD(model.parameters(), lr=0.01)\n",
        "\n",
        "# create your model and train.  here are some functions to help you make\n",
        "# the data ready for use by your module\n",
        "\n",
        "def make_context_vector(context, word_to_ix):\n",
        "    idxs = [word_to_ix[w] for w in context]\n",
        "    return torch.tensor(idxs, dtype=torch.long)\n",
        "# make_context_vector(data[0][0], word_to_ix)  # example\n",
        "\n",
        "batch_size = 1\n",
        "batches = [data[i:i + batch_size] for i in range(0, len(data), batch_size)]\n",
        "epoch_runs = 10\n",
        "for epoch in range(epoch_runs):\n",
        "  total_loss = 0\n",
        "  for batch in batches:\n",
        "    context = torch.stack([make_context_vector(b[0], word_to_ix) for b in batch], dim=0)\n",
        "    target = torch.cat([make_context_vector([b[1]],word_to_ix) for b in batch], dim=0)\n",
        "\n",
        "    # Zero the gradients\n",
        "    optimizer.zero_grad()\n",
        "    # Forward pass\n",
        "    log_prob = model(context)\n",
        "    # Calculate the loss for each context\n",
        "    loss = loss_function(log_prob, target)\n",
        "    # Backward pass (compute gradients)\n",
        "    loss.backward()\n",
        "    # Update the model's parameters using the optimizer\n",
        "    optimizer.step()\n",
        "    total_loss += loss.item()\n",
        "  print(f'Epoch [{epoch + 1}/{epoch_runs}], Loss: {total_loss}')"
      ],
      "execution_count": 5,
      "outputs": [
        {
          "output_type": "stream",
          "name": "stdout",
          "text": [
            "[(['We', 'are', 'to', 'study'], 'about'), (['are', 'about', 'study', 'the'], 'to'), (['about', 'to', 'the', 'idea'], 'study'), (['to', 'study', 'idea', 'of'], 'the'), (['study', 'the', 'of', 'a'], 'idea')]\n",
            "Epoch [1/10], Loss: 232.43795371055603\n",
            "Epoch [2/10], Loss: 209.57329416275024\n",
            "Epoch [3/10], Loss: 187.89076590538025\n",
            "Epoch [4/10], Loss: 167.48481786251068\n",
            "Epoch [5/10], Loss: 148.47695398330688\n",
            "Epoch [6/10], Loss: 130.9853950738907\n",
            "Epoch [7/10], Loss: 115.0912761092186\n",
            "Epoch [8/10], Loss: 100.82341784238815\n",
            "Epoch [9/10], Loss: 88.16429269313812\n",
            "Epoch [10/10], Loss: 77.05667462944984\n"
          ]
        }
      ]
    },
    {
      "cell_type": "markdown",
      "source": [
        "# Part 1: Train CBOW embeddings for both datasets"
      ],
      "metadata": {
        "id": "BRVJps2Kqqen"
      }
    },
    {
      "cell_type": "code",
      "source": [
        "from google.colab import drive\n",
        "drive.mount('/content/gdrive')"
      ],
      "metadata": {
        "colab": {
          "base_uri": "https://localhost:8080/"
        },
        "id": "Qt9vZXU-qWxC",
        "outputId": "8f62231f-67e8-4fa4-8c41-010f4bd22781"
      },
      "execution_count": 6,
      "outputs": [
        {
          "output_type": "stream",
          "name": "stdout",
          "text": [
            "Mounted at /content/gdrive\n"
          ]
        }
      ]
    },
    {
      "cell_type": "code",
      "source": [
        "%cd /content/gdrive/My\\ Drive/NLP/ex2\n",
        "%pwd"
      ],
      "metadata": {
        "colab": {
          "base_uri": "https://localhost:8080/",
          "height": 55
        },
        "id": "NSc1FbG2qcXL",
        "outputId": "dd522ee1-1eab-4062-b2d1-8c982e8dcbf1"
      },
      "execution_count": 7,
      "outputs": [
        {
          "output_type": "stream",
          "name": "stdout",
          "text": [
            "/content/gdrive/My Drive/NLP/ex2\n"
          ]
        },
        {
          "output_type": "execute_result",
          "data": {
            "text/plain": [
              "'/content/gdrive/My Drive/NLP/ex2'"
            ],
            "application/vnd.google.colaboratory.intrinsic+json": {
              "type": "string"
            }
          },
          "metadata": {},
          "execution_count": 7
        }
      ]
    },
    {
      "cell_type": "markdown",
      "source": [
        "## CBOW2 with a context width of 2 (in both directions) for the Hotel Reviews dataset"
      ],
      "metadata": {
        "id": "VvFfoWDOWGpP"
      }
    },
    {
      "cell_type": "code",
      "source": [
        "import pandas as pd\n",
        "import string\n",
        "import re"
      ],
      "metadata": {
        "id": "XolRAEgdyOE9"
      },
      "execution_count": 8,
      "outputs": []
    },
    {
      "cell_type": "code",
      "source": [
        "# punctuation_mark = string.punctuation\n",
        "# punctuation_mark_replacement = \" \" * len(punctuation_mark)\n",
        "\n",
        "def preprocess(text):\n",
        "  text = str(text).lower()\n",
        "  # text = text.translate(str.maketrans(punctuation_mark, punctuation_mark_replacement))\n",
        "  text = re.sub(r'[^a-z]', ' ', text)\n",
        "  return text\n"
      ],
      "metadata": {
        "id": "6JOYYtv9T_03"
      },
      "execution_count": 9,
      "outputs": []
    },
    {
      "cell_type": "code",
      "source": [
        "def convertWordIntoCBOW(text, cbow_size):\n",
        "  text = text.split()\n",
        "  data = []\n",
        "  for i in range(cbow_size, len(text) - cbow_size):\n",
        "      _previous = [text[i-(cbow_size-j)] for j in range(cbow_size)]\n",
        "      _after = [text[i+(j+1)] for j in range(cbow_size)]\n",
        "      context = _previous + _after\n",
        "      target = text[i]\n",
        "      data.append((context, target))\n",
        "  return data"
      ],
      "metadata": {
        "id": "BAbnhOPzdk9b"
      },
      "execution_count": 10,
      "outputs": []
    },
    {
      "cell_type": "code",
      "source": [
        "df = pd.read_csv(\"tripadvisor_hotel_reviews.csv\")"
      ],
      "metadata": {
        "id": "4a1Y20L9SqH8"
      },
      "execution_count": 11,
      "outputs": []
    },
    {
      "cell_type": "code",
      "source": [
        "df[\"Preprocess_Review\"] = df[\"Review\"].apply(lambda x: preprocess(x))"
      ],
      "metadata": {
        "id": "cPWjsYp_TJI5"
      },
      "execution_count": 12,
      "outputs": []
    },
    {
      "cell_type": "code",
      "source": [
        "raw_text = \" \".join(df[\"Preprocess_Review\"].to_list()).split()\n",
        "vocab = set(raw_text)\n",
        "vocab_size = len(vocab)\n",
        "\n",
        "word_to_ix = {word: i for i, word in enumerate(vocab)}"
      ],
      "metadata": {
        "id": "vTBlEgW7VBIJ"
      },
      "execution_count": 13,
      "outputs": []
    },
    {
      "cell_type": "code",
      "source": [
        "CONTEXT_SIZE = 2  # 2 words to the left, 2 to the right\n",
        "df[\"cbow2\"] = df[\"Preprocess_Review\"].apply(lambda x: convertWordIntoCBOW(str(x), CONTEXT_SIZE))"
      ],
      "metadata": {
        "id": "AKUAFFsAd0Sf"
      },
      "execution_count": 14,
      "outputs": []
    },
    {
      "cell_type": "code",
      "source": [
        "df[\"cbow2_context_vector\"] = df[\"cbow2\"].apply(lambda x: torch.stack([make_context_vector(_c[0], word_to_ix) for _c in x], dim=0))"
      ],
      "metadata": {
        "id": "m2gg8tuqiugE"
      },
      "execution_count": 15,
      "outputs": []
    },
    {
      "cell_type": "code",
      "source": [
        "df[\"cbow2_target_vector\"] = df[\"cbow2\"].apply(lambda x: torch.cat([make_context_vector([_c[1]], word_to_ix) for _c in x], dim=0))"
      ],
      "metadata": {
        "id": "n6_Jc2GvYWO9"
      },
      "execution_count": 16,
      "outputs": []
    },
    {
      "cell_type": "code",
      "source": [
        "all_context = torch.vstack(df[\"cbow2_context_vector\"].tolist()) # Shape: [2081043, 4]\n",
        "all_target = torch.cat(df[\"cbow2_target_vector\"].tolist()) # Shape: [2081043]"
      ],
      "metadata": {
        "id": "FxL4N50oAHJv"
      },
      "execution_count": 17,
      "outputs": []
    },
    {
      "cell_type": "code",
      "source": [
        "import numpy as np\n",
        "\n",
        "EMBEDDING_DIM= 50\n",
        "losses = []\n",
        "# Define loss function (e.g., negative log likelihood)\n",
        "loss_function = nn.NLLLoss()\n",
        "model1 = CBOW(len(vocab), EMBEDDING_DIM, CONTEXT_SIZE * 2)\n",
        "# Define optimizer (e.g., stochastic gradient descent)\n",
        "optimizer = optim.SGD(model1.parameters(), lr=0.1)\n",
        "epoch_runs = 15\n",
        "\n",
        "for epoch in range(epoch_runs):\n",
        "  # Select random number for mini-batch\n",
        "  indices = np.random.randint(0, len(all_context), size=100000)\n",
        "  mini_context = torch.index_select(all_context, 0, torch.tensor(indices))\n",
        "  mini_target = torch.index_select(all_target, 0, torch.tensor(indices))\n",
        "\n",
        "  batch_size = 10000\n",
        "  batches_context = [mini_context[i:i + batch_size] for i in range(0, len(mini_context), batch_size)]\n",
        "  batches_target = [mini_target[i:i + batch_size] for i in range(0, len(mini_target), batch_size)]\n",
        "\n",
        "  total_loss = 0\n",
        "  for i in range(len(batches_context)):\n",
        "    _context = batches_context[i]\n",
        "    _target = batches_target[i]\n",
        "    # Zero the gradients\n",
        "    optimizer.zero_grad()\n",
        "    # Forward pass\n",
        "    log_prob = model1(_context)\n",
        "    # Calculate the loss for each context\n",
        "    loss = loss_function(log_prob, _target)\n",
        "    # Backward pass (compute gradients)\n",
        "    loss.backward()\n",
        "    # Update the model's parameters using the optimizer\n",
        "    optimizer.step()\n",
        "    total_loss += loss.item()\n",
        "  print(f'Epoch [{epoch + 1}/{epoch_runs}], Loss: {total_loss}')"
      ],
      "metadata": {
        "colab": {
          "base_uri": "https://localhost:8080/"
        },
        "id": "OG0-JDnfrmkV",
        "outputId": "f52c68e8-35a0-4de3-9105-d6dd07ce7a07"
      },
      "execution_count": 18,
      "outputs": [
        {
          "output_type": "stream",
          "name": "stdout",
          "text": [
            "Epoch [1/15], Loss: 109.61113357543945\n",
            "Epoch [2/15], Loss: 109.4278211593628\n",
            "Epoch [3/15], Loss: 109.31312942504883\n",
            "Epoch [4/15], Loss: 109.14944076538086\n",
            "Epoch [5/15], Loss: 109.02860832214355\n",
            "Epoch [6/15], Loss: 108.89346218109131\n",
            "Epoch [7/15], Loss: 108.75112438201904\n",
            "Epoch [8/15], Loss: 108.57921981811523\n",
            "Epoch [9/15], Loss: 108.42204856872559\n",
            "Epoch [10/15], Loss: 108.27514171600342\n",
            "Epoch [11/15], Loss: 108.12121105194092\n",
            "Epoch [12/15], Loss: 108.01664447784424\n",
            "Epoch [13/15], Loss: 107.85929679870605\n",
            "Epoch [14/15], Loss: 107.71854496002197\n",
            "Epoch [15/15], Loss: 107.51247882843018\n"
          ]
        }
      ]
    },
    {
      "cell_type": "markdown",
      "source": [
        "## CBOW5 with a context width of 5 (in both directions) for the Hotel Reviews dataset"
      ],
      "metadata": {
        "id": "HuFPWrMhsEPg"
      }
    },
    {
      "cell_type": "code",
      "source": [
        "df2 = df # Dataframe2 is for CBOW5"
      ],
      "metadata": {
        "id": "4sxy7OS_1uKW"
      },
      "execution_count": 19,
      "outputs": []
    },
    {
      "cell_type": "code",
      "source": [
        "# Split the \"Preprocess_Review\" column into words and count the number of words in each row\n",
        "df2['word_count'] = df2['Preprocess_Review'].str.split().str.len()\n",
        "# Filter the rows where the word count is more than 10\n",
        "df2 = df2[df2['word_count'] > 10]"
      ],
      "metadata": {
        "id": "DPilvxwP2OHs"
      },
      "execution_count": 20,
      "outputs": []
    },
    {
      "cell_type": "code",
      "source": [
        "CONTEXT_SIZE = 5  # 5 words to the left, 5 to the right\n",
        "df2[\"cbow5\"] = df2[\"Preprocess_Review\"].apply(lambda x: convertWordIntoCBOW(str(x), CONTEXT_SIZE))"
      ],
      "metadata": {
        "id": "avECJXnCw2yq"
      },
      "execution_count": null,
      "outputs": []
    },
    {
      "cell_type": "code",
      "source": [
        "df2[\"cbow5_context_vector\"] = df2[\"cbow5\"].apply(lambda x: torch.stack([make_context_vector(_c[0], word_to_ix) for _c in x], dim=0))\n",
        "df2[\"cbow5_target_vector\"] = df2[\"cbow5\"].apply(lambda x: torch.cat([make_context_vector([_c[1]], word_to_ix) for _c in x], dim=0))"
      ],
      "metadata": {
        "id": "dPm89AnKrmfk"
      },
      "execution_count": null,
      "outputs": []
    },
    {
      "cell_type": "code",
      "source": [
        "all_context = torch.vstack(df2[\"cbow5_context_vector\"].tolist())\n",
        "all_target = torch.cat(df2[\"cbow5_target_vector\"].tolist())"
      ],
      "metadata": {
        "id": "L_DFXGG0rmZP"
      },
      "execution_count": 23,
      "outputs": []
    },
    {
      "cell_type": "code",
      "source": [
        "import numpy as np\n",
        "\n",
        "EMBEDDING_DIM= 50\n",
        "losses = []\n",
        "# Define loss function (e.g., negative log likelihood)\n",
        "loss_function = nn.NLLLoss()\n",
        "model2 = CBOW(len(vocab), EMBEDDING_DIM, CONTEXT_SIZE * 2)\n",
        "# Define optimizer (e.g., stochastic gradient descent)\n",
        "optimizer = optim.SGD(model2.parameters(), lr=0.1)\n",
        "epoch_runs = 15\n",
        "\n",
        "# print(f'Split into how many batches: {len(batches_context)}')\n",
        "\n",
        "for epoch in range(epoch_runs):\n",
        "  # Select random number for mini-batch\n",
        "  indices = np.random.randint(0, len(all_context), size=100000)\n",
        "  mini_context = torch.index_select(all_context, 0, torch.tensor(indices))\n",
        "  mini_target = torch.index_select(all_target, 0, torch.tensor(indices))\n",
        "\n",
        "  batch_size = 10000\n",
        "  batches_context = [mini_context[i:i + batch_size] for i in range(0, len(mini_context), batch_size)]\n",
        "  batches_target = [mini_target[i:i + batch_size] for i in range(0, len(mini_target), batch_size)]\n",
        "\n",
        "  total_loss = 0\n",
        "  for i in range(len(batches_context)):\n",
        "    _context = batches_context[i]\n",
        "    _target = batches_target[i]\n",
        "    # Zero the gradients\n",
        "    optimizer.zero_grad()\n",
        "    # Forward pass\n",
        "    log_prob = model2(_context)\n",
        "    # Calculate the loss for each context\n",
        "    loss = loss_function(log_prob, _target)\n",
        "    # Backward pass (compute gradients)\n",
        "    loss.backward()\n",
        "    # Update the model's parameters using the optimizer\n",
        "    optimizer.step()\n",
        "    total_loss += loss.item()\n",
        "  print(f'Epoch [{epoch + 1}/{epoch_runs}], Loss: {total_loss}')"
      ],
      "metadata": {
        "colab": {
          "base_uri": "https://localhost:8080/"
        },
        "id": "XERlPnqrtQgN",
        "outputId": "6af1faaf-fc5c-44f6-cfa6-6b0010f1b051"
      },
      "execution_count": 24,
      "outputs": [
        {
          "output_type": "stream",
          "name": "stdout",
          "text": [
            "Epoch [1/15], Loss: 109.61921787261963\n",
            "Epoch [2/15], Loss: 109.47204399108887\n",
            "Epoch [3/15], Loss: 109.34921932220459\n",
            "Epoch [4/15], Loss: 109.14020156860352\n",
            "Epoch [5/15], Loss: 109.01509475708008\n",
            "Epoch [6/15], Loss: 108.8316421508789\n",
            "Epoch [7/15], Loss: 108.664231300354\n",
            "Epoch [8/15], Loss: 108.56079864501953\n",
            "Epoch [9/15], Loss: 108.42676830291748\n",
            "Epoch [10/15], Loss: 108.19740390777588\n",
            "Epoch [11/15], Loss: 108.06957340240479\n",
            "Epoch [12/15], Loss: 107.91314125061035\n",
            "Epoch [13/15], Loss: 107.7746171951294\n",
            "Epoch [14/15], Loss: 107.60156536102295\n",
            "Epoch [15/15], Loss: 107.49995422363281\n"
          ]
        }
      ]
    },
    {
      "cell_type": "markdown",
      "source": [
        "## CBOW2 with a context width of 2 (in both directions) for the Sci-Fi story dataset"
      ],
      "metadata": {
        "id": "mKc01ayx93XM"
      }
    },
    {
      "cell_type": "code",
      "source": [
        "with open(\"scifi.txt\", \"r\", encoding=\"utf-8\") as file:\n",
        "    _file = file.read()\n",
        "    tokens_sci = preprocess(_file).split()"
      ],
      "metadata": {
        "id": "6JdG9jp69RnM"
      },
      "execution_count": 25,
      "outputs": []
    },
    {
      "cell_type": "code",
      "source": [
        "tokens_sci = tokens_sci[:500000]\n",
        "raw_text_sci = \" \".join(tokens_sci)"
      ],
      "metadata": {
        "id": "lR3RYa_VFomM"
      },
      "execution_count": 26,
      "outputs": []
    },
    {
      "cell_type": "code",
      "source": [
        "vocab_sci = set(tokens_sci)\n",
        "vocab_size = len(vocab_sci)\n",
        "word_to_ix_sci = {word: i for i, word in enumerate(vocab_sci)}"
      ],
      "metadata": {
        "id": "_YYVqH7x9Rj0"
      },
      "execution_count": 27,
      "outputs": []
    },
    {
      "cell_type": "code",
      "source": [
        "vocab_size"
      ],
      "metadata": {
        "colab": {
          "base_uri": "https://localhost:8080/"
        },
        "id": "o8crVZ3SGmyT",
        "outputId": "8a20235e-f955-4b70-8c3a-69d7e8835584"
      },
      "execution_count": 28,
      "outputs": [
        {
          "output_type": "execute_result",
          "data": {
            "text/plain": [
              "24018"
            ]
          },
          "metadata": {},
          "execution_count": 28
        }
      ]
    },
    {
      "cell_type": "code",
      "source": [
        "CONTEXT_SIZE = 2  # 2 words to the left, 2 to the right\n",
        "data_sci = convertWordIntoCBOW(raw_text_sci, CONTEXT_SIZE)"
      ],
      "metadata": {
        "id": "o4Cxi5an9Re5"
      },
      "execution_count": 29,
      "outputs": []
    },
    {
      "cell_type": "code",
      "source": [
        "EMBEDDING_DIM=50\n",
        "losses = []\n",
        "# Define loss function (e.g., negative log likelihood)\n",
        "loss_function = nn.NLLLoss()\n",
        "model3 = CBOW(len(vocab_sci), EMBEDDING_DIM, CONTEXT_SIZE * 2)\n",
        "# Define optimizer (e.g., stochastic gradient descent)\n",
        "optimizer = optim.SGD(model3.parameters(), lr=0.1)\n",
        "\n",
        "batch_size = 5000\n",
        "batches = [data_sci[i:i + batch_size] for i in range(0, len(data_sci), batch_size)]\n",
        "epoch_runs = 3\n",
        "for epoch in range(epoch_runs):\n",
        "  total_loss = 0\n",
        "  for batch in batches:\n",
        "    context = torch.stack([make_context_vector(b[0], word_to_ix_sci) for b in batch], dim=0)\n",
        "    target = torch.cat([make_context_vector([b[1]],word_to_ix_sci) for b in batch], dim=0)\n",
        "\n",
        "    # Zero the gradients\n",
        "    optimizer.zero_grad()\n",
        "    # Forward pass\n",
        "    log_prob = model3(context)\n",
        "    # Calculate the loss for each context\n",
        "    loss = loss_function(log_prob, target)\n",
        "    # Backward pass (compute gradients)\n",
        "    loss.backward()\n",
        "    # Update the model's parameters using the optimizer\n",
        "    optimizer.step()\n",
        "    total_loss += loss.item()\n",
        "  print(f'Epoch [{epoch + 1}/{epoch_runs}], Loss: {total_loss}')"
      ],
      "metadata": {
        "id": "o5PDcsGKAJL6",
        "colab": {
          "base_uri": "https://localhost:8080/"
        },
        "outputId": "25ba0863-e84b-4b16-b3cf-bb3c8538a023"
      },
      "execution_count": 30,
      "outputs": [
        {
          "output_type": "stream",
          "name": "stdout",
          "text": [
            "Epoch [1/3], Loss: 1007.466796875\n",
            "Epoch [2/3], Loss: 971.5434722900391\n",
            "Epoch [3/3], Loss: 942.5203304290771\n"
          ]
        }
      ]
    },
    {
      "cell_type": "markdown",
      "source": [
        "# Part 2: Test Embeddings"
      ],
      "metadata": {
        "id": "LMgF9xPcunAO"
      }
    },
    {
      "cell_type": "markdown",
      "source": [
        "## Task 1\n"
      ],
      "metadata": {
        "id": "o4DZc6t3GmdO"
      }
    },
    {
      "cell_type": "code",
      "source": [
        "import torch.nn as nn\n",
        "import numpy as np\n",
        "from sklearn.metrics.pairwise import cosine_similarity"
      ],
      "metadata": {
        "id": "-wPIdFK7Ic21"
      },
      "execution_count": 31,
      "outputs": []
    },
    {
      "cell_type": "code",
      "source": [
        "# Define the function for nearest neighbour computation\n",
        "def get_closest_word(word, net, vocabulary, topn=5):\n",
        "    word_distance = []\n",
        "    emb = net.embeddings\n",
        "    pdist = nn.PairwiseDistance()\n",
        "\n",
        "    word_to_ix = {word: i for i, word in enumerate(vocabulary)}\n",
        "    ix_to_word = {i: word for word, i in word_to_ix.items()}\n",
        "\n",
        "    i = word_to_ix[word]\n",
        "    lookup_tensor_i = torch.tensor([i], dtype=torch.long)\n",
        "    v_i = emb(lookup_tensor_i)\n",
        "\n",
        "    for j in range(len(vocabulary)):\n",
        "        if j != i:\n",
        "            lookup_tensor_j = torch.tensor([j], dtype=torch.long)\n",
        "            v_j = emb(lookup_tensor_j)\n",
        "            # index_to_word = {i: word for word, i in word_to_index.items()}\n",
        "            word_distance.append((ix_to_word[j], float(pdist(v_i, v_j))))\n",
        "\n",
        "    word_distance.sort(key=lambda x: x[1])\n",
        "    return word_distance[:topn]"
      ],
      "metadata": {
        "id": "S6YByKNnhBaV"
      },
      "execution_count": 32,
      "outputs": []
    },
    {
      "cell_type": "markdown",
      "source": [
        "For the hotel reviews dataset, the words we choose are the following:  \n",
        "3 nouns: hotel, room, location;    \n",
        "3 verbs: recommend, eat, swim;    \n",
        "3 adjectives: nice, comfortable, terrible.     \n",
        "Then we train with the CBOW2 model."
      ],
      "metadata": {
        "id": "S4wK052L5RJ3"
      }
    },
    {
      "cell_type": "code",
      "source": [
        "# List of 9 chosen words\n",
        "word_hotel = [\"hotel\", \"room\", \"location\", \"recommend\", \"eat\", \"swim\", \"nice\", \"comfortable\", \"terrible\"]\n",
        "\n",
        "# model1 = CBOW(len(vocab), EMBEDDING_DIM, CONTEXT_SIZE * 2)\n",
        "print(\"For the Hotel Review Dataset: \")\n",
        "for word in word_hotel:\n",
        "    closest_words = get_closest_word(word, model1, vocab, topn=5)\n",
        "    print(f\"5 Closest words to '{word}': {closest_words}\")"
      ],
      "metadata": {
        "colab": {
          "base_uri": "https://localhost:8080/"
        },
        "id": "QfNYwwmktuWA",
        "outputId": "b8ade4eb-361c-426e-e0ca-c9a9f8b6cce8"
      },
      "execution_count": 33,
      "outputs": [
        {
          "output_type": "stream",
          "name": "stdout",
          "text": [
            "For the Hotel Review Dataset: \n",
            "5 Closest words to 'hotel': [('lion', 6.514893054962158), ('putting', 6.883223533630371), ('security', 6.994818687438965), ('honda', 6.997636318206787), ('confimed', 7.024110317230225)]\n",
            "5 Closest words to 'room': [('treatet', 6.392022609710693), ('ripiao', 6.436098098754883), ('relativeley', 6.463700294494629), ('unluckyas', 6.490079879760742), ('devils', 6.5072855949401855)]\n",
            "5 Closest words to 'location': [('jazzuzi', 6.675212860107422), ('jars', 6.971132278442383), ('cuppas', 7.025022506713867), ('europan', 7.169882297515869), ('forthcoming', 7.177751064300537)]\n",
            "5 Closest words to 'recommend': [('mussed', 6.742995262145996), ('bohia', 6.812859058380127), ('voorburgwal', 6.839596748352051), ('feliz', 6.946531772613525), ('goodpueblo', 7.018956184387207)]\n",
            "5 Closest words to 'eat': [('unfavourable', 6.214866638183594), ('occidental', 6.54563570022583), ('dicky', 6.55186128616333), ('serinis', 6.668513298034668), ('ayung', 6.717133522033691)]\n",
            "5 Closest words to 'swim': [('imitating', 6.319695949554443), ('actutally', 6.555585861206055), ('sheratons', 6.6946187019348145), ('expenses', 6.809174060821533), ('enquiring', 6.826458930969238)]\n",
            "5 Closest words to 'nice': [('diarrea', 6.406322002410889), ('cylpso', 6.729790210723877), ('carbonated', 6.858893871307373), ('alo', 6.859223365783691), ('nieman', 6.863968372344971)]\n",
            "5 Closest words to 'comfortable': [('thoughtout', 6.634257793426514), ('wotnessed', 6.64499044418335), ('blakes', 6.711190223693848), ('alejandro', 6.716319561004639), ('commercials', 6.719696521759033)]\n",
            "5 Closest words to 'terrible': [('spectrum', 6.585425853729248), ('variety', 6.802490234375), ('achance', 6.812356472015381), ('yesrs', 6.885581016540527), ('directs', 6.9216179847717285)]\n"
          ]
        }
      ]
    },
    {
      "cell_type": "markdown",
      "source": [
        "## Task 2\n",
        "For the Sci-fi dataset, the words we choose are the following:  \n",
        "3 nouns: life, boots, costume;  \n",
        "3 verbs: speak, tell, lose;  \n",
        "3 adjectives: interesting, strange, satisfied.  \n",
        "Then we also train with the CBOW2 model.\n"
      ],
      "metadata": {
        "id": "FKvDvce-PpSD"
      }
    },
    {
      "cell_type": "code",
      "source": [
        "# List of 9 chosen words\n",
        "word_sci = [\"life\", \"boots\", \"costume\", \"speak\", \"tell\", \"lose\", \"interesting\", \"strange\", \"satisfied\"]\n",
        "\n",
        "print(\"For the Sci-fi Dataset: \")\n",
        "for word in word_sci:\n",
        "    closest_words = get_closest_word(word, model3, vocab_sci, topn=5)\n",
        "    print(f\"5 Closest words to '{word}': {closest_words}\")"
      ],
      "metadata": {
        "colab": {
          "base_uri": "https://localhost:8080/"
        },
        "id": "3n0shrNro4-u",
        "outputId": "d9788b1e-961c-4f4e-fa1a-e0e2baf7cc71"
      },
      "execution_count": 34,
      "outputs": [
        {
          "output_type": "stream",
          "name": "stdout",
          "text": [
            "For the Sci-fi Dataset: \n",
            "5 Closest words to 'life': [('pessimistic', 7.025411605834961), ('prodigious', 7.352947235107422), ('account', 7.521966934204102), ('accusations', 7.5261125564575195), ('hotly', 7.74095344543457)]\n",
            "5 Closest words to 'boots': [('teacher', 7.195479869842529), ('whoie', 7.213236331939697), ('excellently', 7.436926364898682), ('generator', 7.444934844970703), ('angled', 7.497432708740234)]\n",
            "5 Closest words to 'costume': [('eveiything', 6.489418983459473), ('oncfe', 6.501927852630615), ('whoie', 6.568801403045654), ('shocked', 6.628296375274658), ('gurruls', 6.698210716247559)]\n",
            "5 Closest words to 'speak': [('repellent', 6.5739336013793945), ('lamentable', 6.8800129890441895), ('medic', 7.001706123352051), ('negro', 7.006081581115723), ('sand', 7.021505355834961)]\n",
            "5 Closest words to 'tell': [('donnelfs', 6.734241008758545), ('poker', 6.938412189483643), ('height', 6.977206230163574), ('always', 6.97877836227417), ('pondwater', 7.015625)]\n",
            "5 Closest words to 'lose': [('unreasonableness', 5.839267730712891), ('buzzzzz', 5.955978870391846), ('influenced', 6.155525207519531), ('circum', 6.198765754699707), ('gentlemens', 6.265693664550781)]\n",
            "5 Closest words to 'interesting': [('kam', 6.819732666015625), ('promptjyfrayberg', 7.21060037612915), ('dialects', 7.280405521392822), ('pubbound', 7.285518169403076), ('vaults', 7.328283786773682)]\n",
            "5 Closest words to 'strange': [('borgia', 5.98703145980835), ('suicide', 6.514312744140625), ('manipulated', 6.632974624633789), ('famih', 6.73984432220459), ('immeasurable', 6.783143520355225)]\n",
            "5 Closest words to 'satisfied': [('political', 7.1276421546936035), ('cabbage', 7.162726402282715), ('englanders', 7.176689147949219), ('tlin', 7.195446014404297), ('purse', 7.208116054534912)]\n"
          ]
        }
      ]
    },
    {
      "cell_type": "markdown",
      "source": [
        "## Task 5\n",
        "We select a word that appears frequently and a word that appears very rarely.  \n",
        "The words we choose are: furnished and bridge  \n",
        "First, we check that these two words are present in both data sets, and then we find their five closest neighbors in both data sets.  \n"
      ],
      "metadata": {
        "id": "tUPr-csbguDb"
      }
    },
    {
      "cell_type": "code",
      "source": [
        "selected_words = [\"furnished\", \"bridge\"]\n",
        "\n",
        "for word in selected_words:\n",
        "    if word not in vocab:\n",
        "      print(f\"'{word}' does not exist in the hotel review dataset.\")\n",
        "    if word not in vocab_sci:\n",
        "      print(f\"'{word}' does not exist in the sci-fi dataset.\")\n",
        "    else:\n",
        "      print(f\"'{word}' exists in both datasets.\")"
      ],
      "metadata": {
        "colab": {
          "base_uri": "https://localhost:8080/"
        },
        "id": "8IOBYdsJ3Dsv",
        "outputId": "244c5cc3-40b7-43e9-af7e-a70b71a566a7"
      },
      "execution_count": 35,
      "outputs": [
        {
          "output_type": "stream",
          "name": "stdout",
          "text": [
            "'furnished' exists in both datasets.\n",
            "'bridge' exists in both datasets.\n"
          ]
        }
      ]
    },
    {
      "cell_type": "code",
      "source": [
        "for word in selected_words:\n",
        "    closest_words_hotel = get_closest_word(word, model1, vocab, topn=5)\n",
        "    closest_words_sci = get_closest_word(word, model3, vocab_sci, topn=5)\n",
        "    print(f\"5 Closest words to '{word}' in the hotel review dataset: {closest_words_hotel}\")\n",
        "    print(f\"5 Closest words to '{word}' in the sci-fi dataset: {closest_words_sci}\")"
      ],
      "metadata": {
        "colab": {
          "base_uri": "https://localhost:8080/"
        },
        "id": "RK2Xmzgo48qT",
        "outputId": "fffa02ca-7609-4101-a8e5-f25a919aaa96"
      },
      "execution_count": 36,
      "outputs": [
        {
          "output_type": "stream",
          "name": "stdout",
          "text": [
            "5 Closest words to 'furnished' in the hotel review dataset: [('sobeys', 7.069890975952148), ('smok', 7.0742316246032715), ('veryconvenient', 7.097971439361572), ('peppito', 7.153048038482666), ('adversities', 7.291590213775635)]\n",
            "5 Closest words to 'furnished' in the sci-fi dataset: [('buffet', 6.332549095153809), ('defenders', 6.49399995803833), ('extermination', 6.504188060760498), ('jez', 6.509891986846924), ('mother', 6.556239604949951)]\n",
            "5 Closest words to 'bridge' in the hotel review dataset: [('backpacked', 6.839584827423096), ('brandenberg', 6.98991060256958), ('kayakingwe', 7.158514022827148), ('jeffhanman', 7.168525218963623), ('descartes', 7.18250846862793)]\n",
            "5 Closest words to 'bridge' in the sci-fi dataset: [('gunpowder', 5.334932804107666), ('root', 6.524269104003906), ('genarion', 6.703142166137695), ('klia', 6.730693340301514), ('telecontrolled', 6.932901382446289)]\n"
          ]
        }
      ]
    }
  ]
}