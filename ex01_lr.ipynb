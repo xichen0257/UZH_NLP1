{
  "cells": [
    {
      "cell_type": "markdown",
      "metadata": {
        "id": "SwwQqWtxaMWs"
      },
      "source": [
        "# ML4NLP1\n",
        "## Starting Point for Exercise 1, part I\n",
        "\n",
        "This notebook is supposed to serve as a starting point and/or inspiration when starting exercise 1, part I.\n",
        "\n",
        "One of the goals of this exercise is o make you acquainted with sklearn and related libraries like pandas and numpy. You will probably need to consult the documentation of those libraries:\n",
        "- sklearn: [Documentation](https://scikit-learn.org/stable/user_guide.html)\n",
        "- Pandas: [Documentation](https://pandas.pydata.org/docs/#)\n",
        "- Numpy: [Documentation](https://numpy.org/doc/)\n",
        "\n",
        "**Importing files to Google Colab:** If you have never used Colab or never uploaded a file to Colab, quickly skim over an introduction: [Introduction on medium](https://medium.com/@master_yi/importing-datasets-in-google-colab-c816fc654f97).\n",
        "\n",
        "We're using the second method mentioned in the blogpost: (1) upload the four files `x_train.txt` and `y_train.txt`, `x_test.txt` and `y_test.txt` to a directory in Google Drive and (2) adjust the paths in the second cell to point to your uploaded files.\n",
        "\n",
        "Then execute the first cell to give Colab permission to access the two files."
      ]
    },
    {
      "cell_type": "code",
      "execution_count": null,
      "metadata": {
        "id": "kBqq-G2daMW7"
      },
      "outputs": [],
      "source": [
        "import pandas as pd\n",
        "import numpy as np\n",
        "import csv\n",
        "import re\n",
        "import string\n",
        "from collections import defaultdict"
      ]
    },
    {
      "cell_type": "code",
      "execution_count": null,
      "metadata": {
        "colab": {
          "base_uri": "https://localhost:8080/"
        },
        "id": "hEqfrri6aMW8",
        "outputId": "9f95fc9a-a6bb-431c-cd09-796a5cd00901"
      },
      "outputs": [
        {
          "output_type": "stream",
          "name": "stdout",
          "text": [
            "Downloading...\n",
            "From: https://drive.google.com/uc?id=1QP6YuwdKFNUPpvhOaAcvv2Pcp4JMbIRs\n",
            "To: /content/x_train.txt\n",
            "100% 64.1M/64.1M [00:00<00:00, 260MB/s]\n",
            "Downloading...\n",
            "From: https://drive.google.com/uc?id=1QVo7PZAdiZKzifK8kwhEr_umosiDCUx6\n",
            "To: /content/x_test.txt\n",
            "100% 65.2M/65.2M [00:00<00:00, 164MB/s]\n",
            "Downloading...\n",
            "From: https://drive.google.com/uc?id=1QbBeKcmG2ZyAEFB3AKGTgSWQ1YEMn2jl\n",
            "To: /content/y_train.txt\n",
            "100% 480k/480k [00:00<00:00, 96.2MB/s]\n",
            "Downloading...\n",
            "From: https://drive.google.com/uc?id=1QaZj6bI7_78ymnN8IpSk4gVvg-C9fA6X\n",
            "To: /content/y_test.txt\n",
            "100% 480k/480k [00:00<00:00, 89.2MB/s]\n"
          ]
        }
      ],
      "source": [
        "# download dataset\n",
        "!gdown 1QP6YuwdKFNUPpvhOaAcvv2Pcp4JMbIRs # x_train\n",
        "!gdown 1QVo7PZAdiZKzifK8kwhEr_umosiDCUx6 # x_test\n",
        "!gdown 1QbBeKcmG2ZyAEFB3AKGTgSWQ1YEMn2jl # y_train\n",
        "!gdown 1QaZj6bI7_78ymnN8IpSk4gVvg-C9fA6X # y_test"
      ]
    },
    {
      "cell_type": "code",
      "source": [
        "with open(f'x_train.txt') as f:\n",
        "    x_train = f.read().splitlines()\n",
        "with open(f'y_train.txt') as f:\n",
        "    y_train = f.read().splitlines()\n",
        "with open(f'x_test.txt') as f:\n",
        "    x_test = f.read().splitlines()\n",
        "with open(f'y_test.txt') as f:\n",
        "    y_test = f.read().splitlines()"
      ],
      "metadata": {
        "id": "oU9VZeEEabMQ"
      },
      "execution_count": null,
      "outputs": []
    },
    {
      "cell_type": "code",
      "execution_count": null,
      "metadata": {
        "id": "n4PijB0TaMW8"
      },
      "outputs": [],
      "source": [
        "# combine x_train and y_train into one dataframe\n",
        "train_df = pd.DataFrame({'text': x_train, 'label': y_train})\n",
        "# write train_df to csv with tab as separator\n",
        "train_df.to_csv('train_df.csv', index=False, sep='\\t')\n",
        "# combine x_test and y_test into one dataframe\n",
        "test_df = pd.DataFrame({'text': x_test, 'label': y_test})"
      ]
    },
    {
      "cell_type": "code",
      "source": [
        "train_df.head()"
      ],
      "metadata": {
        "colab": {
          "base_uri": "https://localhost:8080/",
          "height": 204
        },
        "id": "-TjW9Z2OytMV",
        "outputId": "bf56b5d9-d112-4dd4-e6c9-a30ae502d419"
      },
      "execution_count": null,
      "outputs": [
        {
          "output_type": "execute_result",
          "data": {
            "text/plain": [
              "                                                text label\n",
              "0  Klement Gottwaldi surnukeha palsameeriti ning ...   est\n",
              "1  Sebes, Joseph; Pereira Thomas (1961) (på eng)....   swe\n",
              "2  भारतीय स्वातन्त्र्य आन्दोलन राष्ट्रीय एवम क्षे...   mai\n",
              "3  Après lo cort periòde d'establiment a Basilèa,...   oci\n",
              "4  ถนนเจริญกรุง (อักษรโรมัน: Thanon Charoen Krung...   tha"
            ],
            "text/html": [
              "\n",
              "  <div id=\"df-87fb40d1-4472-4553-88ff-a7dafd69dbc0\" class=\"colab-df-container\">\n",
              "    <div>\n",
              "<style scoped>\n",
              "    .dataframe tbody tr th:only-of-type {\n",
              "        vertical-align: middle;\n",
              "    }\n",
              "\n",
              "    .dataframe tbody tr th {\n",
              "        vertical-align: top;\n",
              "    }\n",
              "\n",
              "    .dataframe thead th {\n",
              "        text-align: right;\n",
              "    }\n",
              "</style>\n",
              "<table border=\"1\" class=\"dataframe\">\n",
              "  <thead>\n",
              "    <tr style=\"text-align: right;\">\n",
              "      <th></th>\n",
              "      <th>text</th>\n",
              "      <th>label</th>\n",
              "    </tr>\n",
              "  </thead>\n",
              "  <tbody>\n",
              "    <tr>\n",
              "      <th>0</th>\n",
              "      <td>Klement Gottwaldi surnukeha palsameeriti ning ...</td>\n",
              "      <td>est</td>\n",
              "    </tr>\n",
              "    <tr>\n",
              "      <th>1</th>\n",
              "      <td>Sebes, Joseph; Pereira Thomas (1961) (på eng)....</td>\n",
              "      <td>swe</td>\n",
              "    </tr>\n",
              "    <tr>\n",
              "      <th>2</th>\n",
              "      <td>भारतीय स्वातन्त्र्य आन्दोलन राष्ट्रीय एवम क्षे...</td>\n",
              "      <td>mai</td>\n",
              "    </tr>\n",
              "    <tr>\n",
              "      <th>3</th>\n",
              "      <td>Après lo cort periòde d'establiment a Basilèa,...</td>\n",
              "      <td>oci</td>\n",
              "    </tr>\n",
              "    <tr>\n",
              "      <th>4</th>\n",
              "      <td>ถนนเจริญกรุง (อักษรโรมัน: Thanon Charoen Krung...</td>\n",
              "      <td>tha</td>\n",
              "    </tr>\n",
              "  </tbody>\n",
              "</table>\n",
              "</div>\n",
              "    <div class=\"colab-df-buttons\">\n",
              "\n",
              "  <div class=\"colab-df-container\">\n",
              "    <button class=\"colab-df-convert\" onclick=\"convertToInteractive('df-87fb40d1-4472-4553-88ff-a7dafd69dbc0')\"\n",
              "            title=\"Convert this dataframe to an interactive table.\"\n",
              "            style=\"display:none;\">\n",
              "\n",
              "  <svg xmlns=\"http://www.w3.org/2000/svg\" height=\"24px\" viewBox=\"0 -960 960 960\">\n",
              "    <path d=\"M120-120v-720h720v720H120Zm60-500h600v-160H180v160Zm220 220h160v-160H400v160Zm0 220h160v-160H400v160ZM180-400h160v-160H180v160Zm440 0h160v-160H620v160ZM180-180h160v-160H180v160Zm440 0h160v-160H620v160Z\"/>\n",
              "  </svg>\n",
              "    </button>\n",
              "\n",
              "  <style>\n",
              "    .colab-df-container {\n",
              "      display:flex;\n",
              "      gap: 12px;\n",
              "    }\n",
              "\n",
              "    .colab-df-convert {\n",
              "      background-color: #E8F0FE;\n",
              "      border: none;\n",
              "      border-radius: 50%;\n",
              "      cursor: pointer;\n",
              "      display: none;\n",
              "      fill: #1967D2;\n",
              "      height: 32px;\n",
              "      padding: 0 0 0 0;\n",
              "      width: 32px;\n",
              "    }\n",
              "\n",
              "    .colab-df-convert:hover {\n",
              "      background-color: #E2EBFA;\n",
              "      box-shadow: 0px 1px 2px rgba(60, 64, 67, 0.3), 0px 1px 3px 1px rgba(60, 64, 67, 0.15);\n",
              "      fill: #174EA6;\n",
              "    }\n",
              "\n",
              "    .colab-df-buttons div {\n",
              "      margin-bottom: 4px;\n",
              "    }\n",
              "\n",
              "    [theme=dark] .colab-df-convert {\n",
              "      background-color: #3B4455;\n",
              "      fill: #D2E3FC;\n",
              "    }\n",
              "\n",
              "    [theme=dark] .colab-df-convert:hover {\n",
              "      background-color: #434B5C;\n",
              "      box-shadow: 0px 1px 3px 1px rgba(0, 0, 0, 0.15);\n",
              "      filter: drop-shadow(0px 1px 2px rgba(0, 0, 0, 0.3));\n",
              "      fill: #FFFFFF;\n",
              "    }\n",
              "  </style>\n",
              "\n",
              "    <script>\n",
              "      const buttonEl =\n",
              "        document.querySelector('#df-87fb40d1-4472-4553-88ff-a7dafd69dbc0 button.colab-df-convert');\n",
              "      buttonEl.style.display =\n",
              "        google.colab.kernel.accessAllowed ? 'block' : 'none';\n",
              "\n",
              "      async function convertToInteractive(key) {\n",
              "        const element = document.querySelector('#df-87fb40d1-4472-4553-88ff-a7dafd69dbc0');\n",
              "        const dataTable =\n",
              "          await google.colab.kernel.invokeFunction('convertToInteractive',\n",
              "                                                    [key], {});\n",
              "        if (!dataTable) return;\n",
              "\n",
              "        const docLinkHtml = 'Like what you see? Visit the ' +\n",
              "          '<a target=\"_blank\" href=https://colab.research.google.com/notebooks/data_table.ipynb>data table notebook</a>'\n",
              "          + ' to learn more about interactive tables.';\n",
              "        element.innerHTML = '';\n",
              "        dataTable['output_type'] = 'display_data';\n",
              "        await google.colab.output.renderOutput(dataTable, element);\n",
              "        const docLink = document.createElement('div');\n",
              "        docLink.innerHTML = docLinkHtml;\n",
              "        element.appendChild(docLink);\n",
              "      }\n",
              "    </script>\n",
              "  </div>\n",
              "\n",
              "\n",
              "<div id=\"df-6c979e9f-aeeb-423e-b38e-0bf334ab4549\">\n",
              "  <button class=\"colab-df-quickchart\" onclick=\"quickchart('df-6c979e9f-aeeb-423e-b38e-0bf334ab4549')\"\n",
              "            title=\"Suggest charts.\"\n",
              "            style=\"display:none;\">\n",
              "\n",
              "<svg xmlns=\"http://www.w3.org/2000/svg\" height=\"24px\"viewBox=\"0 0 24 24\"\n",
              "     width=\"24px\">\n",
              "    <g>\n",
              "        <path d=\"M19 3H5c-1.1 0-2 .9-2 2v14c0 1.1.9 2 2 2h14c1.1 0 2-.9 2-2V5c0-1.1-.9-2-2-2zM9 17H7v-7h2v7zm4 0h-2V7h2v10zm4 0h-2v-4h2v4z\"/>\n",
              "    </g>\n",
              "</svg>\n",
              "  </button>\n",
              "\n",
              "<style>\n",
              "  .colab-df-quickchart {\n",
              "      --bg-color: #E8F0FE;\n",
              "      --fill-color: #1967D2;\n",
              "      --hover-bg-color: #E2EBFA;\n",
              "      --hover-fill-color: #174EA6;\n",
              "      --disabled-fill-color: #AAA;\n",
              "      --disabled-bg-color: #DDD;\n",
              "  }\n",
              "\n",
              "  [theme=dark] .colab-df-quickchart {\n",
              "      --bg-color: #3B4455;\n",
              "      --fill-color: #D2E3FC;\n",
              "      --hover-bg-color: #434B5C;\n",
              "      --hover-fill-color: #FFFFFF;\n",
              "      --disabled-bg-color: #3B4455;\n",
              "      --disabled-fill-color: #666;\n",
              "  }\n",
              "\n",
              "  .colab-df-quickchart {\n",
              "    background-color: var(--bg-color);\n",
              "    border: none;\n",
              "    border-radius: 50%;\n",
              "    cursor: pointer;\n",
              "    display: none;\n",
              "    fill: var(--fill-color);\n",
              "    height: 32px;\n",
              "    padding: 0;\n",
              "    width: 32px;\n",
              "  }\n",
              "\n",
              "  .colab-df-quickchart:hover {\n",
              "    background-color: var(--hover-bg-color);\n",
              "    box-shadow: 0 1px 2px rgba(60, 64, 67, 0.3), 0 1px 3px 1px rgba(60, 64, 67, 0.15);\n",
              "    fill: var(--button-hover-fill-color);\n",
              "  }\n",
              "\n",
              "  .colab-df-quickchart-complete:disabled,\n",
              "  .colab-df-quickchart-complete:disabled:hover {\n",
              "    background-color: var(--disabled-bg-color);\n",
              "    fill: var(--disabled-fill-color);\n",
              "    box-shadow: none;\n",
              "  }\n",
              "\n",
              "  .colab-df-spinner {\n",
              "    border: 2px solid var(--fill-color);\n",
              "    border-color: transparent;\n",
              "    border-bottom-color: var(--fill-color);\n",
              "    animation:\n",
              "      spin 1s steps(1) infinite;\n",
              "  }\n",
              "\n",
              "  @keyframes spin {\n",
              "    0% {\n",
              "      border-color: transparent;\n",
              "      border-bottom-color: var(--fill-color);\n",
              "      border-left-color: var(--fill-color);\n",
              "    }\n",
              "    20% {\n",
              "      border-color: transparent;\n",
              "      border-left-color: var(--fill-color);\n",
              "      border-top-color: var(--fill-color);\n",
              "    }\n",
              "    30% {\n",
              "      border-color: transparent;\n",
              "      border-left-color: var(--fill-color);\n",
              "      border-top-color: var(--fill-color);\n",
              "      border-right-color: var(--fill-color);\n",
              "    }\n",
              "    40% {\n",
              "      border-color: transparent;\n",
              "      border-right-color: var(--fill-color);\n",
              "      border-top-color: var(--fill-color);\n",
              "    }\n",
              "    60% {\n",
              "      border-color: transparent;\n",
              "      border-right-color: var(--fill-color);\n",
              "    }\n",
              "    80% {\n",
              "      border-color: transparent;\n",
              "      border-right-color: var(--fill-color);\n",
              "      border-bottom-color: var(--fill-color);\n",
              "    }\n",
              "    90% {\n",
              "      border-color: transparent;\n",
              "      border-bottom-color: var(--fill-color);\n",
              "    }\n",
              "  }\n",
              "</style>\n",
              "\n",
              "  <script>\n",
              "    async function quickchart(key) {\n",
              "      const quickchartButtonEl =\n",
              "        document.querySelector('#' + key + ' button');\n",
              "      quickchartButtonEl.disabled = true;  // To prevent multiple clicks.\n",
              "      quickchartButtonEl.classList.add('colab-df-spinner');\n",
              "      try {\n",
              "        const charts = await google.colab.kernel.invokeFunction(\n",
              "            'suggestCharts', [key], {});\n",
              "      } catch (error) {\n",
              "        console.error('Error during call to suggestCharts:', error);\n",
              "      }\n",
              "      quickchartButtonEl.classList.remove('colab-df-spinner');\n",
              "      quickchartButtonEl.classList.add('colab-df-quickchart-complete');\n",
              "    }\n",
              "    (() => {\n",
              "      let quickchartButtonEl =\n",
              "        document.querySelector('#df-6c979e9f-aeeb-423e-b38e-0bf334ab4549 button');\n",
              "      quickchartButtonEl.style.display =\n",
              "        google.colab.kernel.accessAllowed ? 'block' : 'none';\n",
              "    })();\n",
              "  </script>\n",
              "</div>\n",
              "    </div>\n",
              "  </div>\n"
            ]
          },
          "metadata": {},
          "execution_count": 5
        }
      ]
    },
    {
      "cell_type": "code",
      "execution_count": null,
      "metadata": {
        "colab": {
          "base_uri": "https://localhost:8080/"
        },
        "id": "_96MFk6daMW9",
        "outputId": "38070542-541b-49b0-91ff-d6d7da5f0676"
      },
      "outputs": [
        {
          "output_type": "stream",
          "name": "stdout",
          "text": [
            "['est', 'swe', 'mai', 'oci', 'tha', 'orm', 'lim', 'guj', 'pnb', 'zea', 'krc', 'hat', 'pcd', 'tam', 'vie', 'pan', 'szl', 'ckb', 'fur', 'wuu', 'arz', 'ton', 'eus', 'map-bms', 'glk', 'nld', 'bod', 'jpn', 'arg', 'srd', 'ext', 'sin', 'kur', 'che', 'tuk', 'pag', 'tur', 'als', 'koi', 'lat', 'urd', 'tat', 'bxr', 'ind', 'kir', 'zh-yue', 'dan', 'por', 'fra', 'ori', 'nob', 'jbo', 'kok', 'amh', 'khm', 'hbs', 'slv', 'bos', 'tet', 'zho', 'kor', 'sah', 'rup', 'ast', 'wol', 'bul', 'gla', 'msa', 'crh', 'lug', 'sun', 'bre', 'mon', 'nep', 'ibo', 'cdo', 'asm', 'grn', 'hin', 'mar', 'lin', 'ile', 'lmo', 'mya', 'ilo', 'csb', 'tyv', 'gle', 'nan', 'jam', 'scn', 'be-tarask', 'diq', 'cor', 'fao', 'mlg', 'yid', 'sme', 'spa', 'kbd', 'udm', 'isl', 'ksh', 'san', 'aze', 'nap', 'dsb', 'pam', 'cym', 'srp', 'stq', 'tel', 'swa', 'vls', 'mzn', 'bel', 'lad', 'ina', 'ava', 'lao', 'min', 'ita', 'nds-nl', 'oss', 'kab', 'pus', 'fin', 'snd', 'kaa', 'fas', 'cbk', 'cat', 'nci', 'mhr', 'roa-tara', 'frp', 'ron', 'new', 'bar', 'ltg', 'vro', 'lav', 'ces', 'yor', 'nso', 'bak', 'rus', 'ace', 'mdf', 'vep', 'sgs', 'uig', 'lit', 'sqi', 'som', 'slk', 'sco', 'ukr', 'mri', 'hrv', 'vol', 'eng', 'glv', 'ben', 'ido', 'jav', 'tcy', 'mrj', 'hif', 'sna', 'war', 'mlt', 'egl', 'tsn', 'lez', 'hak', 'kom', 'azb', 'que', 'lzh', 'ara', 'fry', 'dty', 'mal', 'heb', 'gag', 'chv', 'afr', 'pap', 'kin', 'ang', 'kaz', 'bjn', 'hye', 'olo', 'xmf', 'uzb', 'bcl', 'pdc', 'hsb', 'srn', 'kat', 'tgl', 'nno', 'glg', 'roh', 'kan', 'chr', 'lrc', 'div', 'myv', 'cos', 'hun', 'nrm', 'pfl', 'wln', 'bho', 'epo', 'deu', 'nav', 'mwl', 'pol', 'rue', 'vec', 'nds', 'aym', 'tgk', 'ceb', 'xho', 'bpy', 'ell', 'lij', 'hau', 'mkd', 'ltz']\n"
          ]
        }
      ],
      "source": [
        "# get list of all labels\n",
        "labels = train_df['label'].unique().tolist()\n",
        "print(labels)"
      ]
    },
    {
      "cell_type": "markdown",
      "source": [
        "**Question 1:**"
      ],
      "metadata": {
        "id": "8XhNNxflxaLv"
      }
    },
    {
      "cell_type": "code",
      "execution_count": null,
      "metadata": {
        "id": "vrDiqt-CaMW-"
      },
      "outputs": [],
      "source": [
        "# T: Have a quick peek at the training data, looking at a couple of texts from different languages. Do you notice anything that might be challenging for the classification?"
      ]
    },
    {
      "cell_type": "markdown",
      "source": [
        "Answer:\n",
        "\n",
        "Some sentences might contain words or phrases from multiple languages, making it challenging to determine the predominant language. Furthermore, some languages share the same character set or script, which can make it challenging to differentiate them based on character analysis alone. For example, differentiating between Spanish and Italian can be difficult using character-level features. Additionally, several languages such as Swedish and Norwegian is very similar to each other, but minor differences in vocabulary and context, making them hard to do classification."
      ],
      "metadata": {
        "id": "JcOoDt85pNCS"
      }
    },
    {
      "cell_type": "markdown",
      "source": [
        "**Question 2:**"
      ],
      "metadata": {
        "id": "YlPeRAHlxfUG"
      }
    },
    {
      "cell_type": "code",
      "execution_count": null,
      "metadata": {
        "id": "ZOQg_jmnaMW-"
      },
      "outputs": [],
      "source": [
        "# T: How many instances per label are there in the training and test set? Do you think this is a balanced dataset? Do you think the train/test split is appropriate? If not, please rearrange the data in a more appropriate way."
      ]
    },
    {
      "cell_type": "code",
      "source": [
        "lbl_instances = []\n",
        "\n",
        "for lbl in labels:\n",
        "  instances = []\n",
        "  train_instances = train_df[train_df.label == lbl]['text'].values.tolist()\n",
        "  test_instances = test_df[test_df.label == lbl]['text'].values.tolist()\n",
        "  train_count = len(train_instances)\n",
        "  test_count = len(test_instances)\n",
        "  same_flag = 0 # same_flag: Is instances in train and test set same?\n",
        "  if train_count == test_count:\n",
        "    same_flag = 1\n",
        "  instances.append(lbl)\n",
        "  instances.append(train_count)\n",
        "  instances.append(test_count)\n",
        "  instances.append(same_flag)\n",
        "  lbl_instances.append(instances)\n",
        "\n",
        "import pandas as pd\n",
        "temp_df = pd.DataFrame(lbl_instances, columns=['Label', 'TrainSet_Count', 'TestSet_Count', 'Same?'])\n",
        "temp_df"
      ],
      "metadata": {
        "id": "St93uQS6q3Al",
        "colab": {
          "base_uri": "https://localhost:8080/",
          "height": 419
        },
        "outputId": "62420130-9641-4069-805e-b679df76ae99"
      },
      "execution_count": null,
      "outputs": [
        {
          "output_type": "execute_result",
          "data": {
            "text/plain": [
              "    Label  TrainSet_Count  TestSet_Count  Same?\n",
              "0     est             500            500      1\n",
              "1     swe             500            500      1\n",
              "2     mai             500            500      1\n",
              "3     oci             500            500      1\n",
              "4     tha             500            500      1\n",
              "..    ...             ...            ...    ...\n",
              "230   ell             500            500      1\n",
              "231   lij             500            500      1\n",
              "232   hau             500            500      1\n",
              "233   mkd             500            500      1\n",
              "234   ltz             500            500      1\n",
              "\n",
              "[235 rows x 4 columns]"
            ],
            "text/html": [
              "\n",
              "  <div id=\"df-9061ccda-d9c6-471a-a4b6-8f13b205abf1\" class=\"colab-df-container\">\n",
              "    <div>\n",
              "<style scoped>\n",
              "    .dataframe tbody tr th:only-of-type {\n",
              "        vertical-align: middle;\n",
              "    }\n",
              "\n",
              "    .dataframe tbody tr th {\n",
              "        vertical-align: top;\n",
              "    }\n",
              "\n",
              "    .dataframe thead th {\n",
              "        text-align: right;\n",
              "    }\n",
              "</style>\n",
              "<table border=\"1\" class=\"dataframe\">\n",
              "  <thead>\n",
              "    <tr style=\"text-align: right;\">\n",
              "      <th></th>\n",
              "      <th>Label</th>\n",
              "      <th>TrainSet_Count</th>\n",
              "      <th>TestSet_Count</th>\n",
              "      <th>Same?</th>\n",
              "    </tr>\n",
              "  </thead>\n",
              "  <tbody>\n",
              "    <tr>\n",
              "      <th>0</th>\n",
              "      <td>est</td>\n",
              "      <td>500</td>\n",
              "      <td>500</td>\n",
              "      <td>1</td>\n",
              "    </tr>\n",
              "    <tr>\n",
              "      <th>1</th>\n",
              "      <td>swe</td>\n",
              "      <td>500</td>\n",
              "      <td>500</td>\n",
              "      <td>1</td>\n",
              "    </tr>\n",
              "    <tr>\n",
              "      <th>2</th>\n",
              "      <td>mai</td>\n",
              "      <td>500</td>\n",
              "      <td>500</td>\n",
              "      <td>1</td>\n",
              "    </tr>\n",
              "    <tr>\n",
              "      <th>3</th>\n",
              "      <td>oci</td>\n",
              "      <td>500</td>\n",
              "      <td>500</td>\n",
              "      <td>1</td>\n",
              "    </tr>\n",
              "    <tr>\n",
              "      <th>4</th>\n",
              "      <td>tha</td>\n",
              "      <td>500</td>\n",
              "      <td>500</td>\n",
              "      <td>1</td>\n",
              "    </tr>\n",
              "    <tr>\n",
              "      <th>...</th>\n",
              "      <td>...</td>\n",
              "      <td>...</td>\n",
              "      <td>...</td>\n",
              "      <td>...</td>\n",
              "    </tr>\n",
              "    <tr>\n",
              "      <th>230</th>\n",
              "      <td>ell</td>\n",
              "      <td>500</td>\n",
              "      <td>500</td>\n",
              "      <td>1</td>\n",
              "    </tr>\n",
              "    <tr>\n",
              "      <th>231</th>\n",
              "      <td>lij</td>\n",
              "      <td>500</td>\n",
              "      <td>500</td>\n",
              "      <td>1</td>\n",
              "    </tr>\n",
              "    <tr>\n",
              "      <th>232</th>\n",
              "      <td>hau</td>\n",
              "      <td>500</td>\n",
              "      <td>500</td>\n",
              "      <td>1</td>\n",
              "    </tr>\n",
              "    <tr>\n",
              "      <th>233</th>\n",
              "      <td>mkd</td>\n",
              "      <td>500</td>\n",
              "      <td>500</td>\n",
              "      <td>1</td>\n",
              "    </tr>\n",
              "    <tr>\n",
              "      <th>234</th>\n",
              "      <td>ltz</td>\n",
              "      <td>500</td>\n",
              "      <td>500</td>\n",
              "      <td>1</td>\n",
              "    </tr>\n",
              "  </tbody>\n",
              "</table>\n",
              "<p>235 rows × 4 columns</p>\n",
              "</div>\n",
              "    <div class=\"colab-df-buttons\">\n",
              "\n",
              "  <div class=\"colab-df-container\">\n",
              "    <button class=\"colab-df-convert\" onclick=\"convertToInteractive('df-9061ccda-d9c6-471a-a4b6-8f13b205abf1')\"\n",
              "            title=\"Convert this dataframe to an interactive table.\"\n",
              "            style=\"display:none;\">\n",
              "\n",
              "  <svg xmlns=\"http://www.w3.org/2000/svg\" height=\"24px\" viewBox=\"0 -960 960 960\">\n",
              "    <path d=\"M120-120v-720h720v720H120Zm60-500h600v-160H180v160Zm220 220h160v-160H400v160Zm0 220h160v-160H400v160ZM180-400h160v-160H180v160Zm440 0h160v-160H620v160ZM180-180h160v-160H180v160Zm440 0h160v-160H620v160Z\"/>\n",
              "  </svg>\n",
              "    </button>\n",
              "\n",
              "  <style>\n",
              "    .colab-df-container {\n",
              "      display:flex;\n",
              "      gap: 12px;\n",
              "    }\n",
              "\n",
              "    .colab-df-convert {\n",
              "      background-color: #E8F0FE;\n",
              "      border: none;\n",
              "      border-radius: 50%;\n",
              "      cursor: pointer;\n",
              "      display: none;\n",
              "      fill: #1967D2;\n",
              "      height: 32px;\n",
              "      padding: 0 0 0 0;\n",
              "      width: 32px;\n",
              "    }\n",
              "\n",
              "    .colab-df-convert:hover {\n",
              "      background-color: #E2EBFA;\n",
              "      box-shadow: 0px 1px 2px rgba(60, 64, 67, 0.3), 0px 1px 3px 1px rgba(60, 64, 67, 0.15);\n",
              "      fill: #174EA6;\n",
              "    }\n",
              "\n",
              "    .colab-df-buttons div {\n",
              "      margin-bottom: 4px;\n",
              "    }\n",
              "\n",
              "    [theme=dark] .colab-df-convert {\n",
              "      background-color: #3B4455;\n",
              "      fill: #D2E3FC;\n",
              "    }\n",
              "\n",
              "    [theme=dark] .colab-df-convert:hover {\n",
              "      background-color: #434B5C;\n",
              "      box-shadow: 0px 1px 3px 1px rgba(0, 0, 0, 0.15);\n",
              "      filter: drop-shadow(0px 1px 2px rgba(0, 0, 0, 0.3));\n",
              "      fill: #FFFFFF;\n",
              "    }\n",
              "  </style>\n",
              "\n",
              "    <script>\n",
              "      const buttonEl =\n",
              "        document.querySelector('#df-9061ccda-d9c6-471a-a4b6-8f13b205abf1 button.colab-df-convert');\n",
              "      buttonEl.style.display =\n",
              "        google.colab.kernel.accessAllowed ? 'block' : 'none';\n",
              "\n",
              "      async function convertToInteractive(key) {\n",
              "        const element = document.querySelector('#df-9061ccda-d9c6-471a-a4b6-8f13b205abf1');\n",
              "        const dataTable =\n",
              "          await google.colab.kernel.invokeFunction('convertToInteractive',\n",
              "                                                    [key], {});\n",
              "        if (!dataTable) return;\n",
              "\n",
              "        const docLinkHtml = 'Like what you see? Visit the ' +\n",
              "          '<a target=\"_blank\" href=https://colab.research.google.com/notebooks/data_table.ipynb>data table notebook</a>'\n",
              "          + ' to learn more about interactive tables.';\n",
              "        element.innerHTML = '';\n",
              "        dataTable['output_type'] = 'display_data';\n",
              "        await google.colab.output.renderOutput(dataTable, element);\n",
              "        const docLink = document.createElement('div');\n",
              "        docLink.innerHTML = docLinkHtml;\n",
              "        element.appendChild(docLink);\n",
              "      }\n",
              "    </script>\n",
              "  </div>\n",
              "\n",
              "\n",
              "<div id=\"df-38423a18-d1c9-4b4a-b603-e55d0572faa9\">\n",
              "  <button class=\"colab-df-quickchart\" onclick=\"quickchart('df-38423a18-d1c9-4b4a-b603-e55d0572faa9')\"\n",
              "            title=\"Suggest charts.\"\n",
              "            style=\"display:none;\">\n",
              "\n",
              "<svg xmlns=\"http://www.w3.org/2000/svg\" height=\"24px\"viewBox=\"0 0 24 24\"\n",
              "     width=\"24px\">\n",
              "    <g>\n",
              "        <path d=\"M19 3H5c-1.1 0-2 .9-2 2v14c0 1.1.9 2 2 2h14c1.1 0 2-.9 2-2V5c0-1.1-.9-2-2-2zM9 17H7v-7h2v7zm4 0h-2V7h2v10zm4 0h-2v-4h2v4z\"/>\n",
              "    </g>\n",
              "</svg>\n",
              "  </button>\n",
              "\n",
              "<style>\n",
              "  .colab-df-quickchart {\n",
              "      --bg-color: #E8F0FE;\n",
              "      --fill-color: #1967D2;\n",
              "      --hover-bg-color: #E2EBFA;\n",
              "      --hover-fill-color: #174EA6;\n",
              "      --disabled-fill-color: #AAA;\n",
              "      --disabled-bg-color: #DDD;\n",
              "  }\n",
              "\n",
              "  [theme=dark] .colab-df-quickchart {\n",
              "      --bg-color: #3B4455;\n",
              "      --fill-color: #D2E3FC;\n",
              "      --hover-bg-color: #434B5C;\n",
              "      --hover-fill-color: #FFFFFF;\n",
              "      --disabled-bg-color: #3B4455;\n",
              "      --disabled-fill-color: #666;\n",
              "  }\n",
              "\n",
              "  .colab-df-quickchart {\n",
              "    background-color: var(--bg-color);\n",
              "    border: none;\n",
              "    border-radius: 50%;\n",
              "    cursor: pointer;\n",
              "    display: none;\n",
              "    fill: var(--fill-color);\n",
              "    height: 32px;\n",
              "    padding: 0;\n",
              "    width: 32px;\n",
              "  }\n",
              "\n",
              "  .colab-df-quickchart:hover {\n",
              "    background-color: var(--hover-bg-color);\n",
              "    box-shadow: 0 1px 2px rgba(60, 64, 67, 0.3), 0 1px 3px 1px rgba(60, 64, 67, 0.15);\n",
              "    fill: var(--button-hover-fill-color);\n",
              "  }\n",
              "\n",
              "  .colab-df-quickchart-complete:disabled,\n",
              "  .colab-df-quickchart-complete:disabled:hover {\n",
              "    background-color: var(--disabled-bg-color);\n",
              "    fill: var(--disabled-fill-color);\n",
              "    box-shadow: none;\n",
              "  }\n",
              "\n",
              "  .colab-df-spinner {\n",
              "    border: 2px solid var(--fill-color);\n",
              "    border-color: transparent;\n",
              "    border-bottom-color: var(--fill-color);\n",
              "    animation:\n",
              "      spin 1s steps(1) infinite;\n",
              "  }\n",
              "\n",
              "  @keyframes spin {\n",
              "    0% {\n",
              "      border-color: transparent;\n",
              "      border-bottom-color: var(--fill-color);\n",
              "      border-left-color: var(--fill-color);\n",
              "    }\n",
              "    20% {\n",
              "      border-color: transparent;\n",
              "      border-left-color: var(--fill-color);\n",
              "      border-top-color: var(--fill-color);\n",
              "    }\n",
              "    30% {\n",
              "      border-color: transparent;\n",
              "      border-left-color: var(--fill-color);\n",
              "      border-top-color: var(--fill-color);\n",
              "      border-right-color: var(--fill-color);\n",
              "    }\n",
              "    40% {\n",
              "      border-color: transparent;\n",
              "      border-right-color: var(--fill-color);\n",
              "      border-top-color: var(--fill-color);\n",
              "    }\n",
              "    60% {\n",
              "      border-color: transparent;\n",
              "      border-right-color: var(--fill-color);\n",
              "    }\n",
              "    80% {\n",
              "      border-color: transparent;\n",
              "      border-right-color: var(--fill-color);\n",
              "      border-bottom-color: var(--fill-color);\n",
              "    }\n",
              "    90% {\n",
              "      border-color: transparent;\n",
              "      border-bottom-color: var(--fill-color);\n",
              "    }\n",
              "  }\n",
              "</style>\n",
              "\n",
              "  <script>\n",
              "    async function quickchart(key) {\n",
              "      const quickchartButtonEl =\n",
              "        document.querySelector('#' + key + ' button');\n",
              "      quickchartButtonEl.disabled = true;  // To prevent multiple clicks.\n",
              "      quickchartButtonEl.classList.add('colab-df-spinner');\n",
              "      try {\n",
              "        const charts = await google.colab.kernel.invokeFunction(\n",
              "            'suggestCharts', [key], {});\n",
              "      } catch (error) {\n",
              "        console.error('Error during call to suggestCharts:', error);\n",
              "      }\n",
              "      quickchartButtonEl.classList.remove('colab-df-spinner');\n",
              "      quickchartButtonEl.classList.add('colab-df-quickchart-complete');\n",
              "    }\n",
              "    (() => {\n",
              "      let quickchartButtonEl =\n",
              "        document.querySelector('#df-38423a18-d1c9-4b4a-b603-e55d0572faa9 button');\n",
              "      quickchartButtonEl.style.display =\n",
              "        google.colab.kernel.accessAllowed ? 'block' : 'none';\n",
              "    })();\n",
              "  </script>\n",
              "</div>\n",
              "    </div>\n",
              "  </div>\n"
            ]
          },
          "metadata": {},
          "execution_count": 9
        }
      ]
    },
    {
      "cell_type": "code",
      "source": [
        "print(f\"Number of labels which instances different from train and test set? : {len(temp_df[temp_df['Same?'] == 0])}\")"
      ],
      "metadata": {
        "id": "wB07wfr-wam-",
        "colab": {
          "base_uri": "https://localhost:8080/"
        },
        "outputId": "a4e8de6c-3e0c-43f1-815f-9dfd4324ef41"
      },
      "execution_count": null,
      "outputs": [
        {
          "output_type": "stream",
          "name": "stdout",
          "text": [
            "Number of labels which instances different from train and test set? : 0\n"
          ]
        }
      ]
    },
    {
      "cell_type": "code",
      "source": [
        "from sklearn.model_selection import train_test_split\n",
        "import pandas as pd\n",
        "\n",
        "def rearrange_split(train_df, test_df):\n",
        "  combined_df = pd.concat([train_df, test_df], axis=0)\n",
        "  X = combined_df.drop(columns=['label'])  # Assuming 'label' is the column containing the labels\n",
        "  y = combined_df['label']\n",
        "  X_train, X_test, Y_train, Y_test = train_test_split(X, y, test_size=0.2) #80% training, 20% testing\n",
        "  return X_train['text'], X_test['text'], Y_train, Y_test"
      ],
      "metadata": {
        "id": "LdapXZo33TwV"
      },
      "execution_count": null,
      "outputs": []
    },
    {
      "cell_type": "markdown",
      "source": [
        "Answer:\n",
        "\n",
        "For each label, there are 500 instances in both the training and test sets, resulting in a balanced dataset with an equal distribution of instances across the labels in both sets. However, we think the train/test split is inappropriate, hence we suggest rearrange the dataset into an 80% training and 20% testing split. The 80/20 split provides a larger training set, which can be beneficial in improving model performance and generalization."
      ],
      "metadata": {
        "id": "ah_A3xWg0qAt"
      }
    },
    {
      "cell_type": "markdown",
      "source": [
        "**Question 3:**"
      ],
      "metadata": {
        "id": "xO2aospfxj7w"
      }
    },
    {
      "cell_type": "code",
      "execution_count": null,
      "metadata": {
        "id": "sROq2PaJaMW-"
      },
      "outputs": [],
      "source": [
        "# T: Get a subset of the train/test data that includes English, German, Dutch, Danish, Swedish and Norwegian, plus 20 additional languages of your choice (the labels can be found in the file labels.csv)"
      ]
    },
    {
      "cell_type": "code",
      "source": [
        "included_languages = ['eng', 'deu', 'nld', 'dan', 'swe', 'nno',\n",
        "                      'ara', 'hak', 'lzh', 'tha', 'fra',\n",
        "                      'mal', 'zh-yue', 'zho', 'bar', 'tam',\n",
        "                      'tur', 'ukr', 'vie', 'cdo', 'ces',\n",
        "                      'div', 'ell', 'jpn', 'kor', 'lad']"
      ],
      "metadata": {
        "id": "oGe6PEjkNmfS"
      },
      "execution_count": null,
      "outputs": []
    },
    {
      "cell_type": "code",
      "source": [
        "# Filter train_df and test_df to include only specified languages\n",
        "train_df = train_df[train_df['label'].isin(included_languages)]\n",
        "test_df = test_df[test_df['label'].isin(included_languages)]\n",
        "\n",
        "X_train, X_test, Y_train, Y_test = rearrange_split(train_df, test_df)"
      ],
      "metadata": {
        "id": "turLxKq-OiIf"
      },
      "execution_count": null,
      "outputs": []
    },
    {
      "cell_type": "markdown",
      "source": [
        "**Question 4:**"
      ],
      "metadata": {
        "id": "K4BD7l_rxm5A"
      }
    },
    {
      "cell_type": "code",
      "execution_count": null,
      "metadata": {
        "id": "dOseJ2BsaMW_"
      },
      "outputs": [],
      "source": [
        "# T: With the following code, we wanted to encode the labels, however, our cat was walking on the keyboard and some of it got changed. Can you fix it?\n",
        "from sklearn.preprocessing import LabelEncoder\n",
        "le_fitted = LabelEncoder()\n",
        "Y_train = le_fitted.fit_transform(Y_train)\n",
        "Y_test = le_fitted.transform(Y_test)"
      ]
    },
    {
      "cell_type": "markdown",
      "source": [
        "**Part 2.**"
      ],
      "metadata": {
        "id": "mTR0tl_oWnKX"
      }
    },
    {
      "cell_type": "code",
      "source": [
        "from sklearn.feature_extraction.text import CountVectorizer, TfidfTransformer, HashingVectorizer, TfidfVectorizer\n",
        "from sklearn.preprocessing import FunctionTransformer\n",
        "from sklearn.linear_model import SGDClassifier\n",
        "from sklearn.metrics import f1_score\n",
        "from sklearn.model_selection import train_test_split\n",
        "from sklearn.pipeline import Pipeline, FeatureUnion\n",
        "from sklearn.metrics import confusion_matrix\n",
        "from sklearn.metrics import classification_report\n",
        "from sklearn.linear_model import LogisticRegression\n",
        "from sklearn.metrics import accuracy_score"
      ],
      "metadata": {
        "id": "SAFW_rF9dYED"
      },
      "execution_count": null,
      "outputs": []
    },
    {
      "cell_type": "code",
      "source": [
        "tfidf_vectorizer = TfidfVectorizer(\n",
        "    strip_accents='unicode',\n",
        "    analyzer='char',\n",
        "    ngram_range=(1, 4),  # n-gram range\n",
        "    max_features=5000,  # number of features\n",
        ")\n",
        "\n",
        "count_vectorizer = CountVectorizer(ngram_range=(1, 4), min_df=5, max_df=0.8)\n",
        "\n",
        "# Create a custom function for text pre-processing to remove digits\n",
        "def preprocess_text(text_series):\n",
        "  # Remove digits\n",
        "  text_series = text_series.apply(lambda text: re.sub(r'\\d', '', text))\n",
        "  # Remove special characters\n",
        "  text_series = text_series.apply(lambda text: re.sub(r'[)(*&^%$#@!]', '', text))\n",
        "  return text_series\n"
      ],
      "metadata": {
        "id": "_kO2XqHFa6Rp"
      },
      "execution_count": null,
      "outputs": []
    },
    {
      "cell_type": "markdown",
      "source": [
        "**Part 3.**"
      ],
      "metadata": {
        "id": "yQ-7xPjumJvR"
      }
    },
    {
      "cell_type": "code",
      "source": [
        "# Create a Logistic Regression classifier\n",
        "logistic_classifier = LogisticRegression(solver='lbfgs', multi_class='multinomial', penalty='l2', max_iter=1000)"
      ],
      "metadata": {
        "id": "gk5p5_LjbpkU"
      },
      "execution_count": null,
      "outputs": []
    },
    {
      "cell_type": "code",
      "source": [
        "def fit_transform_predict(X_train, Y_train, X_test, Y_test):\n",
        "  # Create a pipeline with the vectorizer and classifier\n",
        "  pipeline = Pipeline([\n",
        "      ('preprocess_text', FunctionTransformer(func=preprocess_text, validate=False)),\n",
        "      ('union', FeatureUnion(\n",
        "          transformer_list=[\n",
        "              ('tfidf', tfidf_vectorizer),\n",
        "              ('count_vectorizer', count_vectorizer),\n",
        "          ],\n",
        "      )),\n",
        "      ('classifier', logistic_classifier)\n",
        "  ])\n",
        "\n",
        "  # Train the model\n",
        "  pipeline.fit(X_train, Y_train)\n",
        "\n",
        "  # Predict on the test set\n",
        "  Y_pred = pipeline.predict(X_test)\n",
        "\n",
        "  return Y_pred"
      ],
      "metadata": {
        "id": "rkqYFeQtbePk"
      },
      "execution_count": null,
      "outputs": []
    },
    {
      "cell_type": "code",
      "source": [
        "Y_pred = fit_transform_predict(X_train, Y_train, X_test, Y_test)\n",
        "# Compute accuracy between Y_test and Y_pred\n",
        "accuracy = accuracy_score(Y_test, Y_pred)\n",
        "print(f'Accuracy: {accuracy}')"
      ],
      "metadata": {
        "id": "Cs-S3jM_T8WZ",
        "colab": {
          "base_uri": "https://localhost:8080/"
        },
        "outputId": "b8826e90-ee08-468a-d100-d400526254b8"
      },
      "execution_count": null,
      "outputs": [
        {
          "output_type": "stream",
          "name": "stdout",
          "text": [
            "Accuracy: 0.9790384615384615\n"
          ]
        }
      ]
    },
    {
      "cell_type": "markdown",
      "source": [
        "part 4."
      ],
      "metadata": {
        "id": "VP3Q1-UMlUCP"
      }
    },
    {
      "cell_type": "code",
      "source": [
        "from sklearn.model_selection import GridSearchCV\n",
        "#creat a pipeline\n",
        "pipe = Pipeline([\n",
        "      ('preprocess_text', FunctionTransformer(func=preprocess_text, validate=False)),\n",
        "      ('union', FeatureUnion(\n",
        "          transformer_list=[\n",
        "              ('tfidf', tfidf_vectorizer),\n",
        "              ('count_vectorizer', count_vectorizer),\n",
        "          ],\n",
        "      )),\n",
        "      ('classifier', logistic_classifier)\n",
        "  ])\n",
        "# creat a parameter grid\n",
        "parameter_grid={\n",
        "    'classifier__max_iter': [300,500],\n",
        "    'classifier__penalty': ['l1', 'l2'],\n",
        "    'classifier__solver': ['newton-cg','lbfgs']#, 'sag'，'saga','liblinear',\n",
        "}\n",
        "#pass the grid in Grid search cv\n",
        "grid_search=GridSearchCV(pipe,parameter_grid,cv=3)\n",
        "grid_search.fit(X_train,Y_train)\n",
        "print(grid_search.best_estimator_)"
      ],
      "metadata": {
        "id": "CpDQDxGZlYts",
        "colab": {
          "base_uri": "https://localhost:8080/"
        },
        "outputId": "32b1a84f-fad3-46ca-d670-bbd06983976d"
      },
      "execution_count": null,
      "outputs": [
        {
          "output_type": "stream",
          "name": "stderr",
          "text": [
            "/usr/local/lib/python3.10/dist-packages/sklearn/model_selection/_validation.py:378: FitFailedWarning: \n",
            "12 fits failed out of a total of 24.\n",
            "The score on these train-test partitions for these parameters will be set to nan.\n",
            "If these failures are not expected, you can try to debug them by setting error_score='raise'.\n",
            "\n",
            "Below are more details about the failures:\n",
            "--------------------------------------------------------------------------------\n",
            "6 fits failed with the following error:\n",
            "Traceback (most recent call last):\n",
            "  File \"/usr/local/lib/python3.10/dist-packages/sklearn/model_selection/_validation.py\", line 686, in _fit_and_score\n",
            "    estimator.fit(X_train, y_train, **fit_params)\n",
            "  File \"/usr/local/lib/python3.10/dist-packages/sklearn/pipeline.py\", line 405, in fit\n",
            "    self._final_estimator.fit(Xt, y, **fit_params_last_step)\n",
            "  File \"/usr/local/lib/python3.10/dist-packages/sklearn/linear_model/_logistic.py\", line 1162, in fit\n",
            "    solver = _check_solver(self.solver, self.penalty, self.dual)\n",
            "  File \"/usr/local/lib/python3.10/dist-packages/sklearn/linear_model/_logistic.py\", line 54, in _check_solver\n",
            "    raise ValueError(\n",
            "ValueError: Solver newton-cg supports only 'l2' or 'none' penalties, got l1 penalty.\n",
            "\n",
            "--------------------------------------------------------------------------------\n",
            "6 fits failed with the following error:\n",
            "Traceback (most recent call last):\n",
            "  File \"/usr/local/lib/python3.10/dist-packages/sklearn/model_selection/_validation.py\", line 686, in _fit_and_score\n",
            "    estimator.fit(X_train, y_train, **fit_params)\n",
            "  File \"/usr/local/lib/python3.10/dist-packages/sklearn/pipeline.py\", line 405, in fit\n",
            "    self._final_estimator.fit(Xt, y, **fit_params_last_step)\n",
            "  File \"/usr/local/lib/python3.10/dist-packages/sklearn/linear_model/_logistic.py\", line 1162, in fit\n",
            "    solver = _check_solver(self.solver, self.penalty, self.dual)\n",
            "  File \"/usr/local/lib/python3.10/dist-packages/sklearn/linear_model/_logistic.py\", line 54, in _check_solver\n",
            "    raise ValueError(\n",
            "ValueError: Solver lbfgs supports only 'l2' or 'none' penalties, got l1 penalty.\n",
            "\n",
            "  warnings.warn(some_fits_failed_message, FitFailedWarning)\n",
            "/usr/local/lib/python3.10/dist-packages/sklearn/model_selection/_search.py:952: UserWarning: One or more of the test scores are non-finite: [       nan        nan 0.97971147 0.97971147        nan        nan\n",
            " 0.97971147 0.97971147]\n",
            "  warnings.warn(\n"
          ]
        },
        {
          "output_type": "stream",
          "name": "stdout",
          "text": [
            "Pipeline(steps=[('preprocess_text',\n",
            "                 FunctionTransformer(func=<function preprocess_text at 0x7905320d7a30>)),\n",
            "                ('union',\n",
            "                 FeatureUnion(transformer_list=[('tfidf',\n",
            "                                                 TfidfVectorizer(analyzer='char',\n",
            "                                                                 max_features=5000,\n",
            "                                                                 ngram_range=(1,\n",
            "                                                                              4),\n",
            "                                                                 strip_accents='unicode')),\n",
            "                                                ('count_vectorizer',\n",
            "                                                 CountVectorizer(max_df=0.8,\n",
            "                                                                 min_df=5,\n",
            "                                                                 ngram_range=(1,\n",
            "                                                                              4)))])),\n",
            "                ('classifier',\n",
            "                 LogisticRegression(max_iter=300, multi_class='multinomial',\n",
            "                                    solver='newton-cg'))])\n"
          ]
        }
      ]
    },
    {
      "cell_type": "markdown",
      "source": [
        "**Extras:**"
      ],
      "metadata": {
        "id": "nRoFhyJpi67Z"
      }
    },
    {
      "cell_type": "code",
      "source": [
        "best_pipeline = grid_search.best_estimator_\n",
        "\n",
        "tfidf_vectorizer = best_pipeline.named_steps['union'].transformer_list[0][1]\n",
        "logistic_model = best_pipeline.named_steps['classifier']\n",
        "\n",
        "def extract_top_features(language):\n",
        "    train_df_filtered = train_df[train_df['label'] == language]\n",
        "    test_df_filtered = test_df[test_df['label'] == language]\n",
        "    X_train, X_test, Y_train, Y_test = rearrange_split(train_df_filtered, test_df_filtered)\n",
        "    X_train_tfidf = tfidf_vectorizer.fit_transform(X_train)\n",
        "    feature_names = tfidf_vectorizer.get_feature_names_out()\n",
        "    coefs = logistic_model.coef_[0]\n",
        "    features_with_coefs = list(zip(feature_names, coefs))\n",
        "    features_with_coefs.sort(key=lambda x: abs(x[1]), reverse=True)\n",
        "    return features_with_coefs[:10]\n",
        "top_features_eng=extract_top_features('eng')\n",
        "top_features_jpn=extract_top_features('jpn')\n",
        "top_features_swe=extract_top_features('swe')\n",
        "top_features_nno=extract_top_features('nno')\n",
        "print(f\"English top ten features:{top_features_eng}\\n Japanese top ten features:{top_features_jpn} \\n Swedish top ten features:{top_features_swe}\\n Norwegian top ten features:{top_features_nno}\")\n",
        "\n",
        "\n",
        "\n",
        "\n"
      ],
      "metadata": {
        "id": "X-2ZAKxR0RVc",
        "colab": {
          "base_uri": "https://localhost:8080/"
        },
        "outputId": "6d2ec782-1986-44d6-faba-8e7412bd473e"
      },
      "execution_count": null,
      "outputs": [
        {
          "output_type": "stream",
          "name": "stdout",
          "text": [
            "English top ten features:[('onom', 2.371443093059724), ('ound', 1.5268017967667002), ('pen', 1.078812728911029), ('par', 0.91306932427157), ('ool', 0.8699666728379214), (' sti', 0.8460785522190952), ('owi', 0.8098307726397882), ('orme', 0.7058242624007021), (' sto', 0.6533328497142297), ('p w', 0.6106879743828785)]\n",
            " Japanese top ten features:[('合も', 2.371443093059724), ('場し', 1.5268017967667002), ('子供', 1.078812728911029), ('好', 0.91306932427157), ('向', 0.8699666728379214), ('km', 0.8460785522190952), ('外の', 0.8098307726397882), ('国', 0.7058242624007021), ('l', 0.6533328497142297), ('大学院', 0.6106879743828785)] \n",
            " Swedish top ten features:[('olm', 2.371443093059724), ('orh', 1.5268017967667002), ('pa a', 1.078812728911029), ('over', 0.91306932427157), ('om r', 0.8699666728379214), (' sku', 0.8460785522190952), ('osa ', 0.8098307726397882), ('op', 0.7058242624007021), (' sl', 0.6533328497142297), ('ott', 0.6106879743828785)]\n",
            " Norwegian top ten features:[('om e', 2.371443093059724), ('orti', 1.5268017967667002), ('pele', 1.078812728911029), ('pan', 0.91306932427157), ('omi', 0.8699666728379214), (' stø', 0.8460785522190952), ('ovin', 0.8098307726397882), ('or', 0.7058242624007021), (' su', 0.6533328497142297), ('pa d', 0.6106879743828785)]\n"
          ]
        }
      ]
    },
    {
      "cell_type": "markdown",
      "source": [
        "**Confusion Matrix**\n"
      ],
      "metadata": {
        "id": "o7bissBma8ys"
      }
    },
    {
      "cell_type": "code",
      "source": [
        "best_pipeline.fit(X_train, Y_train)\n",
        "Y_pred2=best_pipeline.predict(X_test)\n",
        "Confusion_mat=confusion_matrix(Y_test, Y_pred2,normalize='all')\n",
        "print(Confusion_mat)\n",
        "print(np.trace(Confusion_mat))"
      ],
      "metadata": {
        "colab": {
          "base_uri": "https://localhost:8080/"
        },
        "id": "96AVhrMxa8Qa",
        "outputId": "b0207102-f7f6-4277-9000-92e3b5abf633"
      },
      "execution_count": null,
      "outputs": [
        {
          "output_type": "stream",
          "name": "stdout",
          "text": [
            "[[0.04019231 0.         0.         0.         0.         0.\n",
            "  0.         0.         0.00019231 0.         0.         0.\n",
            "  0.         0.         0.         0.         0.         0.\n",
            "  0.         0.         0.         0.         0.         0.\n",
            "  0.         0.        ]\n",
            " [0.         0.04115385 0.         0.         0.         0.00269231\n",
            "  0.         0.         0.00076923 0.         0.         0.\n",
            "  0.         0.         0.         0.         0.         0.\n",
            "  0.         0.         0.         0.         0.         0.00019231\n",
            "  0.00019231 0.        ]\n",
            " [0.         0.         0.04346154 0.         0.         0.\n",
            "  0.         0.         0.         0.         0.         0.\n",
            "  0.         0.         0.         0.         0.         0.\n",
            "  0.         0.         0.         0.         0.         0.\n",
            "  0.00019231 0.00057692]\n",
            " [0.         0.         0.         0.03153846 0.         0.\n",
            "  0.         0.         0.         0.         0.         0.\n",
            "  0.         0.         0.         0.         0.         0.\n",
            "  0.         0.         0.         0.         0.         0.\n",
            "  0.00019231 0.        ]\n",
            " [0.         0.         0.         0.         0.03673077 0.00057692\n",
            "  0.         0.         0.00019231 0.00019231 0.         0.\n",
            "  0.         0.         0.         0.         0.         0.\n",
            "  0.         0.         0.         0.         0.         0.\n",
            "  0.         0.        ]\n",
            " [0.         0.00153846 0.         0.         0.         0.03134615\n",
            "  0.         0.         0.00019231 0.         0.         0.\n",
            "  0.         0.         0.         0.         0.         0.\n",
            "  0.         0.         0.         0.         0.         0.\n",
            "  0.00019231 0.        ]\n",
            " [0.         0.         0.         0.         0.         0.\n",
            "  0.03596154 0.         0.         0.         0.         0.\n",
            "  0.         0.         0.         0.         0.         0.\n",
            "  0.         0.         0.         0.         0.         0.\n",
            "  0.         0.        ]\n",
            " [0.         0.         0.         0.         0.         0.\n",
            "  0.         0.04096154 0.00057692 0.         0.         0.\n",
            "  0.         0.         0.         0.         0.         0.\n",
            "  0.         0.         0.         0.         0.         0.\n",
            "  0.         0.        ]\n",
            " [0.         0.00019231 0.         0.00019231 0.         0.\n",
            "  0.         0.         0.03730769 0.         0.         0.\n",
            "  0.         0.         0.         0.         0.         0.\n",
            "  0.         0.         0.         0.         0.         0.\n",
            "  0.00019231 0.        ]\n",
            " [0.         0.00019231 0.         0.00019231 0.         0.\n",
            "  0.         0.         0.         0.03788462 0.         0.\n",
            "  0.         0.         0.         0.         0.         0.\n",
            "  0.         0.         0.         0.         0.         0.\n",
            "  0.         0.        ]\n",
            " [0.         0.         0.         0.         0.         0.\n",
            "  0.         0.         0.         0.         0.03769231 0.\n",
            "  0.         0.         0.00019231 0.         0.         0.\n",
            "  0.         0.         0.         0.         0.         0.\n",
            "  0.00076923 0.00057692]\n",
            " [0.         0.         0.         0.         0.         0.\n",
            "  0.         0.         0.00019231 0.         0.         0.03826923\n",
            "  0.         0.         0.         0.         0.         0.\n",
            "  0.         0.         0.         0.         0.00019231 0.\n",
            "  0.         0.00057692]\n",
            " [0.         0.         0.         0.00019231 0.         0.\n",
            "  0.         0.         0.         0.         0.         0.\n",
            "  0.03423077 0.         0.         0.         0.         0.\n",
            "  0.         0.         0.         0.         0.         0.\n",
            "  0.         0.        ]\n",
            " [0.         0.         0.         0.00019231 0.         0.\n",
            "  0.         0.         0.00019231 0.         0.         0.\n",
            "  0.         0.03865385 0.         0.         0.         0.\n",
            "  0.         0.         0.         0.         0.         0.\n",
            "  0.         0.        ]\n",
            " [0.         0.         0.         0.         0.         0.\n",
            "  0.         0.         0.         0.         0.         0.\n",
            "  0.         0.         0.03884615 0.         0.         0.\n",
            "  0.         0.         0.         0.         0.         0.\n",
            "  0.         0.00019231]\n",
            " [0.         0.         0.         0.         0.         0.\n",
            "  0.         0.         0.00019231 0.         0.         0.\n",
            "  0.         0.         0.         0.04       0.         0.\n",
            "  0.         0.         0.         0.         0.         0.\n",
            "  0.00019231 0.        ]\n",
            " [0.         0.         0.         0.         0.         0.\n",
            "  0.         0.         0.         0.00019231 0.         0.\n",
            "  0.         0.         0.         0.         0.03673077 0.\n",
            "  0.         0.         0.         0.         0.         0.\n",
            "  0.         0.        ]\n",
            " [0.         0.         0.         0.00057692 0.00019231 0.\n",
            "  0.         0.         0.         0.         0.         0.\n",
            "  0.         0.         0.         0.         0.00019231 0.03653846\n",
            "  0.         0.         0.         0.         0.         0.\n",
            "  0.         0.        ]\n",
            " [0.         0.         0.         0.         0.00019231 0.\n",
            "  0.         0.         0.         0.         0.         0.\n",
            "  0.         0.         0.         0.         0.         0.00019231\n",
            "  0.03423077 0.         0.         0.         0.         0.\n",
            "  0.         0.        ]\n",
            " [0.         0.         0.         0.         0.         0.\n",
            "  0.         0.         0.00019231 0.         0.         0.\n",
            "  0.         0.         0.         0.         0.         0.\n",
            "  0.         0.03846154 0.         0.         0.         0.\n",
            "  0.00019231 0.        ]\n",
            " [0.         0.         0.         0.         0.         0.\n",
            "  0.         0.         0.         0.         0.         0.\n",
            "  0.         0.         0.         0.         0.         0.\n",
            "  0.         0.         0.03826923 0.         0.         0.\n",
            "  0.         0.        ]\n",
            " [0.         0.         0.         0.00019231 0.         0.\n",
            "  0.         0.         0.         0.         0.         0.\n",
            "  0.         0.         0.         0.         0.         0.\n",
            "  0.         0.         0.         0.03961538 0.         0.\n",
            "  0.         0.        ]\n",
            " [0.         0.         0.         0.00019231 0.         0.\n",
            "  0.         0.         0.00038462 0.         0.         0.\n",
            "  0.         0.         0.         0.         0.         0.\n",
            "  0.         0.         0.         0.         0.04211538 0.\n",
            "  0.         0.        ]\n",
            " [0.         0.         0.         0.         0.         0.\n",
            "  0.         0.         0.00019231 0.         0.         0.\n",
            "  0.         0.         0.         0.         0.         0.\n",
            "  0.         0.         0.         0.         0.         0.03673077\n",
            "  0.         0.        ]\n",
            " [0.         0.         0.         0.00019231 0.         0.00019231\n",
            "  0.         0.         0.00134615 0.         0.         0.00019231\n",
            "  0.         0.         0.00038462 0.         0.         0.\n",
            "  0.         0.         0.         0.         0.         0.\n",
            "  0.03557692 0.00115385]\n",
            " [0.         0.         0.         0.         0.         0.\n",
            "  0.         0.         0.00096154 0.         0.         0.00019231\n",
            "  0.         0.         0.00019231 0.         0.         0.\n",
            "  0.         0.         0.         0.         0.         0.\n",
            "  0.00019231 0.03653846]]\n",
            "0.9790384615384615\n"
          ]
        }
      ]
    },
    {
      "cell_type": "code",
      "source": [
        "# (To-do)"
      ],
      "metadata": {
        "id": "X7jJui6Ni5NE"
      },
      "execution_count": null,
      "outputs": []
    },
    {
      "cell_type": "markdown",
      "source": [
        "**Ablation study**"
      ],
      "metadata": {
        "id": "bZMCKnBPr51w"
      }
    },
    {
      "cell_type": "code",
      "source": [
        "labels = np.unique(Y_test)\n",
        "accuracy_dict = {}\n",
        "top2_encoded_lang = []\n",
        "for lbl in labels:\n",
        "  iloc = np.where(Y_test==lbl)\n",
        "  true_values = Y_test[iloc]\n",
        "  pred_values = Y_pred[iloc]\n",
        "  accu = (true_values == pred_values).sum() / len(true_values)\n",
        "  accuracy_dict[lbl] = \"{:.4f}\".format(accu)\n",
        "\n",
        "# Convert values to floats\n",
        "accuracy_dict = {key: float(value) for key, value in accuracy_dict.items()}\n",
        "\n",
        "# Sort the dictionary items by values in descending order\n",
        "accuracy_dict = dict(sorted(accuracy_dict.items(), key=lambda item: item[1], reverse=True))\n",
        "\n",
        "# Get the top 2 highest values and their keys\n",
        "top_2_items = list(accuracy_dict.items())[:2]\n",
        "\n",
        "print(\"Top 2 highest accuracy with their Encoded-Language:\")\n",
        "for key, value in top_2_items:\n",
        "    top2_encoded_lang.append(key)\n",
        "    print(f\"Encoded-Language: {key}, Accuracy: {value}\")\n"
      ],
      "metadata": {
        "id": "WfWviuQ5r9X-",
        "colab": {
          "base_uri": "https://localhost:8080/"
        },
        "outputId": "da6e28f1-5c07-473b-e574-958e0a58291d"
      },
      "execution_count": null,
      "outputs": [
        {
          "output_type": "stream",
          "name": "stdout",
          "text": [
            "Top 2 highest accuracy with their Encoded-Language:\n",
            "Encoded-Language: 6, Accuracy: 1.0\n",
            "Encoded-Language: 20, Accuracy: 1.0\n"
          ]
        }
      ]
    },
    {
      "cell_type": "code",
      "source": [
        "# First Encoded-Language\n",
        "# Filter out Test Set\n",
        "iloc = np.where(Y_test==top2_encoded_lang[0])\n",
        "Y_test_sub1 = Y_test[iloc]\n",
        "X_test_sub1 = X_test.to_numpy()[iloc]\n",
        "# Filter out Train Set\n",
        "iloc = np.where(Y_train==top2_encoded_lang[0])\n",
        "Y_train_sub1 = Y_train[iloc]\n",
        "X_train_sub1 = X_train.to_numpy()[iloc]\n",
        "\n",
        "# Second Encoded-Language\n",
        "# Filter out Test Set\n",
        "iloc = np.where(Y_test==top2_encoded_lang[1])\n",
        "Y_test_sub2 = Y_test[iloc]\n",
        "X_test_sub2 = X_test.to_numpy()[iloc]\n",
        "# Filter out Train Set\n",
        "iloc = np.where(Y_train==top2_encoded_lang[1])\n",
        "Y_train_sub2 = Y_train[iloc]\n",
        "X_train_sub2 = X_train.to_numpy()[iloc]\n",
        "\n",
        "# Combine two Encoded-Language Dataset\n",
        "X_train_subset = pd.Series(np.concatenate((X_train_sub1, X_train_sub2), axis=None))\n",
        "X_test_subset = pd.Series(np.concatenate((X_test_sub1, X_test_sub2), axis=None))\n",
        "Y_train_subset = np.concatenate((Y_train_sub1, Y_train_sub2), axis=None)\n",
        "Y_test_subset = np.concatenate((Y_test_sub1, Y_test_sub2), axis=None)"
      ],
      "metadata": {
        "id": "Ji-Ukv0LDZiH"
      },
      "execution_count": null,
      "outputs": []
    },
    {
      "cell_type": "code",
      "source": [
        "# Re-fit the best working model several times, each time reducing the number of characters per instance in the training set\n",
        "# (1) All characters\n",
        "# (2) 500 characters\n",
        "# (3) 100 characters\n",
        "\n",
        "# Define different character lengths\n",
        "# character_lengths = [len(instance) for instance in X_train_subset]\n",
        "character_lengths_to_test = [\"MAX\", 500, 100]\n",
        "\n",
        "for char_length in character_lengths_to_test:\n",
        "  # Create a version of training data with the specified character length\n",
        "  if char_length == \"MAX\":\n",
        "    X_train_temp = pd.Series([instance[:] for instance in X_train_subset])\n",
        "  else:\n",
        "    X_train_temp = pd.Series([instance[:char_length] for instance in X_train_subset])\n",
        "\n",
        "  Y_pred_subset = fit_transform_predict(X_train_temp, Y_train_subset, X_test_subset, Y_test_subset)\n",
        "  # Compute accuracy between Y_test and Y_pred\n",
        "  accuracy = accuracy_score(Y_test_subset, Y_pred_subset)\n",
        "  print(f'Accuracy for Char-{char_length}: {accuracy}')"
      ],
      "metadata": {
        "id": "4QLEvI-oyjWq",
        "colab": {
          "base_uri": "https://localhost:8080/"
        },
        "outputId": "e4a6b6fa-fe19-4c6b-cf21-d5269947f8b3"
      },
      "execution_count": null,
      "outputs": [
        {
          "output_type": "stream",
          "name": "stdout",
          "text": [
            "Accuracy for Char-MAX: 1.0\n",
            "Accuracy for Char-500: 1.0\n",
            "Accuracy for Char-100: 1.0\n"
          ]
        }
      ]
    },
    {
      "cell_type": "code",
      "source": [],
      "metadata": {
        "id": "B3haFHFjywvM"
      },
      "execution_count": null,
      "outputs": []
    }
  ],
  "metadata": {
    "kernelspec": {
      "display_name": "Python 3",
      "name": "python3"
    },
    "language_info": {
      "codemirror_mode": {
        "name": "ipython",
        "version": 3
      },
      "file_extension": ".py",
      "mimetype": "text/x-python",
      "name": "python",
      "nbconvert_exporter": "python",
      "pygments_lexer": "ipython3",
      "version": "3.7.11"
    },
    "orig_nbformat": 4,
    "colab": {
      "provenance": [],
      "gpuType": "T4"
    },
    "accelerator": "GPU"
  },
  "nbformat": 4,
  "nbformat_minor": 0
}