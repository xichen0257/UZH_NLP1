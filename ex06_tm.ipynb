{
  "nbformat": 4,
  "nbformat_minor": 0,
  "metadata": {
    "kernelspec": {
      "display_name": "Python 3",
      "name": "python3"
    },
    "language_info": {
      "codemirror_mode": {
        "name": "ipython",
        "version": 3
      },
      "file_extension": ".py",
      "mimetype": "text/x-python",
      "name": "python",
      "nbconvert_exporter": "python",
      "pygments_lexer": "ipython3",
      "version": "3.7.9"
    },
    "colab": {
      "provenance": [],
      "gpuType": "T4"
    },
    "accelerator": "GPU",
    "widgets": {
      "application/vnd.jupyter.widget-state+json": {
        "c924860c0d144af78cdab5ed2c4058f9": {
          "model_module": "@jupyter-widgets/controls",
          "model_name": "HBoxModel",
          "model_module_version": "1.5.0",
          "state": {
            "_dom_classes": [],
            "_model_module": "@jupyter-widgets/controls",
            "_model_module_version": "1.5.0",
            "_model_name": "HBoxModel",
            "_view_count": null,
            "_view_module": "@jupyter-widgets/controls",
            "_view_module_version": "1.5.0",
            "_view_name": "HBoxView",
            "box_style": "",
            "children": [
              "IPY_MODEL_9afb925d7cc64a8586129aa3d80caa02",
              "IPY_MODEL_3ca9c7a8de344d6baba63edbd549036c",
              "IPY_MODEL_9364f399be8d4411b9963a476f955e21"
            ],
            "layout": "IPY_MODEL_6301bafbed5346558a59e752a9961bbc"
          }
        },
        "9afb925d7cc64a8586129aa3d80caa02": {
          "model_module": "@jupyter-widgets/controls",
          "model_name": "HTMLModel",
          "model_module_version": "1.5.0",
          "state": {
            "_dom_classes": [],
            "_model_module": "@jupyter-widgets/controls",
            "_model_module_version": "1.5.0",
            "_model_name": "HTMLModel",
            "_view_count": null,
            "_view_module": "@jupyter-widgets/controls",
            "_view_module_version": "1.5.0",
            "_view_name": "HTMLView",
            "description": "",
            "description_tooltip": null,
            "layout": "IPY_MODEL_c68524031c874501a9bd4cb9718f54ed",
            "placeholder": "​",
            "style": "IPY_MODEL_6ae657ae68764eb8a98fda2ae27bfcc6",
            "value": "Batches: 100%"
          }
        },
        "3ca9c7a8de344d6baba63edbd549036c": {
          "model_module": "@jupyter-widgets/controls",
          "model_name": "FloatProgressModel",
          "model_module_version": "1.5.0",
          "state": {
            "_dom_classes": [],
            "_model_module": "@jupyter-widgets/controls",
            "_model_module_version": "1.5.0",
            "_model_name": "FloatProgressModel",
            "_view_count": null,
            "_view_module": "@jupyter-widgets/controls",
            "_view_module_version": "1.5.0",
            "_view_name": "ProgressView",
            "bar_style": "success",
            "description": "",
            "description_tooltip": null,
            "layout": "IPY_MODEL_93a87f097db14f14933a8a5dbcc65e4b",
            "max": 50,
            "min": 0,
            "orientation": "horizontal",
            "style": "IPY_MODEL_9f09c6dea9cf460a9657c2c4749f5ffa",
            "value": 50
          }
        },
        "9364f399be8d4411b9963a476f955e21": {
          "model_module": "@jupyter-widgets/controls",
          "model_name": "HTMLModel",
          "model_module_version": "1.5.0",
          "state": {
            "_dom_classes": [],
            "_model_module": "@jupyter-widgets/controls",
            "_model_module_version": "1.5.0",
            "_model_name": "HTMLModel",
            "_view_count": null,
            "_view_module": "@jupyter-widgets/controls",
            "_view_module_version": "1.5.0",
            "_view_name": "HTMLView",
            "description": "",
            "description_tooltip": null,
            "layout": "IPY_MODEL_92a71fb9526f4bedad80b8dd0403a14a",
            "placeholder": "​",
            "style": "IPY_MODEL_ff1f6e3a04494b298f125607d5aec1bb",
            "value": " 50/50 [00:12&lt;00:00,  7.98it/s]"
          }
        },
        "6301bafbed5346558a59e752a9961bbc": {
          "model_module": "@jupyter-widgets/base",
          "model_name": "LayoutModel",
          "model_module_version": "1.2.0",
          "state": {
            "_model_module": "@jupyter-widgets/base",
            "_model_module_version": "1.2.0",
            "_model_name": "LayoutModel",
            "_view_count": null,
            "_view_module": "@jupyter-widgets/base",
            "_view_module_version": "1.2.0",
            "_view_name": "LayoutView",
            "align_content": null,
            "align_items": null,
            "align_self": null,
            "border": null,
            "bottom": null,
            "display": null,
            "flex": null,
            "flex_flow": null,
            "grid_area": null,
            "grid_auto_columns": null,
            "grid_auto_flow": null,
            "grid_auto_rows": null,
            "grid_column": null,
            "grid_gap": null,
            "grid_row": null,
            "grid_template_areas": null,
            "grid_template_columns": null,
            "grid_template_rows": null,
            "height": null,
            "justify_content": null,
            "justify_items": null,
            "left": null,
            "margin": null,
            "max_height": null,
            "max_width": null,
            "min_height": null,
            "min_width": null,
            "object_fit": null,
            "object_position": null,
            "order": null,
            "overflow": null,
            "overflow_x": null,
            "overflow_y": null,
            "padding": null,
            "right": null,
            "top": null,
            "visibility": null,
            "width": null
          }
        },
        "c68524031c874501a9bd4cb9718f54ed": {
          "model_module": "@jupyter-widgets/base",
          "model_name": "LayoutModel",
          "model_module_version": "1.2.0",
          "state": {
            "_model_module": "@jupyter-widgets/base",
            "_model_module_version": "1.2.0",
            "_model_name": "LayoutModel",
            "_view_count": null,
            "_view_module": "@jupyter-widgets/base",
            "_view_module_version": "1.2.0",
            "_view_name": "LayoutView",
            "align_content": null,
            "align_items": null,
            "align_self": null,
            "border": null,
            "bottom": null,
            "display": null,
            "flex": null,
            "flex_flow": null,
            "grid_area": null,
            "grid_auto_columns": null,
            "grid_auto_flow": null,
            "grid_auto_rows": null,
            "grid_column": null,
            "grid_gap": null,
            "grid_row": null,
            "grid_template_areas": null,
            "grid_template_columns": null,
            "grid_template_rows": null,
            "height": null,
            "justify_content": null,
            "justify_items": null,
            "left": null,
            "margin": null,
            "max_height": null,
            "max_width": null,
            "min_height": null,
            "min_width": null,
            "object_fit": null,
            "object_position": null,
            "order": null,
            "overflow": null,
            "overflow_x": null,
            "overflow_y": null,
            "padding": null,
            "right": null,
            "top": null,
            "visibility": null,
            "width": null
          }
        },
        "6ae657ae68764eb8a98fda2ae27bfcc6": {
          "model_module": "@jupyter-widgets/controls",
          "model_name": "DescriptionStyleModel",
          "model_module_version": "1.5.0",
          "state": {
            "_model_module": "@jupyter-widgets/controls",
            "_model_module_version": "1.5.0",
            "_model_name": "DescriptionStyleModel",
            "_view_count": null,
            "_view_module": "@jupyter-widgets/base",
            "_view_module_version": "1.2.0",
            "_view_name": "StyleView",
            "description_width": ""
          }
        },
        "93a87f097db14f14933a8a5dbcc65e4b": {
          "model_module": "@jupyter-widgets/base",
          "model_name": "LayoutModel",
          "model_module_version": "1.2.0",
          "state": {
            "_model_module": "@jupyter-widgets/base",
            "_model_module_version": "1.2.0",
            "_model_name": "LayoutModel",
            "_view_count": null,
            "_view_module": "@jupyter-widgets/base",
            "_view_module_version": "1.2.0",
            "_view_name": "LayoutView",
            "align_content": null,
            "align_items": null,
            "align_self": null,
            "border": null,
            "bottom": null,
            "display": null,
            "flex": null,
            "flex_flow": null,
            "grid_area": null,
            "grid_auto_columns": null,
            "grid_auto_flow": null,
            "grid_auto_rows": null,
            "grid_column": null,
            "grid_gap": null,
            "grid_row": null,
            "grid_template_areas": null,
            "grid_template_columns": null,
            "grid_template_rows": null,
            "height": null,
            "justify_content": null,
            "justify_items": null,
            "left": null,
            "margin": null,
            "max_height": null,
            "max_width": null,
            "min_height": null,
            "min_width": null,
            "object_fit": null,
            "object_position": null,
            "order": null,
            "overflow": null,
            "overflow_x": null,
            "overflow_y": null,
            "padding": null,
            "right": null,
            "top": null,
            "visibility": null,
            "width": null
          }
        },
        "9f09c6dea9cf460a9657c2c4749f5ffa": {
          "model_module": "@jupyter-widgets/controls",
          "model_name": "ProgressStyleModel",
          "model_module_version": "1.5.0",
          "state": {
            "_model_module": "@jupyter-widgets/controls",
            "_model_module_version": "1.5.0",
            "_model_name": "ProgressStyleModel",
            "_view_count": null,
            "_view_module": "@jupyter-widgets/base",
            "_view_module_version": "1.2.0",
            "_view_name": "StyleView",
            "bar_color": null,
            "description_width": ""
          }
        },
        "92a71fb9526f4bedad80b8dd0403a14a": {
          "model_module": "@jupyter-widgets/base",
          "model_name": "LayoutModel",
          "model_module_version": "1.2.0",
          "state": {
            "_model_module": "@jupyter-widgets/base",
            "_model_module_version": "1.2.0",
            "_model_name": "LayoutModel",
            "_view_count": null,
            "_view_module": "@jupyter-widgets/base",
            "_view_module_version": "1.2.0",
            "_view_name": "LayoutView",
            "align_content": null,
            "align_items": null,
            "align_self": null,
            "border": null,
            "bottom": null,
            "display": null,
            "flex": null,
            "flex_flow": null,
            "grid_area": null,
            "grid_auto_columns": null,
            "grid_auto_flow": null,
            "grid_auto_rows": null,
            "grid_column": null,
            "grid_gap": null,
            "grid_row": null,
            "grid_template_areas": null,
            "grid_template_columns": null,
            "grid_template_rows": null,
            "height": null,
            "justify_content": null,
            "justify_items": null,
            "left": null,
            "margin": null,
            "max_height": null,
            "max_width": null,
            "min_height": null,
            "min_width": null,
            "object_fit": null,
            "object_position": null,
            "order": null,
            "overflow": null,
            "overflow_x": null,
            "overflow_y": null,
            "padding": null,
            "right": null,
            "top": null,
            "visibility": null,
            "width": null
          }
        },
        "ff1f6e3a04494b298f125607d5aec1bb": {
          "model_module": "@jupyter-widgets/controls",
          "model_name": "DescriptionStyleModel",
          "model_module_version": "1.5.0",
          "state": {
            "_model_module": "@jupyter-widgets/controls",
            "_model_module_version": "1.5.0",
            "_model_name": "DescriptionStyleModel",
            "_view_count": null,
            "_view_module": "@jupyter-widgets/base",
            "_view_module_version": "1.2.0",
            "_view_name": "StyleView",
            "description_width": ""
          }
        },
        "268e38aa81a94c0facaf5363176057ac": {
          "model_module": "@jupyter-widgets/controls",
          "model_name": "HBoxModel",
          "model_module_version": "1.5.0",
          "state": {
            "_dom_classes": [],
            "_model_module": "@jupyter-widgets/controls",
            "_model_module_version": "1.5.0",
            "_model_name": "HBoxModel",
            "_view_count": null,
            "_view_module": "@jupyter-widgets/controls",
            "_view_module_version": "1.5.0",
            "_view_name": "HBoxView",
            "box_style": "",
            "children": [
              "IPY_MODEL_b95af8dcf70c439c9c09abf4605bd9b5",
              "IPY_MODEL_7685123cebe34f95893e9be553d68fbe",
              "IPY_MODEL_05e8609b3e4648b7badb9f7b3da490f6"
            ],
            "layout": "IPY_MODEL_b04c1ae2ea05408aa2b5b49feb807ad1"
          }
        },
        "b95af8dcf70c439c9c09abf4605bd9b5": {
          "model_module": "@jupyter-widgets/controls",
          "model_name": "HTMLModel",
          "model_module_version": "1.5.0",
          "state": {
            "_dom_classes": [],
            "_model_module": "@jupyter-widgets/controls",
            "_model_module_version": "1.5.0",
            "_model_name": "HTMLModel",
            "_view_count": null,
            "_view_module": "@jupyter-widgets/controls",
            "_view_module_version": "1.5.0",
            "_view_name": "HTMLView",
            "description": "",
            "description_tooltip": null,
            "layout": "IPY_MODEL_cbaac59e4e15499fa91ad541bc5f00d4",
            "placeholder": "​",
            "style": "IPY_MODEL_330bfa1bcaa84caaad109fcd4e809c14",
            "value": "Batches: 100%"
          }
        },
        "7685123cebe34f95893e9be553d68fbe": {
          "model_module": "@jupyter-widgets/controls",
          "model_name": "FloatProgressModel",
          "model_module_version": "1.5.0",
          "state": {
            "_dom_classes": [],
            "_model_module": "@jupyter-widgets/controls",
            "_model_module_version": "1.5.0",
            "_model_name": "FloatProgressModel",
            "_view_count": null,
            "_view_module": "@jupyter-widgets/controls",
            "_view_module_version": "1.5.0",
            "_view_name": "ProgressView",
            "bar_style": "success",
            "description": "",
            "description_tooltip": null,
            "layout": "IPY_MODEL_4d50716fb22447e095ac46638e9e7f1e",
            "max": 50,
            "min": 0,
            "orientation": "horizontal",
            "style": "IPY_MODEL_3be182a915d240e297eeae0c61207784",
            "value": 50
          }
        },
        "05e8609b3e4648b7badb9f7b3da490f6": {
          "model_module": "@jupyter-widgets/controls",
          "model_name": "HTMLModel",
          "model_module_version": "1.5.0",
          "state": {
            "_dom_classes": [],
            "_model_module": "@jupyter-widgets/controls",
            "_model_module_version": "1.5.0",
            "_model_name": "HTMLModel",
            "_view_count": null,
            "_view_module": "@jupyter-widgets/controls",
            "_view_module_version": "1.5.0",
            "_view_name": "HTMLView",
            "description": "",
            "description_tooltip": null,
            "layout": "IPY_MODEL_35b135ab36a341f6aef0113122d8d9c8",
            "placeholder": "​",
            "style": "IPY_MODEL_868ffc2affaa45bb907f3c20d6a41b37",
            "value": " 50/50 [00:10&lt;00:00,  8.50it/s]"
          }
        },
        "b04c1ae2ea05408aa2b5b49feb807ad1": {
          "model_module": "@jupyter-widgets/base",
          "model_name": "LayoutModel",
          "model_module_version": "1.2.0",
          "state": {
            "_model_module": "@jupyter-widgets/base",
            "_model_module_version": "1.2.0",
            "_model_name": "LayoutModel",
            "_view_count": null,
            "_view_module": "@jupyter-widgets/base",
            "_view_module_version": "1.2.0",
            "_view_name": "LayoutView",
            "align_content": null,
            "align_items": null,
            "align_self": null,
            "border": null,
            "bottom": null,
            "display": null,
            "flex": null,
            "flex_flow": null,
            "grid_area": null,
            "grid_auto_columns": null,
            "grid_auto_flow": null,
            "grid_auto_rows": null,
            "grid_column": null,
            "grid_gap": null,
            "grid_row": null,
            "grid_template_areas": null,
            "grid_template_columns": null,
            "grid_template_rows": null,
            "height": null,
            "justify_content": null,
            "justify_items": null,
            "left": null,
            "margin": null,
            "max_height": null,
            "max_width": null,
            "min_height": null,
            "min_width": null,
            "object_fit": null,
            "object_position": null,
            "order": null,
            "overflow": null,
            "overflow_x": null,
            "overflow_y": null,
            "padding": null,
            "right": null,
            "top": null,
            "visibility": null,
            "width": null
          }
        },
        "cbaac59e4e15499fa91ad541bc5f00d4": {
          "model_module": "@jupyter-widgets/base",
          "model_name": "LayoutModel",
          "model_module_version": "1.2.0",
          "state": {
            "_model_module": "@jupyter-widgets/base",
            "_model_module_version": "1.2.0",
            "_model_name": "LayoutModel",
            "_view_count": null,
            "_view_module": "@jupyter-widgets/base",
            "_view_module_version": "1.2.0",
            "_view_name": "LayoutView",
            "align_content": null,
            "align_items": null,
            "align_self": null,
            "border": null,
            "bottom": null,
            "display": null,
            "flex": null,
            "flex_flow": null,
            "grid_area": null,
            "grid_auto_columns": null,
            "grid_auto_flow": null,
            "grid_auto_rows": null,
            "grid_column": null,
            "grid_gap": null,
            "grid_row": null,
            "grid_template_areas": null,
            "grid_template_columns": null,
            "grid_template_rows": null,
            "height": null,
            "justify_content": null,
            "justify_items": null,
            "left": null,
            "margin": null,
            "max_height": null,
            "max_width": null,
            "min_height": null,
            "min_width": null,
            "object_fit": null,
            "object_position": null,
            "order": null,
            "overflow": null,
            "overflow_x": null,
            "overflow_y": null,
            "padding": null,
            "right": null,
            "top": null,
            "visibility": null,
            "width": null
          }
        },
        "330bfa1bcaa84caaad109fcd4e809c14": {
          "model_module": "@jupyter-widgets/controls",
          "model_name": "DescriptionStyleModel",
          "model_module_version": "1.5.0",
          "state": {
            "_model_module": "@jupyter-widgets/controls",
            "_model_module_version": "1.5.0",
            "_model_name": "DescriptionStyleModel",
            "_view_count": null,
            "_view_module": "@jupyter-widgets/base",
            "_view_module_version": "1.2.0",
            "_view_name": "StyleView",
            "description_width": ""
          }
        },
        "4d50716fb22447e095ac46638e9e7f1e": {
          "model_module": "@jupyter-widgets/base",
          "model_name": "LayoutModel",
          "model_module_version": "1.2.0",
          "state": {
            "_model_module": "@jupyter-widgets/base",
            "_model_module_version": "1.2.0",
            "_model_name": "LayoutModel",
            "_view_count": null,
            "_view_module": "@jupyter-widgets/base",
            "_view_module_version": "1.2.0",
            "_view_name": "LayoutView",
            "align_content": null,
            "align_items": null,
            "align_self": null,
            "border": null,
            "bottom": null,
            "display": null,
            "flex": null,
            "flex_flow": null,
            "grid_area": null,
            "grid_auto_columns": null,
            "grid_auto_flow": null,
            "grid_auto_rows": null,
            "grid_column": null,
            "grid_gap": null,
            "grid_row": null,
            "grid_template_areas": null,
            "grid_template_columns": null,
            "grid_template_rows": null,
            "height": null,
            "justify_content": null,
            "justify_items": null,
            "left": null,
            "margin": null,
            "max_height": null,
            "max_width": null,
            "min_height": null,
            "min_width": null,
            "object_fit": null,
            "object_position": null,
            "order": null,
            "overflow": null,
            "overflow_x": null,
            "overflow_y": null,
            "padding": null,
            "right": null,
            "top": null,
            "visibility": null,
            "width": null
          }
        },
        "3be182a915d240e297eeae0c61207784": {
          "model_module": "@jupyter-widgets/controls",
          "model_name": "ProgressStyleModel",
          "model_module_version": "1.5.0",
          "state": {
            "_model_module": "@jupyter-widgets/controls",
            "_model_module_version": "1.5.0",
            "_model_name": "ProgressStyleModel",
            "_view_count": null,
            "_view_module": "@jupyter-widgets/base",
            "_view_module_version": "1.2.0",
            "_view_name": "StyleView",
            "bar_color": null,
            "description_width": ""
          }
        },
        "35b135ab36a341f6aef0113122d8d9c8": {
          "model_module": "@jupyter-widgets/base",
          "model_name": "LayoutModel",
          "model_module_version": "1.2.0",
          "state": {
            "_model_module": "@jupyter-widgets/base",
            "_model_module_version": "1.2.0",
            "_model_name": "LayoutModel",
            "_view_count": null,
            "_view_module": "@jupyter-widgets/base",
            "_view_module_version": "1.2.0",
            "_view_name": "LayoutView",
            "align_content": null,
            "align_items": null,
            "align_self": null,
            "border": null,
            "bottom": null,
            "display": null,
            "flex": null,
            "flex_flow": null,
            "grid_area": null,
            "grid_auto_columns": null,
            "grid_auto_flow": null,
            "grid_auto_rows": null,
            "grid_column": null,
            "grid_gap": null,
            "grid_row": null,
            "grid_template_areas": null,
            "grid_template_columns": null,
            "grid_template_rows": null,
            "height": null,
            "justify_content": null,
            "justify_items": null,
            "left": null,
            "margin": null,
            "max_height": null,
            "max_width": null,
            "min_height": null,
            "min_width": null,
            "object_fit": null,
            "object_position": null,
            "order": null,
            "overflow": null,
            "overflow_x": null,
            "overflow_y": null,
            "padding": null,
            "right": null,
            "top": null,
            "visibility": null,
            "width": null
          }
        },
        "868ffc2affaa45bb907f3c20d6a41b37": {
          "model_module": "@jupyter-widgets/controls",
          "model_name": "DescriptionStyleModel",
          "model_module_version": "1.5.0",
          "state": {
            "_model_module": "@jupyter-widgets/controls",
            "_model_module_version": "1.5.0",
            "_model_name": "DescriptionStyleModel",
            "_view_count": null,
            "_view_module": "@jupyter-widgets/base",
            "_view_module_version": "1.2.0",
            "_view_name": "StyleView",
            "description_width": ""
          }
        }
      }
    }
  },
  "cells": [
    {
      "cell_type": "code",
      "metadata": {
        "id": "hENmFU8FmZbl"
      },
      "source": [
        "!pip install contextualized-topic-models==2.2.0"
      ],
      "execution_count": null,
      "outputs": []
    },
    {
      "cell_type": "markdown",
      "metadata": {
        "id": "jAwbguDJlC1m"
      },
      "source": [
        "## Import General Utility Libraries"
      ]
    },
    {
      "cell_type": "code",
      "metadata": {
        "id": "Ci16zWWnlC1n"
      },
      "source": [
        "import re\n",
        "import urllib\n",
        "import gzip\n",
        "import io\n",
        "import csv\n",
        "import random\n",
        "from collections import defaultdict\n",
        "from tqdm import tqdm"
      ],
      "execution_count": null,
      "outputs": []
    },
    {
      "cell_type": "markdown",
      "metadata": {
        "id": "SacDQZfHWb7t"
      },
      "source": [
        "Where to store the data file. If you want, you can adjust the path."
      ]
    },
    {
      "cell_type": "code",
      "metadata": {
        "id": "Y_mkS_zeWbYW"
      },
      "source": [
        "path_before_1990 = '/content/drive/My Drive/titles_before_1990.txt'\n",
        "path_from_1990_to_2009 = '/content/drive/My Drive/titles_from_1990_to_2009.txt'\n",
        "path_from_2010 = '/content/drive/My Drive/titles_from_2010.txt'"
      ],
      "execution_count": null,
      "outputs": []
    },
    {
      "cell_type": "markdown",
      "metadata": {
        "id": "VohMkrs8AWau"
      },
      "source": [
        "Execute the following cell only once to download the data and write it as a file to your google drive. Afterwards, skip this cell or comment it out."
      ]
    },
    {
      "cell_type": "code",
      "metadata": {
        "id": "TUVy4jyGlVH3",
        "colab": {
          "base_uri": "https://localhost:8080/"
        },
        "outputId": "d68f34d8-6487-4584-c030-4d8ee618333a"
      },
      "source": [
        "from google.colab import drive\n",
        "drive.mount('/content/drive')\n",
        "\n",
        "# to download the data manually or get more information, go to: https://dblp.org/faq/How+can+I+download+the+whole+dblp+dataset.html\n",
        "url = 'https://dblp.uni-trier.de/xml/dblp.xml.gz'\n",
        "# num_titles = 500000  # the (max)number of titles to load\n",
        "\n",
        "\n",
        "def load_gzip_file(url):\n",
        "    \"\"\"Download Gzip-file.\"\"\"\n",
        "    response = urllib.request.urlopen(url)\n",
        "    compressed_file = io.BytesIO(response.read())\n",
        "    decompressed_file = gzip.GzipFile(fileobj=compressed_file)\n",
        "    return decompressed_file\n",
        "\n",
        "def extract_titles(input_file, max_num=40000):\n",
        "    \"\"\"Extract title and publication year of dblp papers, given as input file.\n",
        "\n",
        "    Divide the papers into 3 time periods.\n",
        "\n",
        "    Collect max max_num papers per time period.\n",
        "    \"\"\"\n",
        "    pairs_before_1990 = []\n",
        "    count_before_1990 = 0\n",
        "    pairs_from_1990_to_2009 = []\n",
        "    count_from_1990_to_2009 = 0\n",
        "    pairs_from_2010 = []\n",
        "    count_from_2010 = 0\n",
        "    got_title = False\n",
        "    for line in tqdm(input_file):\n",
        "        line_str = line.decode('utf-8')\n",
        "        if got_title:\n",
        "            # we have a title and check for the corresponding year\n",
        "            year_result = re.search(r'<year>(.*)</year>', line_str)\n",
        "            if year_result:\n",
        "                # we also have the year and thus save the title-year pair\n",
        "                year = int(year_result.group(1))\n",
        "                if year < 1990:\n",
        "                    pairs_before_1990.append((title, year))\n",
        "                    count_before_1990 += 1\n",
        "                elif year < 2010:\n",
        "                    pairs_from_1990_to_2009.append((title, year))\n",
        "                    count_from_1990_to_2009 += 1\n",
        "                else:\n",
        "                    pairs_from_2010.append((title, year))\n",
        "                    count_from_2010 += 1\n",
        "                got_title = False\n",
        "        else:\n",
        "            # we have no title and search for title\n",
        "            result = re.search(r'<title>(.*)</title>', line_str)\n",
        "            if result:\n",
        "                title = result.group(1)\n",
        "                if len(title.split(' ')) < 3:\n",
        "                    # only include titles with at least four words\n",
        "                    continue\n",
        "                got_title = True\n",
        "\n",
        "        if count_before_1990 >= max_num and count_from_1990_to_2009 >= max_num and count_from_2010 >= max_num:\n",
        "            return pairs_before_1990, pairs_from_1990_to_2009, pairs_from_2010\n",
        "\n",
        "    return pairs_before_1990, pairs_from_1990_to_2009, pairs_from_2010\n",
        "\n",
        "def save_data(pairs, file_path):\n",
        "    with open(file_path, 'w') as fout:\n",
        "        writer = csv.writer(fout)\n",
        "        for pair in pairs:\n",
        "            writer.writerow(pair)\n",
        "\n",
        "in_file = load_gzip_file(url)\n",
        "pairs_before_1990, pairs_from_1990_to_2009, pairs_from_2010 = extract_titles(in_file)\n",
        "save_data(pairs_before_1990, path_before_1990)\n",
        "save_data(pairs_from_1990_to_2009, path_from_1990_to_2009)\n",
        "save_data(pairs_from_2010, path_from_2010)"
      ],
      "execution_count": null,
      "outputs": [
        {
          "output_type": "stream",
          "name": "stdout",
          "text": [
            "Drive already mounted at /content/drive; to attempt to forcibly remount, call drive.mount(\"/content/drive\", force_remount=True).\n"
          ]
        },
        {
          "output_type": "stream",
          "name": "stderr",
          "text": [
            "16410690it [00:38, 424474.45it/s]\n"
          ]
        }
      ]
    },
    {
      "cell_type": "markdown",
      "metadata": {
        "id": "OYm5UB9bVJXw"
      },
      "source": [
        "Mount your google drive (in case it is not yet mounted) so that the newly created files are available."
      ]
    },
    {
      "cell_type": "code",
      "metadata": {
        "colab": {
          "base_uri": "https://localhost:8080/"
        },
        "id": "ECGA0pbRlqZi",
        "outputId": "ab3cc13c-37d0-4a05-ee8f-4774e3141c6b"
      },
      "source": [
        "from google.colab import drive\n",
        "drive.mount('/content/drive')"
      ],
      "execution_count": null,
      "outputs": [
        {
          "output_type": "stream",
          "name": "stdout",
          "text": [
            "Drive already mounted at /content/drive; to attempt to forcibly remount, call drive.mount(\"/content/drive\", force_remount=True).\n"
          ]
        }
      ]
    },
    {
      "cell_type": "markdown",
      "metadata": {
        "id": "rDhEoD2Tsh3z"
      },
      "source": [
        "# LDA"
      ]
    },
    {
      "cell_type": "code",
      "metadata": {
        "id": "VJ86sQwo124U"
      },
      "source": [
        "from sklearn.decomposition import LatentDirichletAllocation\n",
        "from sklearn.feature_extraction.text import TfidfVectorizer, CountVectorizer\n",
        "\n",
        "num_lda_topics = 5"
      ],
      "execution_count": null,
      "outputs": []
    },
    {
      "cell_type": "markdown",
      "metadata": {
        "id": "lc09sFDe-5kn"
      },
      "source": [
        "### Before the 1990s:"
      ]
    },
    {
      "cell_type": "code",
      "metadata": {
        "id": "-Rwq6kF7vqUj"
      },
      "source": [
        "with open(path_before_1990) as fin:\n",
        "    reader = csv.reader(fin)\n",
        "    titles = [row[0] for row in reader][:10000]"
      ],
      "execution_count": null,
      "outputs": []
    },
    {
      "cell_type": "markdown",
      "metadata": {
        "id": "FmKJDHwI2Dnp"
      },
      "source": [
        "Let's perform some simple preprocessing:"
      ]
    },
    {
      "cell_type": "code",
      "source": [
        "import nltk\n",
        "from nltk.corpus import stopwords\n",
        "from nltk.tokenize import word_tokenize"
      ],
      "metadata": {
        "id": "q3MtyrkExgs4"
      },
      "execution_count": null,
      "outputs": []
    },
    {
      "cell_type": "code",
      "source": [
        "nltk.download('stopwords')\n",
        "nltk.download('punkt')\n",
        "stopwords_eng = set(stopwords.words('english'))\n",
        "stopwords_de = set(stopwords.words('german'))"
      ],
      "metadata": {
        "id": "z6cjAeMjxjos"
      },
      "execution_count": null,
      "outputs": []
    },
    {
      "cell_type": "code",
      "metadata": {
        "id": "1vmu77l62DCp"
      },
      "source": [
        "def preprocess_text(text):\n",
        "    text = re.sub(r'[^a-zA-Z ]', '', text)\n",
        "    text = text.lower()\n",
        "    word_tokens = word_tokenize(text)\n",
        "    filtered_sentence = []\n",
        "    for w in word_tokens:\n",
        "      if (w not in stopwords_eng) and (w not in stopwords_de):\n",
        "        filtered_sentence.append(w)\n",
        "    output = \" \".join(filtered_sentence)\n",
        "    return output\n",
        "\n",
        "prepro_titles = [preprocess_text(title) for title in titles]"
      ],
      "execution_count": null,
      "outputs": []
    },
    {
      "cell_type": "code",
      "metadata": {
        "colab": {
          "base_uri": "https://localhost:8080/"
        },
        "id": "1mulG5Sg2NBZ",
        "outputId": "f3664655-eb0a-420e-ddfb-5d20c5dd8dae"
      },
      "source": [
        "prepro_titles[:10]"
      ],
      "execution_count": null,
      "outputs": [
        {
          "output_type": "execute_result",
          "data": {
            "text/plain": [
              "['object model capabilities distributed object management',\n",
              " 'distributed object management technology',\n",
              " 'muffin distributed database machine',\n",
              " 'algebraical optimization ftaexpressions',\n",
              " 'wissensrepraumlsentation maschinelles lernen',\n",
              " 'algebraic characterization stuf',\n",
              " 'systemarchitektur lilog',\n",
              " 'mengenorientierte auswertung anfragen logikprogrammiersprache prolog',\n",
              " 'definite resolution constraint languages',\n",
              " 'dokumentation syntax liloggrammatik']"
            ]
          },
          "metadata": {},
          "execution_count": 32
        }
      ]
    },
    {
      "cell_type": "markdown",
      "metadata": {
        "id": "GGEy1_fR3CpQ"
      },
      "source": [
        "Now we turn the documents (or titles in this case) into a matrix feature representation."
      ]
    },
    {
      "cell_type": "code",
      "metadata": {
        "id": "nhgxgCM_01mx"
      },
      "source": [
        "num_features = 10000\n",
        "tf_vectorizer = CountVectorizer(max_df=0.95, min_df=2, max_features=num_features, stop_words='english')\n",
        "tf = tf_vectorizer.fit_transform(prepro_titles)\n",
        "tf_feature_names = tf_vectorizer.get_feature_names_out()"
      ],
      "execution_count": null,
      "outputs": []
    },
    {
      "cell_type": "code",
      "metadata": {
        "id": "_927CQlk4C27"
      },
      "source": [
        "lda = LatentDirichletAllocation(n_components=num_lda_topics, max_iter=5, learning_method='online', random_state=42).fit(tf)"
      ],
      "execution_count": null,
      "outputs": []
    },
    {
      "cell_type": "code",
      "metadata": {
        "colab": {
          "base_uri": "https://localhost:8080/"
        },
        "id": "5-8NinuI4kMG",
        "outputId": "b0d95ee7-7e32-4973-b3b6-e9786b43f3cb"
      },
      "source": [
        "for topic_idx, topic in enumerate(lda.components_):\n",
        "    print(f'Topic {topic_idx}:', end=' ')\n",
        "    print(' '.join([tf_feature_names[i] for i in topic.argsort()[:-12 - 1:-1]]))"
      ],
      "execution_count": null,
      "outputs": [
        {
          "output_type": "stream",
          "name": "stdout",
          "text": [
            "Topic 0: systems linear languages method theorem general decision automata architecture theories simple support\n",
            "Topic 1: algorithm complexity software problems equations finite solution problem time fortran number search\n",
            "Topic 2: note design sets problem implementation optimal finding optimization remark algebraic retrieval trees\n",
            "Topic 3: data systems theory programming parallel computer model analysis algorithms using control language\n",
            "Topic 4: information logic programs functions set efficient grammars new structures discrete matrix programming\n"
          ]
        }
      ]
    },
    {
      "cell_type": "markdown",
      "metadata": {
        "id": "mbx0DythfCkP"
      },
      "source": [
        "Topics:\n",
        "0. Memory-Optimized Parallel Models\n",
        "1. ...\n",
        "2. ..."
      ]
    },
    {
      "cell_type": "markdown",
      "metadata": {
        "id": "iqioi0rG_Dz9"
      },
      "source": [
        "### From 1990 to 2009:\n",
        "\n",
        "Add your code for topic modelling the period from 1990 to 2009 here..."
      ]
    },
    {
      "cell_type": "code",
      "source": [
        "with open(path_from_1990_to_2009) as fin:\n",
        "    reader = csv.reader(fin)\n",
        "    titles = [row[0] for row in reader][:10000]"
      ],
      "metadata": {
        "id": "KM7QmX7fXtrV"
      },
      "execution_count": null,
      "outputs": []
    },
    {
      "cell_type": "code",
      "source": [
        "prepro_titles = [preprocess_text(title) for title in titles]"
      ],
      "metadata": {
        "id": "paHcPmleYDPA"
      },
      "execution_count": null,
      "outputs": []
    },
    {
      "cell_type": "code",
      "source": [
        "num_features = 10000\n",
        "tf_vectorizer = CountVectorizer(max_df=0.95, min_df=2, max_features=num_features, stop_words='english')\n",
        "tf = tf_vectorizer.fit_transform(prepro_titles)\n",
        "tf_feature_names = tf_vectorizer.get_feature_names_out()"
      ],
      "metadata": {
        "id": "hswBw2kMYIHM"
      },
      "execution_count": null,
      "outputs": []
    },
    {
      "cell_type": "code",
      "source": [
        "lda = LatentDirichletAllocation(n_components=num_lda_topics, max_iter=5, learning_method='online', random_state=42).fit(tf)"
      ],
      "metadata": {
        "id": "x0_Hp-klYM4S"
      },
      "execution_count": null,
      "outputs": []
    },
    {
      "cell_type": "code",
      "source": [
        "for topic_idx, topic in enumerate(lda.components_):\n",
        "    print(f'Topic {topic_idx}:', end=' ')\n",
        "    print(' '.join([tf_feature_names[i] for i in topic.argsort()[:-12 - 1:-1]]))"
      ],
      "metadata": {
        "colab": {
          "base_uri": "https://localhost:8080/"
        },
        "id": "GvNKVKGnYOtx",
        "outputId": "f313cc0a-6d03-4802-8626-25102067097b"
      },
      "execution_count": null,
      "outputs": [
        {
          "output_type": "stream",
          "name": "stdout",
          "text": [
            "Topic 0: design theory nonlinear optimal algorithms problems optimization equilibrium chemical application method continuous\n",
            "Topic 1: networks using modeling dynamic scheduling approach query batch algorithm distributed engineering search\n",
            "Topic 2: data control model optimization methods multimedia video applications uncertainty selection databases global\n",
            "Topic 3: systems information analysis web network based games problem spatial security wireless knowledge\n",
            "Topic 4: process models mining processes management framework processing dynamics computing image recognition linear\n"
          ]
        }
      ]
    },
    {
      "cell_type": "markdown",
      "source": [
        "Topics:\n",
        "0. Memory-Optimized Parallel Models\n",
        "1. ...\n",
        "2. ..."
      ],
      "metadata": {
        "id": "VHedWu-Scqet"
      }
    },
    {
      "cell_type": "markdown",
      "metadata": {
        "id": "ip_z250Z_Mnz"
      },
      "source": [
        "### From 2010 onwards:\n",
        "\n",
        "Add your code for topic modelling the period from 2010 onwards here..."
      ]
    },
    {
      "cell_type": "code",
      "source": [
        "with open(path_from_2010) as fin:\n",
        "    reader = csv.reader(fin)\n",
        "    titles = [row[0] for row in reader][:10000]"
      ],
      "metadata": {
        "id": "u88JEKdzYcQC"
      },
      "execution_count": null,
      "outputs": []
    },
    {
      "cell_type": "code",
      "source": [
        "prepro_titles = [preprocess_text(title) for title in titles]"
      ],
      "metadata": {
        "id": "lAU8mJNzYgx4"
      },
      "execution_count": null,
      "outputs": []
    },
    {
      "cell_type": "code",
      "source": [
        "num_features = 10000\n",
        "tf_vectorizer = CountVectorizer(max_df=0.95, min_df=2, max_features=num_features, stop_words='english')\n",
        "tf = tf_vectorizer.fit_transform(prepro_titles)\n",
        "tf_feature_names = tf_vectorizer.get_feature_names_out()"
      ],
      "metadata": {
        "id": "eIMqYS34Yhsc"
      },
      "execution_count": null,
      "outputs": []
    },
    {
      "cell_type": "code",
      "source": [
        "lda = LatentDirichletAllocation(n_components=num_lda_topics, max_iter=5, learning_method='online', random_state=42).fit(tf)"
      ],
      "metadata": {
        "id": "Jfd7Rjo6Yi9E"
      },
      "execution_count": null,
      "outputs": []
    },
    {
      "cell_type": "code",
      "source": [
        "for topic_idx, topic in enumerate(lda.components_):\n",
        "    print(f'Topic {topic_idx}:', end=' ')\n",
        "    print(' '.join([tf_feature_names[i] for i in topic.argsort()[:-12 - 1:-1]]))"
      ],
      "metadata": {
        "colab": {
          "base_uri": "https://localhost:8080/"
        },
        "id": "_PtTg0QkYj16",
        "outputId": "d976e95c-7131-43fe-fe8c-e6425348cc5c"
      },
      "execution_count": null,
      "outputs": [
        {
          "output_type": "stream",
          "name": "stdout",
          "text": [
            "Topic 0: analysis management information models human dynamic risk framework public parallel language perspective\n",
            "Topic 1: systems data engineering mining algorithms using web privacy technologies recommender development issues\n",
            "Topic 2: networks control design model online processing models databases overview query students integrity\n",
            "Topic 3: social research ethical network technology spatial education case methods applications detection scientific\n",
            "Topic 4: data ethics learning science knowledge theory distributed search big approach retrieval statistical\n"
          ]
        }
      ]
    },
    {
      "cell_type": "markdown",
      "source": [
        "Topics:\n",
        "0. Memory-Optimized Parallel Models\n",
        "1. ...\n",
        "2. ..."
      ],
      "metadata": {
        "id": "kklg1ayj7q6k"
      }
    },
    {
      "cell_type": "markdown",
      "metadata": {
        "id": "pStFBikpsRTz"
      },
      "source": [
        "# Combined Topic Models\n",
        "\n",
        "Method developed by [Bianchi et al. 2021](https://aclanthology.org/2021.acl-short.96/).\n",
        "\n",
        "[A 6min presentation of the paper by one of the authors.](https://underline.io/lecture/25716-pre-training-is-a-hot-topic-contextualized-document-embeddings-improve-topic-coherence)\n",
        "\n",
        "Code: [https://github.com/MilaNLProc/contextualized-topic-models](https://github.com/MilaNLProc/contextualized-topic-models)\n",
        "\n",
        "Tutorial: [https://colab.research.google.com/drive/1fXJjr_rwqvpp1IdNQ4dxqN4Dp88cxO97?usp=sharing](https://colab.research.google.com/drive/1fXJjr_rwqvpp1IdNQ4dxqN4Dp88cxO97?usp=sharing)\n",
        "\n",
        "Again, perform topic modelling for the three time periods - this time using the combined topic models (CTMs).\n",
        "\n",
        "You can use and adapt the code from the tutorial linked above.\n",
        "\n",
        "Use the available GPU for faster running times."
      ]
    },
    {
      "cell_type": "code",
      "source": [
        "!pip install contextualized-topic-models==2.5.0"
      ],
      "metadata": {
        "id": "09EY5x22EmqJ"
      },
      "execution_count": null,
      "outputs": []
    },
    {
      "cell_type": "code",
      "metadata": {
        "id": "aNsJrV2DJ8GO"
      },
      "source": [
        "from contextualized_topic_models.models.ctm import CombinedTM\n",
        "from contextualized_topic_models.utils.data_preparation import TopicModelDataPreparation\n",
        "from contextualized_topic_models.utils.preprocessing import WhiteSpacePreprocessing\n",
        "\n",
        "num_ctm_topics = 5  # you can also choose a higher number of topics"
      ],
      "execution_count": null,
      "outputs": []
    },
    {
      "cell_type": "markdown",
      "metadata": {
        "id": "wSv9Ch46LFxp"
      },
      "source": [
        "### Before the 1990s:"
      ]
    },
    {
      "cell_type": "code",
      "source": [
        "with open(path_before_1990) as fin:\n",
        "    reader = csv.reader(fin)\n",
        "    documents = [row[0] for row in reader][:10000]"
      ],
      "metadata": {
        "id": "FRdc8vC6MMMs"
      },
      "execution_count": null,
      "outputs": []
    },
    {
      "cell_type": "code",
      "source": [
        "sp = WhiteSpacePreprocessing(documents, \"english\")\n",
        "preprocessed_documents, unpreprocessed_corpus, vocab, retained_indices = sp.preprocess()"
      ],
      "metadata": {
        "id": "DIEV0vyL4_LV"
      },
      "execution_count": null,
      "outputs": []
    },
    {
      "cell_type": "code",
      "source": [
        "qt = TopicModelDataPreparation(\"all-mpnet-base-v2\")\n",
        "training_dataset = qt.fit(text_for_contextual=unpreprocessed_corpus, text_for_bow=preprocessed_documents)\n",
        "ctm = CombinedTM(bow_size=len(qt.vocab), contextual_size=768, n_components=num_ctm_topics) # n_components = topics\n",
        "ctm.fit(training_dataset) # run the model"
      ],
      "metadata": {
        "id": "3ShYKEXC3s0j"
      },
      "execution_count": null,
      "outputs": []
    },
    {
      "cell_type": "code",
      "source": [
        "ctm.get_topics()"
      ],
      "metadata": {
        "colab": {
          "base_uri": "https://localhost:8080/"
        },
        "id": "bx558YWOKyW6",
        "outputId": "2d6a8836-c63e-4fd0-8aa2-67941acee55a"
      },
      "execution_count": null,
      "outputs": [
        {
          "output_type": "stream",
          "name": "stderr",
          "text": [
            "/usr/local/lib/python3.10/dist-packages/ipykernel/ipkernel.py:283: DeprecationWarning: `should_run_async` will not call `transform_cell` automatically in the future. Please pass the result to `transformed_cell` argument and any exception that happen during thetransform in `preprocessing_exc_tuple` in IPython 7.17 and above.\n",
            "  and should_run_async(code)\n"
          ]
        },
        {
          "output_type": "execute_result",
          "data": {
            "text/plain": [
              "defaultdict(list,\n",
              "            {0: ['optimisation',\n",
              "              'event',\n",
              "              'flowchart',\n",
              "              'transportable',\n",
              "              'organizing',\n",
              "              'macro',\n",
              "              'spelling',\n",
              "              'controlling',\n",
              "              'vision',\n",
              "              'paradigms'],\n",
              "             1: ['automata',\n",
              "              'logic',\n",
              "              'sup',\n",
              "              'theory',\n",
              "              'sub',\n",
              "              'free',\n",
              "              'sets',\n",
              "              'grammars',\n",
              "              'context',\n",
              "              'theorem'],\n",
              "             2: ['algorithm',\n",
              "              'algorithms',\n",
              "              'linear',\n",
              "              'equations',\n",
              "              'problem',\n",
              "              'solution',\n",
              "              'optimal',\n",
              "              'parallel',\n",
              "              'time',\n",
              "              'problems'],\n",
              "             3: ['programming',\n",
              "              'language',\n",
              "              'system',\n",
              "              'data',\n",
              "              'design',\n",
              "              'object',\n",
              "              'oriented',\n",
              "              'based',\n",
              "              'systems',\n",
              "              'database'],\n",
              "             4: ['information',\n",
              "              'library',\n",
              "              'science',\n",
              "              'retrieval',\n",
              "              'computer',\n",
              "              'research',\n",
              "              'simulation',\n",
              "              'new',\n",
              "              'analysis',\n",
              "              'citation']})"
            ]
          },
          "metadata": {},
          "execution_count": 54
        }
      ]
    },
    {
      "cell_type": "markdown",
      "metadata": {
        "id": "ZNRaJJEMiVQb"
      },
      "source": [
        "### From 1990 to 2009"
      ]
    },
    {
      "cell_type": "code",
      "source": [
        "with open(path_from_1990_to_2009) as fin:\n",
        "    reader = csv.reader(fin)\n",
        "    documents = [row[0] for row in reader][:10000]"
      ],
      "metadata": {
        "colab": {
          "base_uri": "https://localhost:8080/"
        },
        "id": "JXCwqUYtOQJO",
        "outputId": "511ef0e3-4342-4c79-c7f0-afe964f77e95"
      },
      "execution_count": null,
      "outputs": [
        {
          "output_type": "stream",
          "name": "stderr",
          "text": [
            "/usr/local/lib/python3.10/dist-packages/ipykernel/ipkernel.py:283: DeprecationWarning: `should_run_async` will not call `transform_cell` automatically in the future. Please pass the result to `transformed_cell` argument and any exception that happen during thetransform in `preprocessing_exc_tuple` in IPython 7.17 and above.\n",
            "  and should_run_async(code)\n"
          ]
        }
      ]
    },
    {
      "cell_type": "code",
      "source": [
        "sp = WhiteSpacePreprocessing(documents, \"english\")\n",
        "preprocessed_documents, unpreprocessed_corpus, vocab, retained_indices = sp.preprocess()"
      ],
      "metadata": {
        "id": "lWjvFL0XOpjP"
      },
      "execution_count": null,
      "outputs": []
    },
    {
      "cell_type": "code",
      "source": [
        "qt = TopicModelDataPreparation(\"all-mpnet-base-v2\")\n",
        "training_dataset = qt.fit(text_for_contextual=unpreprocessed_corpus, text_for_bow=preprocessed_documents)\n",
        "ctm = CombinedTM(bow_size=len(qt.vocab), contextual_size=768, n_components=num_ctm_topics) # n_components = topics\n",
        "ctm.fit(training_dataset) # run the model"
      ],
      "metadata": {
        "colab": {
          "base_uri": "https://localhost:8080/",
          "height": 138,
          "referenced_widgets": [
            "c924860c0d144af78cdab5ed2c4058f9",
            "9afb925d7cc64a8586129aa3d80caa02",
            "3ca9c7a8de344d6baba63edbd549036c",
            "9364f399be8d4411b9963a476f955e21",
            "6301bafbed5346558a59e752a9961bbc",
            "c68524031c874501a9bd4cb9718f54ed",
            "6ae657ae68764eb8a98fda2ae27bfcc6",
            "93a87f097db14f14933a8a5dbcc65e4b",
            "9f09c6dea9cf460a9657c2c4749f5ffa",
            "92a71fb9526f4bedad80b8dd0403a14a",
            "ff1f6e3a04494b298f125607d5aec1bb"
          ]
        },
        "id": "MNQL1lI6Oqd0",
        "outputId": "b5dfe557-b73c-484b-beb9-91555999d611"
      },
      "execution_count": null,
      "outputs": [
        {
          "output_type": "stream",
          "name": "stderr",
          "text": [
            "/usr/local/lib/python3.10/dist-packages/ipykernel/ipkernel.py:283: DeprecationWarning: `should_run_async` will not call `transform_cell` automatically in the future. Please pass the result to `transformed_cell` argument and any exception that happen during thetransform in `preprocessing_exc_tuple` in IPython 7.17 and above.\n",
            "  and should_run_async(code)\n"
          ]
        },
        {
          "output_type": "display_data",
          "data": {
            "text/plain": [
              "Batches:   0%|          | 0/50 [00:00<?, ?it/s]"
            ],
            "application/vnd.jupyter.widget-view+json": {
              "version_major": 2,
              "version_minor": 0,
              "model_id": "c924860c0d144af78cdab5ed2c4058f9"
            }
          },
          "metadata": {}
        },
        {
          "output_type": "stream",
          "name": "stderr",
          "text": [
            "Epoch: [100/100]\t Seen Samples: [992000/992600]\tTrain Loss: 31.450843072706654\tTime: 0:00:03.242955: : 100it [05:34,  3.35s/it]\n",
            "100%|██████████| 156/156 [00:03<00:00, 41.25it/s]\n"
          ]
        }
      ]
    },
    {
      "cell_type": "code",
      "source": [
        "ctm.get_topics()"
      ],
      "metadata": {
        "colab": {
          "base_uri": "https://localhost:8080/"
        },
        "id": "kcQidfYkOrbf",
        "outputId": "14e1c402-f07e-49af-ce1a-672203bc17c6"
      },
      "execution_count": null,
      "outputs": [
        {
          "output_type": "stream",
          "name": "stderr",
          "text": [
            "/usr/local/lib/python3.10/dist-packages/ipykernel/ipkernel.py:283: DeprecationWarning: `should_run_async` will not call `transform_cell` automatically in the future. Please pass the result to `transformed_cell` argument and any exception that happen during thetransform in `preprocessing_exc_tuple` in IPython 7.17 and above.\n",
            "  and should_run_async(code)\n"
          ]
        },
        {
          "output_type": "execute_result",
          "data": {
            "text/plain": [
              "defaultdict(list,\n",
              "            {0: ['mining',\n",
              "              'data',\n",
              "              'recognition',\n",
              "              'spatial',\n",
              "              'query',\n",
              "              'temporal',\n",
              "              'image',\n",
              "              'video',\n",
              "              'indexing',\n",
              "              'face'],\n",
              "             1: ['information',\n",
              "              'multimedia',\n",
              "              'mobile',\n",
              "              'wireless',\n",
              "              'web',\n",
              "              'security',\n",
              "              'management',\n",
              "              'portals',\n",
              "              'services',\n",
              "              'networks'],\n",
              "             2: ['decisions',\n",
              "              'pca',\n",
              "              'inventory',\n",
              "              'practice',\n",
              "              'timed',\n",
              "              'queueing',\n",
              "              'continuity',\n",
              "              'chip',\n",
              "              'mimo',\n",
              "              'expert'],\n",
              "             3: ['problems',\n",
              "              'programming',\n",
              "              'methods',\n",
              "              'algorithms',\n",
              "              'problem',\n",
              "              'global',\n",
              "              'theory',\n",
              "              'equilibrium',\n",
              "              'linear',\n",
              "              'method'],\n",
              "             4: ['process',\n",
              "              'control',\n",
              "              'design',\n",
              "              'model',\n",
              "              'processes',\n",
              "              'based',\n",
              "              'using',\n",
              "              'modeling',\n",
              "              'dynamic',\n",
              "              'scheduling']})"
            ]
          },
          "metadata": {},
          "execution_count": 58
        }
      ]
    },
    {
      "cell_type": "markdown",
      "metadata": {
        "id": "tfgbLy0KiZ5b"
      },
      "source": [
        "### From 2010 onwards"
      ]
    },
    {
      "cell_type": "code",
      "source": [
        "with open(path_from_2010) as fin:\n",
        "    reader = csv.reader(fin)\n",
        "    documents = [row[0] for row in reader][:10000]"
      ],
      "metadata": {
        "colab": {
          "base_uri": "https://localhost:8080/"
        },
        "id": "mzxAk0xfOsVE",
        "outputId": "ec28cdcc-cdf4-4838-f1dd-30146a74be57"
      },
      "execution_count": null,
      "outputs": [
        {
          "output_type": "stream",
          "name": "stderr",
          "text": [
            "/usr/local/lib/python3.10/dist-packages/ipykernel/ipkernel.py:283: DeprecationWarning: `should_run_async` will not call `transform_cell` automatically in the future. Please pass the result to `transformed_cell` argument and any exception that happen during thetransform in `preprocessing_exc_tuple` in IPython 7.17 and above.\n",
            "  and should_run_async(code)\n"
          ]
        }
      ]
    },
    {
      "cell_type": "code",
      "source": [
        "sp = WhiteSpacePreprocessing(documents, \"english\")\n",
        "preprocessed_documents, unpreprocessed_corpus, vocab, retained_indices = sp.preprocess()"
      ],
      "metadata": {
        "colab": {
          "base_uri": "https://localhost:8080/"
        },
        "id": "xobHHupPOt3f",
        "outputId": "4e309b47-0cf5-4b4c-8882-5bfd8d4ea269"
      },
      "execution_count": null,
      "outputs": [
        {
          "output_type": "stream",
          "name": "stderr",
          "text": [
            "/usr/local/lib/python3.10/dist-packages/ipykernel/ipkernel.py:283: DeprecationWarning: `should_run_async` will not call `transform_cell` automatically in the future. Please pass the result to `transformed_cell` argument and any exception that happen during thetransform in `preprocessing_exc_tuple` in IPython 7.17 and above.\n",
            "  and should_run_async(code)\n",
            "/usr/local/lib/python3.10/dist-packages/contextualized_topic_models/utils/preprocessing.py:24: UserWarning: WhiteSpacePreprocessing is deprecated and will be removed in future versions.Use WhiteSpacePreprocessingStopwords.\n",
            "  warnings.warn(\"WhiteSpacePreprocessing is deprecated and will be removed in future versions.\"\n"
          ]
        }
      ]
    },
    {
      "cell_type": "code",
      "source": [
        "qt = TopicModelDataPreparation(\"all-mpnet-base-v2\")\n",
        "training_dataset = qt.fit(text_for_contextual=unpreprocessed_corpus, text_for_bow=preprocessed_documents)\n",
        "ctm = CombinedTM(bow_size=len(qt.vocab), contextual_size=768, n_components=num_ctm_topics) # n_components = topics\n",
        "ctm.fit(training_dataset) # run the model"
      ],
      "metadata": {
        "colab": {
          "base_uri": "https://localhost:8080/",
          "height": 138,
          "referenced_widgets": [
            "268e38aa81a94c0facaf5363176057ac",
            "b95af8dcf70c439c9c09abf4605bd9b5",
            "7685123cebe34f95893e9be553d68fbe",
            "05e8609b3e4648b7badb9f7b3da490f6",
            "b04c1ae2ea05408aa2b5b49feb807ad1",
            "cbaac59e4e15499fa91ad541bc5f00d4",
            "330bfa1bcaa84caaad109fcd4e809c14",
            "4d50716fb22447e095ac46638e9e7f1e",
            "3be182a915d240e297eeae0c61207784",
            "35b135ab36a341f6aef0113122d8d9c8",
            "868ffc2affaa45bb907f3c20d6a41b37"
          ]
        },
        "id": "dwpaaYBiOucv",
        "outputId": "666d809e-d86b-49c7-ca21-fc7524bcc195"
      },
      "execution_count": null,
      "outputs": [
        {
          "output_type": "stream",
          "name": "stderr",
          "text": [
            "/usr/local/lib/python3.10/dist-packages/ipykernel/ipkernel.py:283: DeprecationWarning: `should_run_async` will not call `transform_cell` automatically in the future. Please pass the result to `transformed_cell` argument and any exception that happen during thetransform in `preprocessing_exc_tuple` in IPython 7.17 and above.\n",
            "  and should_run_async(code)\n"
          ]
        },
        {
          "output_type": "display_data",
          "data": {
            "text/plain": [
              "Batches:   0%|          | 0/50 [00:00<?, ?it/s]"
            ],
            "application/vnd.jupyter.widget-view+json": {
              "version_major": 2,
              "version_minor": 0,
              "model_id": "268e38aa81a94c0facaf5363176057ac"
            }
          },
          "metadata": {}
        },
        {
          "output_type": "stream",
          "name": "stderr",
          "text": [
            "Epoch: [100/100]\t Seen Samples: [985600/991500]\tTrain Loss: 29.037352883970584\tTime: 0:00:02.799553: : 100it [05:27,  3.28s/it]\n",
            "100%|██████████| 155/155 [00:03<00:00, 40.84it/s]\n"
          ]
        }
      ]
    },
    {
      "cell_type": "code",
      "source": [
        "ctm.get_topics()"
      ],
      "metadata": {
        "colab": {
          "base_uri": "https://localhost:8080/"
        },
        "id": "ILTO85Z5OvG7",
        "outputId": "c165a8a6-e28e-49f9-f650-e769b1708e98"
      },
      "execution_count": null,
      "outputs": [
        {
          "output_type": "stream",
          "name": "stderr",
          "text": [
            "/usr/local/lib/python3.10/dist-packages/ipykernel/ipkernel.py:283: DeprecationWarning: `should_run_async` will not call `transform_cell` automatically in the future. Please pass the result to `transformed_cell` argument and any exception that happen during thetransform in `preprocessing_exc_tuple` in IPython 7.17 and above.\n",
            "  and should_run_async(code)\n"
          ]
        },
        {
          "output_type": "execute_result",
          "data": {
            "text/plain": [
              "defaultdict(list,\n",
              "            {0: ['company',\n",
              "              'involved',\n",
              "              'layered',\n",
              "              'members',\n",
              "              'dissemination',\n",
              "              'intensive',\n",
              "              'goods',\n",
              "              'transforming',\n",
              "              'estimating',\n",
              "              'communicating'],\n",
              "             1: ['spatial',\n",
              "              'data',\n",
              "              'mining',\n",
              "              'web',\n",
              "              'processing',\n",
              "              'query',\n",
              "              'retrieval',\n",
              "              'text',\n",
              "              'databases',\n",
              "              'semantic'],\n",
              "             2: ['social',\n",
              "              'networks',\n",
              "              'analysis',\n",
              "              'network',\n",
              "              'management',\n",
              "              'security',\n",
              "              'knowledge',\n",
              "              'online',\n",
              "              'privacy',\n",
              "              'media'],\n",
              "             3: ['research',\n",
              "              'science',\n",
              "              'engineering',\n",
              "              'ethics',\n",
              "              'ethical',\n",
              "              'human',\n",
              "              'education',\n",
              "              'technology',\n",
              "              'study',\n",
              "              'case'],\n",
              "             4: ['control',\n",
              "              'model',\n",
              "              'systems',\n",
              "              'models',\n",
              "              'learning',\n",
              "              'modeling',\n",
              "              'time',\n",
              "              'programming',\n",
              "              'recommender',\n",
              "              'system']})"
            ]
          },
          "metadata": {},
          "execution_count": 62
        }
      ]
    }
  ]
}