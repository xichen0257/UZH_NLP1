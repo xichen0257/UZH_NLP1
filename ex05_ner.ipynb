{
  "nbformat": 4,
  "nbformat_minor": 0,
  "metadata": {
    "colab": {
      "provenance": [],
      "gpuType": "T4"
    },
    "kernelspec": {
      "name": "python3",
      "display_name": "Python 3"
    },
    "language_info": {
      "name": "python"
    },
    "accelerator": "GPU"
  },
  "cells": [
    {
      "cell_type": "code",
      "execution_count": null,
      "metadata": {
        "id": "dySDkYQfQYmm"
      },
      "outputs": [],
      "source": [
        "!pip install datasets\n",
        "!pip install accelerate -U"
      ]
    },
    {
      "cell_type": "code",
      "source": [
        "from datasets import load_dataset\n",
        "\n",
        "# Load dataset\n",
        "train1 = load_dataset('polyglot_ner', 'de', split='train[:1000]')\n",
        "train2 = load_dataset('polyglot_ner', 'de', split='train[:3000]')\n",
        "valid = load_dataset('polyglot_ner', 'de', split='train[3000:5000]')"
      ],
      "metadata": {
        "id": "t72q8Ku_QlT6"
      },
      "execution_count": null,
      "outputs": []
    },
    {
      "cell_type": "code",
      "source": [
        "from transformers import AutoTokenizer\n",
        "\n",
        "# Load pre-trained tokenizer: bert-base-german-cased\n",
        "tokenizer = AutoTokenizer.from_pretrained(\"bert-base-german-cased\")"
      ],
      "metadata": {
        "id": "FEfYGNNtjo8A"
      },
      "execution_count": null,
      "outputs": []
    },
    {
      "cell_type": "code",
      "source": [
        "# Create a dictionary which map ner to labels\n",
        "ner_tags = set()\n",
        "for l in train1['ner']:\n",
        "  for tag in l:\n",
        "    ner_tags.add(tag)\n",
        "ner_to_labels = {tag: i for i, tag in enumerate(ner_tags)}\n",
        "print(ner_tags)\n",
        "print(ner_to_labels)"
      ],
      "metadata": {
        "colab": {
          "base_uri": "https://localhost:8080/"
        },
        "id": "XwBHlbp0fM3z",
        "outputId": "e211f671-d880-4590-fad7-fdc8f88cdb3c"
      },
      "execution_count": null,
      "outputs": [
        {
          "output_type": "stream",
          "name": "stdout",
          "text": [
            "{'LOC', 'O', 'PER', 'ORG'}\n",
            "{'LOC': 0, 'O': 1, 'PER': 2, 'ORG': 3}\n"
          ]
        }
      ]
    },
    {
      "cell_type": "code",
      "source": [
        "# Because some tokens are separated into multiple sub-tokens,\n",
        "# We need to adjust the NER\n",
        "def tokenize_and_align_labels(dataset):\n",
        "  tokenized_dataset = []\n",
        "\n",
        "  for row in dataset:\n",
        "    tokenized_input = tokenizer(row['words'], is_split_into_words=True, padding='max_length', max_length=512, truncation=True)\n",
        "    adjusted_ner_labels = []\n",
        "    ner_mapping = {index: ner_to_labels[ner] for index, ner in enumerate(row[\"ner\"])}\n",
        "    word_idx_list = tokenized_input.word_ids()\n",
        "    for word_idx in word_idx_list:\n",
        "      if word_idx is None:\n",
        "        adjusted_ner_labels.append(-100)\n",
        "      else:\n",
        "        adjusted_ner_labels.append(ner_mapping[word_idx])\n",
        "    tokenized_input[\"labels\"] = adjusted_ner_labels\n",
        "    tokenized_dataset.append(tokenized_input)\n",
        "\n",
        "  return tokenized_dataset"
      ],
      "metadata": {
        "id": "yPbPP_lGO4DR"
      },
      "execution_count": null,
      "outputs": []
    },
    {
      "cell_type": "code",
      "source": [
        "from datasets import Dataset\n",
        "\n",
        "tokenized_train1 = Dataset.from_list(tokenize_and_align_labels(train1))\n",
        "tokenized_train2 = Dataset.from_list(tokenize_and_align_labels(train2))\n",
        "tokenized_valid = Dataset.from_list(tokenize_and_align_labels(valid))"
      ],
      "metadata": {
        "id": "ch5CW0YJPfHS"
      },
      "execution_count": null,
      "outputs": []
    },
    {
      "cell_type": "markdown",
      "source": [
        "**Compute F1-score**"
      ],
      "metadata": {
        "id": "c1WGkHjhEDP7"
      }
    },
    {
      "cell_type": "code",
      "source": [
        "from sklearn.metrics import f1_score\n",
        "import numpy as np\n",
        "\n",
        "# Define a function to compute metrics\n",
        "def compute_metrics(p):\n",
        "  # predictions: prediction\n",
        "  # labels: ground_truth\n",
        "  predictions, labels = p.predictions, p.label_ids\n",
        "  predictions = np.argmax(predictions, axis=2)\n",
        "\n",
        "  # Remove ignored index (-100) from the predictions\n",
        "  true_predictions = [\n",
        "    [ner for (ner, label) in zip(prediction, label) if label != -100] for prediction, label in zip(predictions, labels)\n",
        "  ]\n",
        "  true_labels = [\n",
        "    [label for label in label_ids if label != -100] for label_ids in labels\n",
        "  ]\n",
        "\n",
        "  flat_predictions = [ner for sublist in true_predictions for ner in sublist]\n",
        "  flat_true_labels = [label for sublist in true_labels for label in sublist]\n",
        "\n",
        "  return {\n",
        "    \"f1_micro\": f1_score(flat_true_labels, flat_predictions, average=\"micro\"),\n",
        "    \"f1_macro\": f1_score(flat_true_labels, flat_predictions, average=\"macro\")\n",
        "  }"
      ],
      "metadata": {
        "id": "nT9kXz59FmtS"
      },
      "execution_count": null,
      "outputs": []
    },
    {
      "cell_type": "markdown",
      "source": [
        "**Finetune Model**"
      ],
      "metadata": {
        "id": "1B6FCUgfBnkn"
      }
    },
    {
      "cell_type": "code",
      "source": [
        "from transformers import BertForTokenClassification, Trainer, TrainingArguments\n",
        "\n",
        "model = BertForTokenClassification.from_pretrained('bert-base-german-cased', num_labels=len(ner_tags))"
      ],
      "metadata": {
        "colab": {
          "base_uri": "https://localhost:8080/"
        },
        "id": "TPZtdKLzH33h",
        "outputId": "e5e7cc28-30d8-415c-edcf-33e6c8f9d45e"
      },
      "execution_count": null,
      "outputs": [
        {
          "output_type": "stream",
          "name": "stderr",
          "text": [
            "Some weights of BertForTokenClassification were not initialized from the model checkpoint at bert-base-german-cased and are newly initialized: ['classifier.weight', 'classifier.bias']\n",
            "You should probably TRAIN this model on a down-stream task to be able to use it for predictions and inference.\n"
          ]
        }
      ]
    },
    {
      "cell_type": "markdown",
      "source": [
        "(1) Fine-tuned with 1000 sentences"
      ],
      "metadata": {
        "id": "2QKE1lBsT29z"
      }
    },
    {
      "cell_type": "code",
      "source": [
        "# Define training arguments\n",
        "training_args1 = TrainingArguments(\n",
        "    output_dir=\"results1\",\n",
        "    num_train_epochs=4,\n",
        "    per_device_train_batch_size=4,\n",
        "    per_device_eval_batch_size=4,\n",
        "    weight_decay=0.01,\n",
        ")\n",
        "\n",
        "# Initialize Trainer\n",
        "trainer1 = Trainer(\n",
        "    model=model,\n",
        "    args=training_args1,\n",
        "    train_dataset=tokenized_train1,  # Use tokenized training data\n",
        "    tokenizer=tokenizer,\n",
        ")"
      ],
      "metadata": {
        "id": "XKieRz6mBiWE"
      },
      "execution_count": null,
      "outputs": []
    },
    {
      "cell_type": "code",
      "source": [
        "# Fine-tune the model\n",
        "trainer1.train()"
      ],
      "metadata": {
        "colab": {
          "base_uri": "https://localhost:8080/",
          "height": 190
        },
        "id": "2BhvyfvnH0Zy",
        "outputId": "a801dbd1-fbf2-4d3a-8af6-e289c5c7a1fc"
      },
      "execution_count": null,
      "outputs": [
        {
          "output_type": "display_data",
          "data": {
            "text/plain": [
              "<IPython.core.display.HTML object>"
            ],
            "text/html": [
              "\n",
              "    <div>\n",
              "      \n",
              "      <progress value='1000' max='1000' style='width:300px; height:20px; vertical-align: middle;'></progress>\n",
              "      [1000/1000 06:54, Epoch 4/4]\n",
              "    </div>\n",
              "    <table border=\"1\" class=\"dataframe\">\n",
              "  <thead>\n",
              " <tr style=\"text-align: left;\">\n",
              "      <th>Step</th>\n",
              "      <th>Training Loss</th>\n",
              "    </tr>\n",
              "  </thead>\n",
              "  <tbody>\n",
              "    <tr>\n",
              "      <td>500</td>\n",
              "      <td>0.157100</td>\n",
              "    </tr>\n",
              "    <tr>\n",
              "      <td>1000</td>\n",
              "      <td>0.026500</td>\n",
              "    </tr>\n",
              "  </tbody>\n",
              "</table><p>"
            ]
          },
          "metadata": {}
        },
        {
          "output_type": "execute_result",
          "data": {
            "text/plain": [
              "TrainOutput(global_step=1000, training_loss=0.09181080532073975, metrics={'train_runtime': 414.9712, 'train_samples_per_second': 9.639, 'train_steps_per_second': 2.41, 'total_flos': 1045205925888000.0, 'train_loss': 0.09181080532073975, 'epoch': 4.0})"
            ]
          },
          "metadata": {},
          "execution_count": 43
        }
      ]
    },
    {
      "cell_type": "code",
      "source": [
        "# Do prediction on the validation set\n",
        "pred = trainer1.predict(tokenized_valid)"
      ],
      "metadata": {
        "id": "xPOZqlh7HzLm"
      },
      "execution_count": null,
      "outputs": []
    },
    {
      "cell_type": "code",
      "source": [
        "compute_metrics(pred)"
      ],
      "metadata": {
        "colab": {
          "base_uri": "https://localhost:8080/"
        },
        "id": "6QzDojwvK5vb",
        "outputId": "c17b8724-894f-48ef-b73e-5e7acc96a687"
      },
      "execution_count": null,
      "outputs": [
        {
          "output_type": "execute_result",
          "data": {
            "text/plain": [
              "{'f1_micro': 0.9420848593887211, 'f1_macro': 0.7007021729605327}"
            ]
          },
          "metadata": {},
          "execution_count": 45
        }
      ]
    },
    {
      "cell_type": "code",
      "source": [
        "del trainer1"
      ],
      "metadata": {
        "id": "bW0SIpRFRAbg"
      },
      "execution_count": null,
      "outputs": []
    },
    {
      "cell_type": "markdown",
      "source": [
        "(2) Fine-tuned with 3000 sentences"
      ],
      "metadata": {
        "id": "h8-TcriuQ300"
      }
    },
    {
      "cell_type": "code",
      "source": [
        "# Define training arguments\n",
        "training_args2 = TrainingArguments(\n",
        "    output_dir=\"results2\",\n",
        "    num_train_epochs=4,\n",
        "    per_device_train_batch_size=4,\n",
        "    per_device_eval_batch_size=4,\n",
        "    weight_decay=0.01,\n",
        ")\n",
        "\n",
        "# Initialize Trainer\n",
        "trainer2 = Trainer(\n",
        "    model=model,\n",
        "    args=training_args2,\n",
        "    train_dataset=tokenized_train2,  # Use tokenized training data\n",
        "    tokenizer=tokenizer,\n",
        ")"
      ],
      "metadata": {
        "id": "E4OaTtWEQ3dw"
      },
      "execution_count": null,
      "outputs": []
    },
    {
      "cell_type": "code",
      "source": [
        "# Fine-tune the model\n",
        "trainer2.train()"
      ],
      "metadata": {
        "colab": {
          "base_uri": "https://localhost:8080/",
          "height": 316
        },
        "id": "XbsuJNcOLfgX",
        "outputId": "8db1e355-a436-49f0-8a1e-7d689f118df1"
      },
      "execution_count": null,
      "outputs": [
        {
          "output_type": "display_data",
          "data": {
            "text/plain": [
              "<IPython.core.display.HTML object>"
            ],
            "text/html": [
              "\n",
              "    <div>\n",
              "      \n",
              "      <progress value='3000' max='3000' style='width:300px; height:20px; vertical-align: middle;'></progress>\n",
              "      [3000/3000 20:55, Epoch 4/4]\n",
              "    </div>\n",
              "    <table border=\"1\" class=\"dataframe\">\n",
              "  <thead>\n",
              " <tr style=\"text-align: left;\">\n",
              "      <th>Step</th>\n",
              "      <th>Training Loss</th>\n",
              "    </tr>\n",
              "  </thead>\n",
              "  <tbody>\n",
              "    <tr>\n",
              "      <td>500</td>\n",
              "      <td>0.138400</td>\n",
              "    </tr>\n",
              "    <tr>\n",
              "      <td>1000</td>\n",
              "      <td>0.098800</td>\n",
              "    </tr>\n",
              "    <tr>\n",
              "      <td>1500</td>\n",
              "      <td>0.056200</td>\n",
              "    </tr>\n",
              "    <tr>\n",
              "      <td>2000</td>\n",
              "      <td>0.028300</td>\n",
              "    </tr>\n",
              "    <tr>\n",
              "      <td>2500</td>\n",
              "      <td>0.018700</td>\n",
              "    </tr>\n",
              "    <tr>\n",
              "      <td>3000</td>\n",
              "      <td>0.009000</td>\n",
              "    </tr>\n",
              "  </tbody>\n",
              "</table><p>"
            ]
          },
          "metadata": {}
        },
        {
          "output_type": "execute_result",
          "data": {
            "text/plain": [
              "TrainOutput(global_step=3000, training_loss=0.05824965858459473, metrics={'train_runtime': 1256.2091, 'train_samples_per_second': 9.553, 'train_steps_per_second': 2.388, 'total_flos': 3135617777664000.0, 'train_loss': 0.05824965858459473, 'epoch': 4.0})"
            ]
          },
          "metadata": {},
          "execution_count": 48
        }
      ]
    },
    {
      "cell_type": "code",
      "source": [
        "# Do prediction on the validation set\n",
        "pred = trainer2.predict(tokenized_valid)"
      ],
      "metadata": {
        "colab": {
          "base_uri": "https://localhost:8080/",
          "height": 17
        },
        "id": "gCzRATP5LfeJ",
        "outputId": "267366bc-3ea6-485f-f186-12b791340657"
      },
      "execution_count": null,
      "outputs": [
        {
          "output_type": "display_data",
          "data": {
            "text/plain": [
              "<IPython.core.display.HTML object>"
            ],
            "text/html": []
          },
          "metadata": {}
        }
      ]
    },
    {
      "cell_type": "code",
      "source": [
        "compute_metrics(pred)"
      ],
      "metadata": {
        "colab": {
          "base_uri": "https://localhost:8080/"
        },
        "id": "VzYo5ejfLfb4",
        "outputId": "525c8e92-f006-4c2f-f6f1-a3b9fd7c5a9c"
      },
      "execution_count": null,
      "outputs": [
        {
          "output_type": "execute_result",
          "data": {
            "text/plain": [
              "{'f1_micro': 0.945768810640622, 'f1_macro': 0.7280222455819582}"
            ]
          },
          "metadata": {},
          "execution_count": 50
        }
      ]
    },
    {
      "cell_type": "code",
      "source": [
        "del trainer2"
      ],
      "metadata": {
        "id": "s4Hcp39JLfZc"
      },
      "execution_count": null,
      "outputs": []
    },
    {
      "cell_type": "markdown",
      "source": [
        "(3) Fine-tuned with 3000 sentences and frozen embeddings"
      ],
      "metadata": {
        "id": "Z38FacVqVpt6"
      }
    },
    {
      "cell_type": "code",
      "source": [
        "def freeze_weights(model):\n",
        "  for param in model.base_model.parameters():\n",
        "    param.requires_grad = False\n",
        "  return model"
      ],
      "metadata": {
        "id": "fRGnYiBXVqXy"
      },
      "execution_count": null,
      "outputs": []
    },
    {
      "cell_type": "code",
      "source": [
        "# Define training arguments\n",
        "training_args3 = TrainingArguments(\n",
        "    output_dir=\"results3\",\n",
        "    num_train_epochs=4,\n",
        "    per_device_train_batch_size=4,\n",
        "    per_device_eval_batch_size=4,\n",
        "    weight_decay=0.01,\n",
        ")\n",
        "\n",
        "# Initialize Trainer\n",
        "trainer3 = Trainer(\n",
        "    model=freeze_weights(model),\n",
        "    args=training_args3,\n",
        "    train_dataset=tokenized_train2,  # Use tokenized training data\n",
        "    tokenizer=tokenizer,\n",
        ")"
      ],
      "metadata": {
        "id": "b0nAQ5jmVtBj"
      },
      "execution_count": null,
      "outputs": []
    },
    {
      "cell_type": "code",
      "source": [
        "# Fine-tune the model\n",
        "trainer3.train()"
      ],
      "metadata": {
        "colab": {
          "base_uri": "https://localhost:8080/",
          "height": 316
        },
        "id": "AE-Tpj7lV2Al",
        "outputId": "4214627d-99af-4509-bb10-599b5babb26e"
      },
      "execution_count": null,
      "outputs": [
        {
          "output_type": "display_data",
          "data": {
            "text/plain": [
              "<IPython.core.display.HTML object>"
            ],
            "text/html": [
              "\n",
              "    <div>\n",
              "      \n",
              "      <progress value='3000' max='3000' style='width:300px; height:20px; vertical-align: middle;'></progress>\n",
              "      [3000/3000 07:49, Epoch 4/4]\n",
              "    </div>\n",
              "    <table border=\"1\" class=\"dataframe\">\n",
              "  <thead>\n",
              " <tr style=\"text-align: left;\">\n",
              "      <th>Step</th>\n",
              "      <th>Training Loss</th>\n",
              "    </tr>\n",
              "  </thead>\n",
              "  <tbody>\n",
              "    <tr>\n",
              "      <td>500</td>\n",
              "      <td>0.003800</td>\n",
              "    </tr>\n",
              "    <tr>\n",
              "      <td>1000</td>\n",
              "      <td>0.004700</td>\n",
              "    </tr>\n",
              "    <tr>\n",
              "      <td>1500</td>\n",
              "      <td>0.004900</td>\n",
              "    </tr>\n",
              "    <tr>\n",
              "      <td>2000</td>\n",
              "      <td>0.006100</td>\n",
              "    </tr>\n",
              "    <tr>\n",
              "      <td>2500</td>\n",
              "      <td>0.004200</td>\n",
              "    </tr>\n",
              "    <tr>\n",
              "      <td>3000</td>\n",
              "      <td>0.003100</td>\n",
              "    </tr>\n",
              "  </tbody>\n",
              "</table><p>"
            ]
          },
          "metadata": {}
        },
        {
          "output_type": "execute_result",
          "data": {
            "text/plain": [
              "TrainOutput(global_step=3000, training_loss=0.004473352630933126, metrics={'train_runtime': 469.6164, 'train_samples_per_second': 25.553, 'train_steps_per_second': 6.388, 'total_flos': 3135617777664000.0, 'train_loss': 0.004473352630933126, 'epoch': 4.0})"
            ]
          },
          "metadata": {},
          "execution_count": 54
        }
      ]
    },
    {
      "cell_type": "code",
      "source": [
        "# Do prediction on the validation set\n",
        "pred = trainer3.predict(tokenized_valid)"
      ],
      "metadata": {
        "id": "5LB8r3NHV6ei"
      },
      "execution_count": null,
      "outputs": []
    },
    {
      "cell_type": "code",
      "source": [
        "compute_metrics(pred)"
      ],
      "metadata": {
        "colab": {
          "base_uri": "https://localhost:8080/"
        },
        "id": "8BMH_d_3WAvd",
        "outputId": "4e482c0e-9575-4c28-9385-7b1462820bba"
      },
      "execution_count": null,
      "outputs": [
        {
          "output_type": "execute_result",
          "data": {
            "text/plain": [
              "{'f1_micro': 0.945704555676926, 'f1_macro': 0.7282359596746613}"
            ]
          },
          "metadata": {},
          "execution_count": 56
        }
      ]
    }
  ]
}